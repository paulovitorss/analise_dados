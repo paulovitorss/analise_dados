{
 "cells": [
  {
   "metadata": {},
   "cell_type": "code",
   "source": [
    "import pymongo\n",
    "import pandas as pd\n",
    "import matplotlib.pyplot as plt"
   ],
   "id": "2e803cd753c4b9ec",
   "outputs": [],
   "execution_count": null
  },
  {
   "metadata": {},
   "cell_type": "code",
   "source": [
    "client = pymongo.MongoClient(\"mongodb://localhost:27017/\")\n",
    "db = client[\"dadosVivamente\"]\n",
    "collection = db[\"postsComPerguntasComInfos\"]"
   ],
   "id": "faa330c2931ec88",
   "outputs": [],
   "execution_count": null
  },
  {
   "metadata": {},
   "cell_type": "code",
   "source": [
    "# Carregue os documentos da coleção que possuem tristeza maior ou igual a 2\n",
    "filtro = {\"nivel\": {\"$gte\": 2}}\n",
    "documentos = collection.find(filtro)"
   ],
   "id": "8bb93f6203f9ea61",
   "outputs": [],
   "execution_count": null
  },
  {
   "metadata": {},
   "cell_type": "code",
   "source": [
    "# Converta para DataFrame\n",
    "df = pd.DataFrame(list(documentos))"
   ],
   "id": "251b7da6f76ba671",
   "outputs": [],
   "execution_count": null
  },
  {
   "metadata": {},
   "cell_type": "code",
   "source": [
    "# Exiba as primeiras linhas do DataFrame\n",
    "df.head()"
   ],
   "id": "7a907b3760c3f2c6",
   "outputs": [],
   "execution_count": null
  },
  {
   "metadata": {},
   "cell_type": "code",
   "source": [
    "# Salvar em um arquivo CSV\n",
    "df.to_csv(\"posts_com_perguntas_com_infos.csv\", index=False)"
   ],
   "id": "1c04d5a5ab68a56d",
   "outputs": [],
   "execution_count": null
  },
  {
   "metadata": {},
   "cell_type": "code",
   "source": [
    "# Agrupar por usuário, mês e ano\n",
    "posts_grouped = df.groupby(['id_usuario', 'mes', 'ano']).size().reset_index(name='quantidade')\n",
    "\n",
    "# Adicionar coluna com o período\n",
    "posts_grouped['periodo'] = posts_grouped['mes'].astype(str) + '/' + posts_grouped['ano'].astype(str)"
   ],
   "id": "bc112349578ce68d",
   "outputs": [],
   "execution_count": null
  },
  {
   "metadata": {},
   "cell_type": "code",
   "source": [
    "# Criar o gráfico de linha para cada usuário\n",
    "for usuario in posts_grouped['id_usuario'].unique():\n",
    "    df_usuario = posts_grouped[posts_grouped['id_usuario'] == usuario]\n",
    "\n",
    "    # Configurar o gráfico de linha\n",
    "    plt.figure(figsize=(20, 8))  # Aumentar o tamanho da figura\n",
    "\n",
    "    plt.plot(df_usuario['periodo'], df_usuario['quantidade'], marker='o', linestyle='-', color='blue')\n",
    "\n",
    "    # Adicionar título e rótulos\n",
    "    plt.title(f'Quantidade de Posts por Mês/Ano nivel => 2 - Usuário: {usuario}')\n",
    "    plt.xlabel('Mês/Ano')\n",
    "    plt.ylabel('Quantidade de Posts')\n",
    "\n",
    "    # Melhorar a legibilidade dos rótulos do eixo X\n",
    "    plt.xticks(rotation=45, ha='right', fontsize=10)\n",
    "    \n",
    "    # Aumentar o pad dos rótulos do eixo X\n",
    "    plt.gca().tick_params(axis='x', pad=14)  # Aumenta o espaço entre os rótulos e o eixo\n",
    "\n",
    "    # Adicionar grid\n",
    "    plt.grid(True, axis='y')\n",
    "\n",
    "    # Ajustar o layout para evitar sobreposição, com mais padding\n",
    "    plt.tight_layout(pad=8.0)  # Aumentar o padding geral do layout\n",
    "\n",
    "    # Adicionar espaço extra ao layout se necessário\n",
    "    plt.subplots_adjust(bottom=0.2)  # Adiciona mais espaço abaixo dos rótulos do eixo X\n",
    "\n",
    "    # Salvar o gráfico, se desejar\n",
    "    # plt.savefig(f'grafico_posts_usuario_{usuario}.png')\n",
    "\n",
    "    # Mostrar o gráfico\n",
    "    plt.show()\n",
    "\n",
    "    # Fechar a figura explicitamente para liberar memória\n",
    "    plt.close()"
   ],
   "id": "713ce2f26624a9bb",
   "outputs": [],
   "execution_count": null
  },
  {
   "metadata": {},
   "cell_type": "code",
   "source": "",
   "id": "6bc958401d2f2fe5",
   "outputs": [],
   "execution_count": null
  }
 ],
 "metadata": {
  "kernelspec": {
   "display_name": "Python 3",
   "language": "python",
   "name": "python3"
  },
  "language_info": {
   "codemirror_mode": {
    "name": "ipython",
    "version": 2
   },
   "file_extension": ".py",
   "mimetype": "text/x-python",
   "name": "python",
   "nbconvert_exporter": "python",
   "pygments_lexer": "ipython2",
   "version": "2.7.6"
  }
 },
 "nbformat": 4,
 "nbformat_minor": 5
}
