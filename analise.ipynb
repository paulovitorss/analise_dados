{
 "cells": [
  {
   "metadata": {},
   "cell_type": "markdown",
   "source": "# Importando as bibliotecas",
   "id": "2bf9d9363b7b99f2"
  },
  {
   "metadata": {
    "ExecuteTime": {
     "end_time": "2024-09-18T23:56:36.319529Z",
     "start_time": "2024-09-18T23:56:33.016548Z"
    }
   },
   "cell_type": "code",
   "source": [
    "import pandas as pd\n",
    "import nltk\n",
    "\n",
    "nltk.download('stopwords', quiet=True)\n",
    "nltk.download('wordnet', quiet=True)\n",
    "nltk.download('omw-1.4', quiet=True)\n",
    "nltk.download('averaged_perceptron_tagger', quiet=True)\n",
    "nltk.download('punkt', quiet=True)\n",
    "nltk.download('punkt_tab', quiet=True)\n",
    "nltk.download('averaged_perceptron_tagger_eng', quiet=True)\n",
    "from datetime import datetime\n",
    "from db import connection_db as conndb\n",
    "from db import filters\n",
    "from utils.plot_graphs import PlotGraphs\n",
    "from utils.text_treatment import TextTreatment\n",
    "from utils.text_vectorization import TextVectorization\n",
    "from dateutil.relativedelta import relativedelta\n",
    "from utils.nuvem_palavras import NuvemPalavras\n",
    "from tqdm.auto import tqdm\n",
    "\n",
    "tqdm.pandas()\n",
    "from utils.busca_palavras import BuscaPalavras\n",
    "from utils.facebook_prophet import FacebookProphet\n",
    "from utils.estracao_interacao import ExtracaoInteracao"
   ],
   "id": "4761db26da7a2327",
   "outputs": [
    {
     "name": "stderr",
     "output_type": "stream",
     "text": [
      "ERROR:prophet.plot:Importing plotly failed. Interactive plots will not work.\n"
     ]
    }
   ],
   "execution_count": 1
  },
  {
   "metadata": {
    "ExecuteTime": {
     "end_time": "2024-09-18T23:56:36.336564Z",
     "start_time": "2024-09-18T23:56:36.330820Z"
    }
   },
   "cell_type": "code",
   "source": [
    "mongo_connection = conndb.MongoDBConnection(uri='mongodb://localhost:27017/', database_name='dadosVivamente',\n",
    "                                            collection_name='dadosSemFiltros')\n",
    "mongo_connection.connect()\n",
    "collection = mongo_connection.collection"
   ],
   "id": "7a6bb32be9aeb75a",
   "outputs": [
    {
     "name": "stdout",
     "output_type": "stream",
     "text": [
      "Conexão estabelecida com sucesso ao banco de dados.\n"
     ]
    }
   ],
   "execution_count": 2
  },
  {
   "metadata": {
    "ExecuteTime": {
     "end_time": "2024-09-18T23:56:36.420301Z",
     "start_time": "2024-09-18T23:56:36.413147Z"
    }
   },
   "cell_type": "code",
   "source": [
    "collection_filters = filters.CollectionFilters(collection)\n",
    "collection_filters.apply_pipeline1('dadosComFiltrosIniciais')\n",
    "collection_filters.apply_pipeline2(7, 2, 'posts7anos2anos')\n",
    "collection_filters.apply_pipeline3('postsComBDIAndInfos')\n",
    "collection_filters.apply_pipeline4('postsComBDIAndInfosFiltroDataPosts')\n",
    "data_inicio = datetime(2017, 12, 1)\n",
    "data_fim = data_inicio - relativedelta(months=2)\n",
    "collection_filters.apply_pipeline5('postsFiltradosPorData', data_inicio, data_fim)\n",
    "collection = collection_filters.collection"
   ],
   "id": "ba5a47bd08e116ad",
   "outputs": [
    {
     "name": "stderr",
     "output_type": "stream",
     "text": [
      "INFO:root:A coleção já existe: dadosComFiltrosIniciais\n",
      "INFO:root:A coleção já existe: posts7anos2anos\n",
      "INFO:root:A coleção já existe: postsComBDIAndInfos\n",
      "INFO:root:A coleção já existe: postsComBDIAndInfosFiltroDataPosts\n",
      "INFO:root:A coleção já existe: postsFiltradosPorData\n"
     ]
    }
   ],
   "execution_count": 3
  },
  {
   "metadata": {
    "ExecuteTime": {
     "end_time": "2024-09-18T23:56:36.503176Z",
     "start_time": "2024-09-18T23:56:36.460990Z"
    }
   },
   "cell_type": "code",
   "source": [
    "print('Quantidade de Usuários com nível 2:', collection_filters.quant_users_cat('nivel', '$eq', 2))\n",
    "print('Quantidade de Usuários do sexo Masculino com nível 2:',\n",
    "      collection_filters.count_users_by_gender('nivel', '$eq', 2, 'M'))\n",
    "print('Quantidade de Usuários do sexo Feminino com nível 2:',\n",
    "      collection_filters.count_users_by_gender('nivel', '$eq', 2, 'F'))"
   ],
   "id": "4b8dd5b8ffbbbc44",
   "outputs": [
    {
     "name": "stdout",
     "output_type": "stream",
     "text": [
      "Quantidade de Usuários com nível 2: 137\n",
      "Quantidade de Usuários do sexo Masculino com nível 2: 18\n",
      "Quantidade de Usuários do sexo Feminino com nível 2: 119\n"
     ]
    }
   ],
   "execution_count": 4
  },
  {
   "metadata": {
    "ExecuteTime": {
     "end_time": "2024-09-18T23:56:36.518231Z",
     "start_time": "2024-09-18T23:56:36.515886Z"
    }
   },
   "cell_type": "code",
   "source": [
    "# Filtrando documentos com o atributo maior que 3\n",
    "filtro = {\"nivel\": {\"$eq\": 2}}\n",
    "documentos = collection.find(filtro)"
   ],
   "id": "ea19f91952d67bca",
   "outputs": [],
   "execution_count": 5
  },
  {
   "metadata": {
    "ExecuteTime": {
     "end_time": "2024-09-18T23:56:36.818202Z",
     "start_time": "2024-09-18T23:56:36.557903Z"
    }
   },
   "cell_type": "code",
   "source": [
    "# Transformando os documentos em um DataFrame\n",
    "df = pd.DataFrame(list(documentos))\n",
    "print(df.dtypes)"
   ],
   "id": "8e80f1ac50e27240",
   "outputs": [
    {
     "name": "stdout",
     "output_type": "stream",
     "text": [
      "_id                         object\n",
      "idade                        int64\n",
      "sexo                        object\n",
      "id_usuario                  object\n",
      "nivel                      float64\n",
      "pessimismo                  object\n",
      "tristeza                    object\n",
      "fracasso                    object\n",
      "prazer                      object\n",
      "culpa                       object\n",
      "punicao                     object\n",
      "estima                      object\n",
      "critica                     object\n",
      "suicida                     object\n",
      "choro                       object\n",
      "agitacao                    object\n",
      "interesse                   object\n",
      "indecisao                   object\n",
      "desvalorizacao              object\n",
      "energia                     object\n",
      "sono                        object\n",
      "irritabilidade              object\n",
      "apetite                     object\n",
      "concentracao                object\n",
      "fadiga                      object\n",
      "int_sexo                    object\n",
      "quantAmigos                 object\n",
      "postMessage                 object\n",
      "postStory                   object\n",
      "postCreated_time    datetime64[ns]\n",
      "diaDaSemana                 object\n",
      "hora                         int64\n",
      "minutos                      int64\n",
      "diaDoMes                     int64\n",
      "mes                          int64\n",
      "ano                          int64\n",
      "dtype: object\n"
     ]
    }
   ],
   "execution_count": 6
  },
  {
   "metadata": {
    "ExecuteTime": {
     "end_time": "2024-09-18T23:56:36.912562Z",
     "start_time": "2024-09-18T23:56:36.888106Z"
    }
   },
   "cell_type": "code",
   "source": [
    "# Lista de colunas que precisam ser convertidas\n",
    "colunas_para_converter = [\n",
    "    'pessimismo', 'tristeza', 'fracasso', 'prazer', 'culpa', 'punicao', 'estima',\n",
    "    'critica', 'suicida', 'choro', 'agitacao', 'interesse', 'indecisao',\n",
    "    'desvalorizacao', 'energia', 'sono', 'irritabilidade', 'apetite',\n",
    "    'concentracao', 'fadiga', 'int_sexo', 'quantAmigos'\n",
    "]\n",
    "\n",
    "df[colunas_para_converter] = df[colunas_para_converter].astype('int64')"
   ],
   "id": "a6cd10d242776211",
   "outputs": [],
   "execution_count": 7
  },
  {
   "metadata": {
    "ExecuteTime": {
     "end_time": "2024-09-18T23:56:37.075290Z",
     "start_time": "2024-09-18T23:56:36.952577Z"
    }
   },
   "cell_type": "code",
   "source": [
    "# Salvar o DataFrame em um arquivo CSV\n",
    "df.to_csv('dados/com_filtros_datas/2meses/so_suicida_2_meses.csv', index=False)"
   ],
   "id": "dffd3dec7a6ba792",
   "outputs": [],
   "execution_count": 8
  },
  {
   "metadata": {
    "ExecuteTime": {
     "end_time": "2024-09-18T23:56:37.225877Z",
     "start_time": "2024-09-18T23:56:37.089646Z"
    }
   },
   "cell_type": "code",
   "source": [
    "extrator = ExtracaoInteracao(df)\n",
    "\n",
    "# Extrair as interações e obter o DataFrame atualizado\n",
    "df_com_interacoes = extrator.extract_interactions()"
   ],
   "id": "be4d0794919ced84",
   "outputs": [],
   "execution_count": 9
  },
  {
   "metadata": {
    "ExecuteTime": {
     "end_time": "2024-09-18T23:56:37.385587Z",
     "start_time": "2024-09-18T23:56:37.243346Z"
    }
   },
   "cell_type": "code",
   "source": "df.to_csv('dados/com_filtros_datas/2meses/interacoes.csv', index=False)",
   "id": "f31160ac92aa96ed",
   "outputs": [],
   "execution_count": 10
  },
  {
   "metadata": {},
   "cell_type": "markdown",
   "source": "# Utilizando o Facebook Prophet para prever a quantidade de posts",
   "id": "57a32d208716ff91"
  },
  {
   "metadata": {},
   "cell_type": "code",
   "source": [
    "facebook_prophet = FacebookProphet()\n",
    "\n",
    "facebook_prophet.prophet(df, 'postCreated_time')"
   ],
   "id": "dd5d15d74cfa2a30",
   "outputs": [],
   "execution_count": null
  },
  {
   "metadata": {},
   "cell_type": "markdown",
   "source": "# Plotar quantidade de posts por usuário",
   "id": "c6f59760f3b6d37e"
  },
  {
   "metadata": {},
   "cell_type": "code",
   "source": [
    "plot_graphs = PlotGraphs()\n",
    "\n",
    "# Agrupar por usuário, mês e ano\n",
    "posts_grouped = df.groupby(['id_usuario', 'mes', 'ano']).size().reset_index(name='quantidade')\n",
    "\n",
    "# Adicionar coluna com o período e converter para datetime\n",
    "posts_grouped['periodo'] = pd.to_datetime(posts_grouped['mes'].astype(str) + '/' + posts_grouped['ano'].astype(str),\n",
    "                                          format='%m/%Y')\n",
    "\n",
    "# Deve retornar 0 se a conversão foi bem-sucedida.\n",
    "print(posts_grouped['periodo'].isnull().sum())\n",
    "\n",
    "posts_grouped.dtypes"
   ],
   "id": "337f2d80271498b7",
   "outputs": [],
   "execution_count": null
  },
  {
   "metadata": {},
   "cell_type": "code",
   "source": "# plot_graphs.plot_posts_per_user(posts_grouped, 'dados/com_filtros_datas/2meses/graficos')",
   "id": "723527524f4964ec",
   "outputs": [],
   "execution_count": null
  },
  {
   "metadata": {},
   "cell_type": "markdown",
   "source": "# Efentuando a limpeza dos dados",
   "id": "44e73a070a35b8a2"
  },
  {
   "metadata": {},
   "cell_type": "code",
   "source": "tratamento_texto = TextTreatment()",
   "id": "334cc9686a30bde0",
   "outputs": [],
   "execution_count": null
  },
  {
   "metadata": {},
   "cell_type": "code",
   "source": [
    "df['postMessageLimpo'] = df['postMessage'].fillna('').progress_apply(\n",
    "    lambda texto: tratamento_texto.preprocessamento_texto(texto) if texto else '')"
   ],
   "id": "1f4ea101d719870e",
   "outputs": [],
   "execution_count": null
  },
  {
   "metadata": {},
   "cell_type": "code",
   "source": [
    "# Exibir apenas as colunas postMessage e postMessageLimpo\n",
    "df[['postMessage', 'postMessageLimpo']].head()"
   ],
   "id": "5d29e434a2ee8bce",
   "outputs": [],
   "execution_count": null
  },
  {
   "metadata": {},
   "cell_type": "code",
   "source": "busca_palavras = BuscaPalavras()",
   "id": "296d4d9fc48e7a20",
   "outputs": [],
   "execution_count": null
  },
  {
   "metadata": {},
   "cell_type": "code",
   "source": [
    "resultado = busca_palavras.string_matching(df['postMessageLimpo'], 'dados/datasets/termos_depressivos_pt_br.txt')\n",
    "# Salvar o resultado em um arquivo CSV\n",
    "resultado.to_csv('dados/com_filtros_datas/2meses/so_suicida_termos_depressivos.csv')\n",
    "\n",
    "resultados_fuzzy = busca_palavras.fuzzy_string_matching(df['postMessageLimpo'],\n",
    "                                                        'dados/datasets/termos_depressivos_pt_br.txt')\n",
    "df_resultados_fuzzy = pd.DataFrame(resultados_fuzzy,\n",
    "                                   columns=['Palavra Procurada', 'Palavra Encontrada', 'Similaridade'])\n",
    "# Salvar o resultado em um arquivo CSV\n",
    "df_resultados_fuzzy.to_csv('dados/com_filtros_datas/2meses/so_suicida_termos_depressivos_fuzzy.csv', index=False)"
   ],
   "id": "885e33b485458e7d",
   "outputs": [],
   "execution_count": null
  },
  {
   "metadata": {},
   "cell_type": "code",
   "source": [
    "# Carregar stopwords para o TF-IDF e o Bag of Words\n",
    "stop_words = tratamento_texto.get_stopwords()"
   ],
   "id": "fc92b46e4febeaf9",
   "outputs": [],
   "execution_count": null
  },
  {
   "metadata": {},
   "cell_type": "code",
   "source": [
    "text_vectorizer = TextVectorization(df, stop_words)\n",
    "# Vetorização TF-IDF\n",
    "resultados_tfidf = text_vectorizer.tfidf_vectorization(\n",
    "    'dados/com_filtros_datas/2meses/so_suicida_resultados_tfidf_unigramas.csv', 0.60, 2,\n",
    "    (1, 1))\n",
    "\n",
    "# Vetorização Bag of Words\n",
    "resultados_bow = text_vectorizer.bag_of_words_vectorization(\n",
    "    'dados/com_filtros_datas/2meses/so_suicida_resultados_bow_unigramas.csv',\n",
    "    0.85, 5, (1, 1))"
   ],
   "id": "e09778ab20fe9cb",
   "outputs": [],
   "execution_count": null
  },
  {
   "metadata": {},
   "cell_type": "code",
   "source": [
    "text_vectorizer.plot_top_words(resultados_tfidf, column='score', title='Top 10 Palavras TF-IDF')\n",
    "text_vectorizer.plot_top_words(resultados_bow, column='contagem', title='Top 10 Palavras Bag of Words')"
   ],
   "id": "be9df1cdb07eaaa9",
   "outputs": [],
   "execution_count": null
  },
  {
   "metadata": {},
   "cell_type": "code",
   "source": [
    "frequencias_bow = dict(zip(resultados_bow['palavra'], resultados_bow['contagem']))\n",
    "\n",
    "# Gerar e plotar a nuvem de palavras\n",
    "NuvemPalavras.plot_nuvem_palavras(frequencias_bow)"
   ],
   "id": "cfbacce53d8735d7",
   "outputs": [],
   "execution_count": null
  },
  {
   "metadata": {},
   "cell_type": "code",
   "source": [
    "frequencias_tfidf = dict(zip(resultados_tfidf['palavra'], resultados_tfidf['score']))\n",
    "\n",
    "# Gerar e plotar a nuvem de palavras\n",
    "NuvemPalavras.plot_nuvem_palavras(frequencias_tfidf)"
   ],
   "id": "2b91068a01dc83aa",
   "outputs": [],
   "execution_count": null
  }
 ],
 "metadata": {
  "kernelspec": {
   "display_name": "Python 3",
   "language": "python",
   "name": "python3"
  },
  "language_info": {
   "codemirror_mode": {
    "name": "ipython",
    "version": 2
   },
   "file_extension": ".py",
   "mimetype": "text/x-python",
   "name": "python",
   "nbconvert_exporter": "python",
   "pygments_lexer": "ipython2",
   "version": "2.7.6"
  }
 },
 "nbformat": 4,
 "nbformat_minor": 5
}
