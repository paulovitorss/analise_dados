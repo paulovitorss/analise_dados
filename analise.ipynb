{
 "cells": [
  {
   "metadata": {},
   "cell_type": "markdown",
   "source": "# Importando as bibliotecas",
   "id": "2bf9d9363b7b99f2"
  },
  {
   "metadata": {},
   "cell_type": "code",
   "source": [
    "import pandas as pd\n",
    "import nltk\n",
    "import matplotlib.pyplot as plt\n",
    "import numpy as np\n",
    "\n",
    "nltk.download('stopwords', quiet=True)\n",
    "nltk.download('wordnet', quiet=True)\n",
    "nltk.download('omw-1.4', quiet=True)\n",
    "nltk.download('averaged_perceptron_tagger', quiet=True)\n",
    "nltk.download('punkt', quiet=True)\n",
    "nltk.download('punkt_tab', quiet=True)\n",
    "nltk.download('averaged_perceptron_tagger_eng', quiet=True)\n",
    "from datetime import datetime\n",
    "from db import connection_db as conndb\n",
    "from db import filters\n",
    "from utils.plot_graphs import PlotGraphs\n",
    "from utils.text_treatment import TextTreatment\n",
    "from utils.text_vectorization import TextVectorization\n",
    "from dateutil.relativedelta import relativedelta\n",
    "from utils.nuvem_palavras import NuvemPalavras\n",
    "from tqdm.auto import tqdm\n",
    "\n",
    "tqdm.pandas()\n",
    "from utils.busca_palavras import BuscaPalavras\n",
    "from utils.facebook_prophet import FacebookProphet\n",
    "from utils.estracao_interacao import ExtracaoInteracao"
   ],
   "id": "4761db26da7a2327",
   "outputs": [],
   "execution_count": null
  },
  {
   "metadata": {},
   "cell_type": "code",
   "source": [
    "mongo_connection = conndb.MongoDBConnection(uri='mongodb://localhost:27017/', database_name='dadosVivamente',\n",
    "                                            collection_name='dadosSemFiltros')\n",
    "mongo_connection.connect()\n",
    "collection = mongo_connection.collection"
   ],
   "id": "7a6bb32be9aeb75a",
   "outputs": [],
   "execution_count": null
  },
  {
   "metadata": {},
   "cell_type": "code",
   "source": [
    "collection_filters = filters.CollectionFilters(collection)\n",
    "collection_filters.apply_pipeline1('dadosComFiltrosIniciais')\n",
    "collection_filters.apply_pipeline2(7, 2, 'posts7anos2anos')\n",
    "collection_filters.apply_pipeline3('postsComBDIAndInfos')\n",
    "collection_filters.apply_pipeline4('postsComBDIAndInfosFiltroDataPosts')\n",
    "data_inicio = datetime(2017, 12, 1)\n",
    "data_fim = data_inicio - relativedelta(months=6)\n",
    "collection_filters.apply_pipeline5('postsFiltradosPorData', data_inicio, data_fim)\n",
    "collection = collection_filters.collection"
   ],
   "id": "ba5a47bd08e116ad",
   "outputs": [],
   "execution_count": null
  },
  {
   "metadata": {},
   "cell_type": "code",
   "source": [
    "quant_usuario_nivel_0 = collection_filters.quant_users_cat('nivel', '$eq', 0)\n",
    "quant_usuario_nivel_0_masculino = collection_filters.count_users_by_gender('nivel', '$eq', 0, 'M')\n",
    "quant_usuario_nivel_0_feminino = collection_filters.count_users_by_gender('nivel', '$eq', 0, 'F')\n",
    "\n",
    "quant_usuario_nivel_1 = collection_filters.quant_users_cat('nivel', '$eq', 1)\n",
    "quant_usuario_nivel_1_masculino = collection_filters.count_users_by_gender('nivel', '$eq', 1, 'M')\n",
    "quant_usuario_nivel_1_feminino = collection_filters.count_users_by_gender('nivel', '$eq', 1, 'F')\n",
    "\n",
    "quant_usuario_nivel_2 = collection_filters.quant_users_cat('nivel', '$eq', 2)\n",
    "quant_usuario_nivel_2_masculino = collection_filters.count_users_by_gender('nivel', '$eq', 2, 'M')\n",
    "quant_usuario_nivel_2_feminino = collection_filters.count_users_by_gender('nivel', '$eq', 2, 'F')\n",
    "\n",
    "quant_usuario_nivel_3 = collection_filters.quant_users_cat('nivel', '$eq', 3)\n",
    "quant_usuario_nivel_3_masculino = collection_filters.count_users_by_gender('nivel', '$eq', 3, 'M')\n",
    "quant_usuario_nivel_3_feminino = collection_filters.count_users_by_gender('nivel', '$eq', 3, 'F')"
   ],
   "id": "4b8dd5b8ffbbbc44",
   "outputs": [],
   "execution_count": null
  },
  {
   "metadata": {},
   "cell_type": "code",
   "source": [
    "print('Quantidade de Usuários com nível 0:', quant_usuario_nivel_0)\n",
    "print('Quantidade de Usuários do sexo Masculino com nível 0:', quant_usuario_nivel_0_masculino)\n",
    "print('Quantidade de Usuários do sexo Feminino com nível 0:', quant_usuario_nivel_0_feminino)\n",
    "\n",
    "print('Quantidade de Usuários com nível 1:', quant_usuario_nivel_1)\n",
    "print('Quantidade de Usuários do sexo Masculino com nível 1:', quant_usuario_nivel_1_masculino)\n",
    "print('Quantidade de Usuários do sexo Feminino com nível 1:', quant_usuario_nivel_1_feminino)\n",
    "\n",
    "print('Quantidade de Usuários com nível 2:', quant_usuario_nivel_2)\n",
    "print('Quantidade de Usuários do sexo Masculino com nível 2:', quant_usuario_nivel_2_masculino)\n",
    "print('Quantidade de Usuários do sexo Feminino com nível 2:', quant_usuario_nivel_2_feminino)\n",
    "\n",
    "print('Quantidade de Usuários com nível 3:', quant_usuario_nivel_3)\n",
    "print('Quantidade de Usuários do sexo Masculino com nível 3:', quant_usuario_nivel_3_masculino)\n",
    "print('Quantidade de Usuários do sexo Feminino com nível 3:', quant_usuario_nivel_3_feminino)"
   ],
   "id": "849c92b3b8a67d85",
   "outputs": [],
   "execution_count": null
  },
  {
   "metadata": {},
   "cell_type": "markdown",
   "source": "# Criando o gráfico de barras com a quantidade de usuários por nível de depressão",
   "id": "7d31e2ffcd1bb0dc"
  },
  {
   "metadata": {},
   "cell_type": "code",
   "source": [
    "# Plotar o gráfico de barras\n",
    "fig, ax = plt.subplots(figsize=(8,6))  # Define o tamanho da figura\n",
    "\n",
    "niveis = ['Nível 0', 'Nível 1', 'Nível 2', 'Nível 3']\n",
    "quantidades = [quant_usuario_nivel_0, quant_usuario_nivel_1, quant_usuario_nivel_2, quant_usuario_nivel_3]\n",
    "\n",
    "# Verifique se as quantidades são números e não são todos zeros\n",
    "print(\"Quantidades:\", quantidades)\n",
    "\n",
    "# Plotar as barras com cores diferentes\n",
    "ax.bar(niveis, quantidades, color=['#4CAF50', '#FFC107', '#2196F3', '#F44336'])\n",
    "\n",
    "# Adicionar rótulos e título\n",
    "ax.set_ylabel('Quantidade de Usuários')\n",
    "ax.set_xlabel('Nível de Depressão')\n",
    "ax.set_title('Quantidade de Usuários por Nível de Depressão')\n",
    "ax.grid(axis='y', linestyle='--', alpha=0.7)\n",
    "\n",
    "# Adicionar rótulos nas barras\n",
    "for i, v in enumerate(quantidades):\n",
    "    ax.text(i, v + max(quantidades)*0.01, str(v), ha='center', va='bottom')\n",
    "\n",
    "# Salvar a figura antes de mostrar\n",
    "plt.savefig('dados/filtro_nivel/quantidade_usuarios_por_nivel_depressao_6meses.png', bbox_inches='tight')\n",
    "\n",
    "plt.show()"
   ],
   "id": "5671839c36bb0f5e",
   "outputs": [],
   "execution_count": null
  },
  {
   "metadata": {},
   "cell_type": "code",
   "source": [
    "# Níveis de depressão\n",
    "niveis = ['Nível 0', 'Nível 1', 'Nível 2', 'Nível 3']\n",
    "\n",
    "# Quantidades por nível\n",
    "quantidades = [quant_usuario_nivel_0, quant_usuario_nivel_1, quant_usuario_nivel_2, quant_usuario_nivel_3]\n",
    "\n",
    "# Quantidades por nível e gênero\n",
    "quantidades_masculino = [quant_usuario_nivel_0_masculino, quant_usuario_nivel_1_masculino, quant_usuario_nivel_2_masculino, quant_usuario_nivel_3_masculino]\n",
    "quantidades_feminino = [quant_usuario_nivel_0_feminino, quant_usuario_nivel_1_feminino, quant_usuario_nivel_2_feminino, quant_usuario_nivel_3_feminino]\n",
    "\n",
    "\n",
    "# Definir a largura das barras\n",
    "bar_width = 0.35\n",
    "\n",
    "# Definir a posição das barras no eixo X\n",
    "r1 = np.arange(len(niveis))\n",
    "r2 = [x + bar_width for x in r1]\n",
    "\n",
    "# Criar o gráfico de barras\n",
    "fig, ax = plt.subplots(figsize=(10, 6))\n",
    "\n",
    "# Barras para Masculino\n",
    "ax.bar(r1, quantidades_masculino, color='#1f77b4', width=bar_width, edgecolor='grey', label='Masculino')\n",
    "\n",
    "# Barras para Feminino\n",
    "ax.bar(r2, quantidades_feminino, color='#ff7f0e', width=bar_width, edgecolor='grey', label='Feminino')\n",
    "\n",
    "# Adicionar rótulos e título\n",
    "ax.set_xlabel('Nível de Depressão', fontweight='bold')\n",
    "ax.set_ylabel('Quantidade de Usuários', fontweight='bold')\n",
    "ax.set_title('Quantidade de Usuários por Nível de Depressão e Gênero')\n",
    "\n",
    "# Adicionar ticks no eixo X\n",
    "ax.set_xticks([r + bar_width / 2 for r in range(len(niveis))])\n",
    "ax.set_xticklabels(niveis)\n",
    "\n",
    "# Adicionar legenda\n",
    "ax.legend()\n",
    "\n",
    "# Adicionar rótulos nas barras\n",
    "for i in range(len(niveis)):\n",
    "    ax.text(r1[i] - bar_width/2, quantidades_masculino[i] + 1, quantidades_masculino[i], ha='center', va='bottom', fontsize=9)\n",
    "    ax.text(r2[i] - bar_width/2, quantidades_feminino[i] + 1, quantidades_feminino[i], ha='center', va='bottom', fontsize=9)\n",
    "\n",
    "# Ajustar layout e salvar a figura\n",
    "plt.tight_layout()\n",
    "plt.savefig('dados/filtro_nivel/quantidade_usuarios_por_nivel_depressao_e_genero_6meses.png', dpi=300)\n",
    "plt.show()"
   ],
   "id": "7c8a28fc0972eeaa",
   "outputs": [],
   "execution_count": null
  },
  {
   "metadata": {},
   "cell_type": "code",
   "source": [
    "# Filtrando documentos com o atributo maior que 3\n",
    "filtro = {\"nivel\": {\"$eq\": 3}}\n",
    "documentos = collection.find(filtro)"
   ],
   "id": "ea19f91952d67bca",
   "outputs": [],
   "execution_count": null
  },
  {
   "metadata": {},
   "cell_type": "code",
   "source": [
    "# Transformando os documentos em um DataFrame\n",
    "df = pd.DataFrame(list(documentos))\n",
    "print(df.dtypes)"
   ],
   "id": "8e80f1ac50e27240",
   "outputs": [],
   "execution_count": null
  },
  {
   "metadata": {},
   "cell_type": "code",
   "source": [
    "# Lista de colunas que precisam ser convertidas\n",
    "colunas_para_converter = [\n",
    "    'pessimismo', 'tristeza', 'fracasso', 'prazer', 'culpa', 'punicao', 'estima',\n",
    "    'critica', 'suicida', 'choro', 'agitacao', 'interesse', 'indecisao',\n",
    "    'desvalorizacao', 'energia', 'sono', 'irritabilidade', 'apetite',\n",
    "    'concentracao', 'fadiga', 'int_sexo', 'quantAmigos'\n",
    "]\n",
    "\n",
    "# Preencher os NaNs com 0\n",
    "df[colunas_para_converter] = df[colunas_para_converter].fillna(0)\n",
    "\n",
    "df[colunas_para_converter] = df[colunas_para_converter].astype('int64')"
   ],
   "id": "a6cd10d242776211",
   "outputs": [],
   "execution_count": null
  },
  {
   "metadata": {},
   "cell_type": "code",
   "source": [
    "# Salvar o DataFrame em um arquivo CSV\n",
    "df.to_csv('dados/filtro_nivel/nivel3/6meses/so_nivel3_6_meses.csv', index=False)"
   ],
   "id": "dffd3dec7a6ba792",
   "outputs": [],
   "execution_count": null
  },
  {
   "metadata": {},
   "cell_type": "code",
   "source": [
    "extrator = ExtracaoInteracao(df)\n",
    "\n",
    "# Extrair as interações e obter o DataFrame atualizado\n",
    "df_com_interacoes = extrator.extract_interactions()"
   ],
   "id": "be4d0794919ced84",
   "outputs": [],
   "execution_count": null
  },
  {
   "metadata": {},
   "cell_type": "code",
   "source": "df.to_csv('dados/filtro_nivel/nivel3/6meses/interacoes.csv', index=False)",
   "id": "f31160ac92aa96ed",
   "outputs": [],
   "execution_count": null
  },
  {
   "metadata": {},
   "cell_type": "markdown",
   "source": "# Utilizando o Facebook Prophet para prever a quantidade de posts",
   "id": "57a32d208716ff91"
  },
  {
   "metadata": {},
   "cell_type": "code",
   "source": [
    "facebook_prophet = FacebookProphet()\n",
    "\n",
    "facebook_prophet.prophet(df, 'postCreated_time')"
   ],
   "id": "dd5d15d74cfa2a30",
   "outputs": [],
   "execution_count": null
  },
  {
   "metadata": {},
   "cell_type": "markdown",
   "source": "# Plotar quantidade de posts por usuário",
   "id": "c6f59760f3b6d37e"
  },
  {
   "metadata": {},
   "cell_type": "code",
   "source": [
    "plot_graphs = PlotGraphs()\n",
    "\n",
    "# Agrupar por usuário, mês e ano\n",
    "posts_grouped = df.groupby(['id_usuario', 'mes', 'ano']).size().reset_index(name='quantidade')\n",
    "\n",
    "# Adicionar coluna com o período e converter para datetime\n",
    "posts_grouped['periodo'] = pd.to_datetime(posts_grouped['mes'].astype(str) + '/' + posts_grouped['ano'].astype(str),\n",
    "                                          format='%m/%Y')\n",
    "\n",
    "# Deve retornar 0 se a conversão foi bem-sucedida.\n",
    "print(posts_grouped['periodo'].isnull().sum())\n",
    "\n",
    "posts_grouped.dtypes"
   ],
   "id": "337f2d80271498b7",
   "outputs": [],
   "execution_count": null
  },
  {
   "metadata": {},
   "cell_type": "code",
   "source": "# plot_graphs.plot_posts_per_user(posts_grouped, 'dados/filtro_nivel/nivel3/6meses/graficos')",
   "id": "723527524f4964ec",
   "outputs": [],
   "execution_count": null
  },
  {
   "metadata": {},
   "cell_type": "markdown",
   "source": "# Efentuando a limpeza dos dados",
   "id": "44e73a070a35b8a2"
  },
  {
   "metadata": {},
   "cell_type": "code",
   "source": "tratamento_texto = TextTreatment()",
   "id": "334cc9686a30bde0",
   "outputs": [],
   "execution_count": null
  },
  {
   "metadata": {},
   "cell_type": "code",
   "source": [
    "df['postMessageLimpo'] = df['postMessage'].fillna('').progress_apply(\n",
    "    lambda texto: tratamento_texto.preprocessamento_texto(texto) if texto else '')"
   ],
   "id": "1f4ea101d719870e",
   "outputs": [],
   "execution_count": null
  },
  {
   "metadata": {},
   "cell_type": "code",
   "source": [
    "# Exibir apenas as colunas postMessage e postMessageLimpo\n",
    "df[['postMessage', 'postMessageLimpo']].head()"
   ],
   "id": "5d29e434a2ee8bce",
   "outputs": [],
   "execution_count": null
  },
  {
   "metadata": {},
   "cell_type": "code",
   "source": "busca_palavras = BuscaPalavras()",
   "id": "296d4d9fc48e7a20",
   "outputs": [],
   "execution_count": null
  },
  {
   "metadata": {},
   "cell_type": "code",
   "source": [
    "resultado = busca_palavras.string_matching(df['postMessageLimpo'], 'dados/datasets/termos_depressivos_pt_br.txt')\n",
    "# Salvar o resultado em um arquivo CSV\n",
    "resultado.to_csv('dados/filtro_nivel/nivel3/6meses/so_nivel3_6meses_termos_depressivos.csv')\n",
    "\n",
    "resultados_fuzzy = busca_palavras.fuzzy_string_matching(df['postMessageLimpo'],\n",
    "                                                        'dados/datasets/termos_depressivos_pt_br.txt')\n",
    "df_resultados_fuzzy = pd.DataFrame(resultados_fuzzy,\n",
    "                                   columns=['Palavra Procurada', 'Palavra Encontrada', 'Similaridade'])\n",
    "# Salvar o resultado em um arquivo CSV\n",
    "df_resultados_fuzzy.to_csv('dados/filtro_nivel/nivel3/6meses/so_nivel3_6meses_termos_depressivos_fuzzy.csv', index=False)"
   ],
   "id": "885e33b485458e7d",
   "outputs": [],
   "execution_count": null
  },
  {
   "metadata": {},
   "cell_type": "code",
   "source": [
    "# Carregar stopwords para o TF-IDF e o Bag of Words\n",
    "stop_words = tratamento_texto.get_stopwords()"
   ],
   "id": "fc92b46e4febeaf9",
   "outputs": [],
   "execution_count": null
  },
  {
   "metadata": {},
   "cell_type": "code",
   "source": [
    "text_vectorizer = TextVectorization(df, stop_words)\n",
    "# Vetorização TF-IDF\n",
    "resultados_tfidf = text_vectorizer.tfidf_vectorization(\n",
    "    'dados/filtro_nivel/nivel3/6meses/so_nivel3_6meses_resultados_tfidf_unigramas.csv', 0.60, 2,\n",
    "    (1, 1))\n",
    "\n",
    "# Vetorização Bag of Words\n",
    "resultados_bow = text_vectorizer.bag_of_words_vectorization(\n",
    "    'dados/filtro_nivel/nivel3/6meses/so_nivel3_6meses_resultados_bow_unigramas.csv',\n",
    "    0.85, 5, (1, 1))"
   ],
   "id": "e09778ab20fe9cb",
   "outputs": [],
   "execution_count": null
  },
  {
   "metadata": {},
   "cell_type": "code",
   "source": [
    "text_vectorizer.plot_top_words(resultados_tfidf, column='score', title='Top 10 Palavras TF-IDF')\n",
    "text_vectorizer.plot_top_words(resultados_bow, column='contagem', title='Top 10 Palavras Bag of Words')"
   ],
   "id": "be9df1cdb07eaaa9",
   "outputs": [],
   "execution_count": null
  },
  {
   "metadata": {},
   "cell_type": "code",
   "source": [
    "frequencias_bow = dict(zip(resultados_bow['palavra'], resultados_bow['contagem']))\n",
    "\n",
    "# Gerar e plotar a nuvem de palavras\n",
    "NuvemPalavras.plot_nuvem_palavras(frequencias_bow)"
   ],
   "id": "cfbacce53d8735d7",
   "outputs": [],
   "execution_count": null
  },
  {
   "metadata": {},
   "cell_type": "code",
   "source": [
    "frequencias_tfidf = dict(zip(resultados_tfidf['palavra'], resultados_tfidf['score']))\n",
    "\n",
    "# Gerar e plotar a nuvem de palavras\n",
    "NuvemPalavras.plot_nuvem_palavras(frequencias_tfidf)"
   ],
   "id": "2b91068a01dc83aa",
   "outputs": [],
   "execution_count": null
  }
 ],
 "metadata": {
  "kernelspec": {
   "display_name": "Python 3",
   "language": "python",
   "name": "python3"
  },
  "language_info": {
   "codemirror_mode": {
    "name": "ipython",
    "version": 2
   },
   "file_extension": ".py",
   "mimetype": "text/x-python",
   "name": "python",
   "nbconvert_exporter": "python",
   "pygments_lexer": "ipython2",
   "version": "2.7.6"
  }
 },
 "nbformat": 4,
 "nbformat_minor": 5
}
