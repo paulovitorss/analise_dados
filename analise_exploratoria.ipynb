{
 "cells": [
  {
   "metadata": {},
   "cell_type": "markdown",
   "source": "# Importando as bibliotecas",
   "id": "2bf9d9363b7b99f2"
  },
  {
   "metadata": {},
   "cell_type": "code",
   "source": [
    "import pandas as pd\n",
    "import nltk\n",
    "import numpy as np\n",
    "import matplotlib.pyplot as plt\n",
    "\n",
    "nltk.download('stopwords', quiet=True)\n",
    "nltk.download('wordnet', quiet=True)\n",
    "nltk.download('omw-1.4', quiet=True)\n",
    "nltk.download('averaged_perceptron_tagger', quiet=True)\n",
    "nltk.download('punkt', quiet=True)\n",
    "nltk.download('punkt_tab', quiet=True)\n",
    "nltk.download('averaged_perceptron_tagger_eng', quiet=True)\n",
    "from db import connection_db as conndb\n",
    "from db import filters\n",
    "from datetime import datetime\n",
    "from dateutil.relativedelta import relativedelta\n",
    "from tqdm.auto import tqdm\n",
    "from utils.estracao_interacao import ExtracaoInteracao\n",
    "\n",
    "tqdm.pandas()"
   ],
   "id": "4761db26da7a2327",
   "outputs": [],
   "execution_count": null
  },
  {
   "metadata": {},
   "cell_type": "markdown",
   "source": "Conectando ao banco de dados do MongoDB",
   "id": "6ae872a7e38ede3b"
  },
  {
   "metadata": {},
   "cell_type": "code",
   "source": [
    "uri = 'mongodb://localhost:27017/'\n",
    "db_name = 'dadosVivamente'\n",
    "col_name = 'dadosSemFiltros'\n",
    "\n",
    "mongo_connection = conndb.MongoDBConnection(uri=uri, database_name=db_name, collection_name=col_name)\n",
    "mongo_connection.connect()\n",
    "collection = mongo_connection.collection"
   ],
   "id": "e2d64bb2f75c6432",
   "outputs": [],
   "execution_count": null
  },
  {
   "metadata": {},
   "cell_type": "markdown",
   "source": "Aplicando pipeline para filtrar os dados",
   "id": "d76def679f1666f8"
  },
  {
   "metadata": {},
   "cell_type": "code",
   "source": [
    "collection_filters = filters.CollectionFilters(collection)\n",
    "\n",
    "# Aplicando pipeline 1\n",
    "collection_filters.apply_pipeline1('dadosComFiltrosIniciais')\n",
    "\n",
    "# Aplicando pipeline 2 - pega os posts que tenha a data de publicação de no máximo 7 anos e no mínimo 2 anos\n",
    "collection_filters.apply_pipeline2(7, 2, 'posts7anos2anos')\n",
    "\n",
    "# Aplicando pipeline 3 - desenrola os posts em documentos individuais e cria novas colunas\n",
    "collection_filters.apply_pipeline3('postsComBDIAndInfos')\n",
    "\n",
    "# Aplicando pipeline 4 - aplica o filtro para selecionar apenas os posts que tem uma data de publicação válida\n",
    "collection_filters.apply_pipeline4('postsComBDIAndInfosFiltroDataPosts')\n",
    "\n",
    "# Seleciona a data final e inicial para filtrar os posts que foram publicados em um intervalo de 6 meses antes da coleta\n",
    "data_inicio = datetime(2017, 12, 1)\n",
    "data_fim = data_inicio - relativedelta(months=11)\n",
    "\n",
    "# Aplicando pipeline 5 - aplica o filtro para selecionar apenas os posts que foram publicados em um intervalo de 6 meses antes da coleta\n",
    "collection_filters.apply_pipeline5('postsFiltradosPorData', data_inicio, data_fim)\n",
    "\n",
    "collection = collection_filters.collection"
   ],
   "id": "43b4fa30d8a8dfca",
   "outputs": [],
   "execution_count": null
  },
  {
   "metadata": {},
   "cell_type": "markdown",
   "source": "Aplica pipeline para ver a distribuição dos dados",
   "id": "3a66b1cb76641782"
  },
  {
   "metadata": {},
   "cell_type": "code",
   "source": [
    "# Função para obter quantidade de usuários por nível e gênero\n",
    "def obter_quantidades_nivel_e_genero(nivel, genero=None):\n",
    "    if genero:\n",
    "        return collection_filters.count_users_by_gender('nivel', '$eq', nivel, genero)\n",
    "    return collection_filters.quant_users_cat('nivel', '$eq', nivel)\n",
    "\n",
    "\n",
    "niveis = [0, 1, 2, 3]\n",
    "\n",
    "# Dicionários para armazenar as quantidades por nível e gênero\n",
    "quantidades = {nivel: obter_quantidades_nivel_e_genero(nivel) for nivel in niveis}\n",
    "quantidades_masculino = {nivel: obter_quantidades_nivel_e_genero(nivel, 'M') for nivel in niveis}\n",
    "quantidades_feminino = {nivel: obter_quantidades_nivel_e_genero(nivel, 'F') for nivel in niveis}\n",
    "\n",
    "for nivel in niveis:\n",
    "    print(f'Quantidade de Usuários com nível {nivel}:', quantidades[nivel])\n",
    "    print(f'Quantidade de Usuários do sexo Masculino com nível {nivel}:', quantidades_masculino[nivel])\n",
    "    print(f'Quantidade de Usuários do sexo Feminino com nível {nivel}:', quantidades_feminino[nivel], '\\n')"
   ],
   "id": "546b5b6b0a609100",
   "outputs": [],
   "execution_count": null
  },
  {
   "metadata": {},
   "cell_type": "markdown",
   "source": "Criando o gráficos com a quantidade de usuários por nível de depressão",
   "id": "27a4aa20806b2616"
  },
  {
   "metadata": {},
   "cell_type": "code",
   "source": [
    "# Plotar gráfico de barras com a quantidade de usuários por nível\n",
    "def plotar_grafico_quantidades_por_nivel(quantidades):\n",
    "    fig, ax = plt.subplots(figsize=(8, 6))\n",
    "    niveis_labels = [f'Nível {nivel}' for nivel in niveis]\n",
    "    quantidades_list = [quantidades[nivel] for nivel in niveis]\n",
    "\n",
    "    ax.bar(niveis_labels, quantidades_list, color=['#4CAF50', '#FFC107', '#2196F3', '#F44336'])\n",
    "\n",
    "    ax.set_ylabel('Quantidade de Usuários')\n",
    "    ax.set_xlabel('Nível')\n",
    "    ax.set_title('Quantidade de Usuários por score BDI-II')\n",
    "    ax.grid(axis='y', linestyle='--', alpha=0.7)\n",
    "\n",
    "    # Adicionar rótulos nas barras\n",
    "    for i, v in enumerate(quantidades_list):\n",
    "        ax.text(i, v + max(quantidades_list) * 0.01, str(v), ha='center', va='bottom')\n",
    "\n",
    "    plt.savefig('dados/filtro_nivel/quantidade_usuarios_por_nivel_depressao_6meses.png', bbox_inches='tight')\n",
    "    plt.show()\n",
    "\n",
    "\n",
    "# Plotar gráfico de barras com a quantidade de usuários por nível e gênero\n",
    "def plotar_grafico_quantidades_por_nivel_e_genero(quantidades_masculino, quantidades_feminino):\n",
    "    bar_width = 0.35\n",
    "    niveis_labels = [f'Nível {nivel}' for nivel in niveis]\n",
    "    r1 = np.arange(len(niveis))\n",
    "    r2 = [x + bar_width for x in r1]\n",
    "\n",
    "    fig, ax = plt.subplots(figsize=(10, 6))\n",
    "\n",
    "    ax.bar(r1, [quantidades_masculino[nivel] for nivel in niveis], color='#1f77b4', width=bar_width, edgecolor='grey',\n",
    "           label='Masculino')\n",
    "    ax.bar(r2, [quantidades_feminino[nivel] for nivel in niveis], color='#ff7f0e', width=bar_width, edgecolor='grey',\n",
    "           label='Feminino')\n",
    "\n",
    "    ax.set_xlabel('Nível', fontweight='bold')\n",
    "    ax.set_ylabel('Quantidade de Usuários', fontweight='bold')\n",
    "    ax.set_title('Quantidade de Usuários por score BDI-II e Gênero')\n",
    "\n",
    "    ax.set_xticks([r + bar_width / 2 for r in range(len(niveis))])\n",
    "    ax.set_xticklabels(niveis_labels)\n",
    "\n",
    "    ax.legend()\n",
    "\n",
    "    # Adicionar rótulos nas barras\n",
    "    for i in range(len(niveis)):\n",
    "        ax.text(r1[i] - bar_width / 2, quantidades_masculino[niveis[i]] + 1, quantidades_masculino[niveis[i]],\n",
    "                ha='center', va='bottom', fontsize=9)\n",
    "        ax.text(r2[i] - bar_width / 2, quantidades_feminino[niveis[i]] + 1, quantidades_feminino[niveis[i]],\n",
    "                ha='center', va='bottom', fontsize=9)\n",
    "\n",
    "    plt.tight_layout()\n",
    "    plt.savefig('dados/filtro_nivel/quantidade_usuarios_por_nivel_depressao_e_genero_6meses.png', dpi=300)\n",
    "    plt.show()\n",
    "\n",
    "\n",
    "# Chamadas para plotar os gráficos\n",
    "plotar_grafico_quantidades_por_nivel(quantidades)\n",
    "plotar_grafico_quantidades_por_nivel_e_genero(quantidades_masculino, quantidades_feminino)"
   ],
   "id": "9167c9ce11d84ccf",
   "outputs": [],
   "execution_count": null
  },
  {
   "metadata": {},
   "cell_type": "markdown",
   "source": "Criando um DataFrame com os dados dos usuários",
   "id": "14b72a142aa5a3af"
  },
  {
   "metadata": {},
   "cell_type": "code",
   "source": [
    "documentos = collection.find()\n",
    "df = pd.DataFrame(list(documentos))"
   ],
   "id": "7801db1d5cf85fe8",
   "outputs": [],
   "execution_count": null
  },
  {
   "metadata": {},
   "cell_type": "code",
   "source": [
    "# Lista de colunas que precisam ser convertidas\n",
    "colunas_para_converter = [\n",
    "    'pessimismo', 'tristeza', 'fracasso', 'prazer', 'culpa', 'punicao', 'estima',\n",
    "    'critica', 'suicida', 'choro', 'agitacao', 'interesse', 'indecisao',\n",
    "    'desvalorizacao', 'energia', 'sono', 'irritabilidade', 'apetite',\n",
    "    'concentracao', 'fadiga', 'int_sexo', 'quantAmigos'\n",
    "]\n",
    "\n",
    "# Preencher os NaNs com 0\n",
    "df[colunas_para_converter] = df[colunas_para_converter].fillna(0)\n",
    "\n",
    "df[colunas_para_converter] = df[colunas_para_converter].astype('int64')"
   ],
   "id": "6377a803251fd8ac",
   "outputs": [],
   "execution_count": null
  },
  {
   "metadata": {},
   "cell_type": "code",
   "source": [
    "# Filtrar pela coluna suicida maior ou igual a 2\n",
    "df = df[df['suicida'] >= 1]"
   ],
   "id": "452db219ab8fefe0",
   "outputs": [],
   "execution_count": null
  },
  {
   "metadata": {},
   "cell_type": "code",
   "source": [
    "# Filtrar pela coluna mes maior ou igual a 11\n",
    "df = df[df['mes'] >= 10]"
   ],
   "id": "ffebe54b06857e2d",
   "outputs": [],
   "execution_count": null
  },
  {
   "metadata": {},
   "cell_type": "code",
   "source": [
    "# Dropar usuario com quantidade de amigos nula\n",
    "df = df.dropna(subset=['quantAmigos'])"
   ],
   "id": "1acd0590cacb869f",
   "outputs": [],
   "execution_count": null
  },
  {
   "metadata": {},
   "cell_type": "code",
   "source": [
    "# Adicionando colunas de interações\n",
    "extrator = ExtracaoInteracao(df)\n",
    "\n",
    "# Extrair as interações e obter o DataFrame atualizado\n",
    "df = extrator.extract_interactions()"
   ],
   "id": "7fe22130bba71059",
   "outputs": [],
   "execution_count": null
  },
  {
   "metadata": {},
   "cell_type": "code",
   "source": "df.head()",
   "id": "6e127478aa6ab8d9",
   "outputs": [],
   "execution_count": null
  },
  {
   "metadata": {},
   "cell_type": "code",
   "source": [
    "# Obter uma visão geral das colunas e seus tipos\n",
    "print(df.info())"
   ],
   "id": "f766510592bf86a",
   "outputs": [],
   "execution_count": null
  },
  {
   "metadata": {},
   "cell_type": "code",
   "source": [
    "# Estatísticas básicas das variáveis numéricas\n",
    "print(df.describe())"
   ],
   "id": "6e2375547d581684",
   "outputs": [],
   "execution_count": null
  },
  {
   "metadata": {},
   "cell_type": "code",
   "source": "print(df.isnull().sum())",
   "id": "69ead01507f89233",
   "outputs": [],
   "execution_count": null
  },
  {
   "metadata": {},
   "cell_type": "code",
   "source": [
    "# Converter a coluna sexo para numérico\n",
    "df['sexo'] = df['sexo'].map({'F': 0, 'M': 1})\n",
    "\n",
    "df['diaDaSemanaNumerico'] = df['postCreated_time'].dt.weekday\n",
    "df.head()"
   ],
   "id": "842d253bd0b78ea9",
   "outputs": [],
   "execution_count": null
  },
  {
   "metadata": {},
   "cell_type": "code",
   "source": [
    "from utils.text_treatment import TextTreatment\n",
    "\n",
    "tratamento_texto = TextTreatment()\n",
    "df['postMessageLimpo'] = df['postMessage'].fillna('').progress_apply(\n",
    "    lambda texto: tratamento_texto.preprocessamento_texto(texto) if texto else '')"
   ],
   "id": "f41d4bff66008570",
   "outputs": [],
   "execution_count": null
  },
  {
   "metadata": {},
   "cell_type": "code",
   "source": [
    "from utils.busca_palavras import BuscaPalavras\n",
    "\n",
    "busca_palavras = BuscaPalavras()\n",
    "\n",
    "# Faz a busca exata\n",
    "resultado = busca_palavras.string_matching(df['postMessageLimpo'], 'dados/datasets/termos_depressivos_pt_br.txt')\n",
    "\n",
    "# Adicionar a coluna quantPalavrasDepressivas ao DataFrame, contando quantas palavras depressivas foram encontradas\n",
    "df['quantPalavrasDepressivas'] = resultado.apply(lambda x: len(x.split(', ')) if x else 0)"
   ],
   "id": "8dbf410c2bee8ee8",
   "outputs": [],
   "execution_count": null
  },
  {
   "metadata": {},
   "cell_type": "code",
   "source": [
    "df_agg = df.groupby(['id_usuario']).agg(\n",
    "    idade=('idade', 'first'),\n",
    "    sexo=('sexo', 'first'),\n",
    "    pessimismo=('pessimismo', 'first'),\n",
    "    tristeza=('tristeza', 'first'),\n",
    "    fracasso=('fracasso', 'first'),\n",
    "    prazer=('prazer', 'first'),\n",
    "    culpa=('culpa', 'first'),\n",
    "    punicao=('punicao', 'first'),\n",
    "    estima=('estima', 'first'),\n",
    "    critica=('critica', 'first'),\n",
    "    suicida=('suicida', 'first'),\n",
    "    choro=('choro', 'first'),\n",
    "    agitacao=('agitacao', 'first'),\n",
    "    interesse=('interesse', 'first'),\n",
    "    indecisao=('indecisao', 'first'),\n",
    "    desvalorizacao=('desvalorizacao', 'first'),\n",
    "    energia=('energia', 'first'),\n",
    "    sono=('sono', 'first'),\n",
    "    irritabilidade=('irritabilidade', 'first'),\n",
    "    apetite=('apetite', 'first'),\n",
    "    concentracao=('concentracao', 'first'),\n",
    "    fadiga=('fadiga', 'first'),\n",
    "    int_sexo=('int_sexo', 'first'),\n",
    "    quantAmigos=('quantAmigos', 'first'),\n",
    "    quantPosts=('id_usuario', 'count'),\n",
    "    mediaStory=('postStory', lambda x: round(x.notnull().mean(), 2)),\n",
    "    mediaMsg=('postMessage', lambda x: round(x.notnull().mean(), 2)),\n",
    "    horaMedia=('hora', lambda x: round(x.mean(), 2)),\n",
    "    modaDiaSemana=('diaDaSemanaNumerico', lambda x: x.mode()[0]),\n",
    "    quantPalavrasDepre=('quantPalavrasDepressivas', lambda x: round(x.mean(), 2))\n",
    ").reset_index()"
   ],
   "id": "34c1738f8735e64b",
   "outputs": [],
   "execution_count": null
  },
  {
   "metadata": {},
   "cell_type": "code",
   "source": "df_agg.head()",
   "id": "f342e36fc121b1c",
   "outputs": [],
   "execution_count": null
  },
  {
   "metadata": {},
   "cell_type": "code",
   "source": "df_agg.drop(columns=['id_usuario'], inplace=True)",
   "id": "6b28fc13c9b3421c",
   "outputs": [],
   "execution_count": null
  },
  {
   "metadata": {},
   "cell_type": "code",
   "source": [
    "# Definir um limite mínimo para quantPosts (por exemplo, excluir usuários com menos de 5 posts)\n",
    "limite_inferior = 20\n",
    "df_agg = df_agg[df_agg['quantPosts'] >= limite_inferior]"
   ],
   "id": "69e4e33bc0a94ee4",
   "outputs": [],
   "execution_count": null
  },
  {
   "metadata": {},
   "cell_type": "code",
   "source": "df_agg.to_csv('df_agg.csv', index=False)",
   "id": "fa2b837c99948555",
   "outputs": [],
   "execution_count": null
  },
  {
   "metadata": {},
   "cell_type": "code",
   "source": [
    "from sklearn.preprocessing import StandardScaler\n",
    "\n",
    "X = df_agg\n",
    "\n",
    "# Escalonamento com StandardScaler (média 0 e desvio padrão 1)\n",
    "scaler = StandardScaler()\n",
    "X_scaled = scaler.fit_transform(X)\n",
    "\n",
    "# Exibindo os resultados escalonados\n",
    "print(\"StandardScaler:\\n\", X_scaled)"
   ],
   "id": "a913ed7a886ae9e9",
   "outputs": [],
   "execution_count": null
  },
  {
   "metadata": {},
   "cell_type": "code",
   "source": [
    "from sklearn.decomposition import PCA\n",
    "\n",
    "# Aplicar PCA com base na variância acumulada desejada (ex: 95%)\n",
    "pca = PCA(n_components=0.90)\n",
    "X_pca = pca.fit_transform(X_scaled)\n",
    "# Quantidade de componentes principais escolhidos automaticamente\n",
    "print(\"Número de componentes principais:\", X_pca.shape[1])"
   ],
   "id": "a607bfe3d6744a1c",
   "outputs": [],
   "execution_count": null
  },
  {
   "metadata": {},
   "cell_type": "code",
   "source": [
    "from sklearn.cluster import KMeans\n",
    "\n",
    "k_range = range(1, 12)\n",
    "\n",
    "# Aplicando o modelo K-Means para cada valor de K\n",
    "k_means_var = [KMeans(n_clusters=k).fit(X_pca) for k in k_range]"
   ],
   "id": "cc516b5346eaa3c",
   "outputs": [],
   "execution_count": null
  },
  {
   "metadata": {},
   "cell_type": "code",
   "source": [
    "# Ajustando o centróide do cluster para cada modelo K-Means\n",
    "centroids = [model.cluster_centers_ for model in k_means_var]"
   ],
   "id": "fe8f5bbd8886b60f",
   "outputs": [],
   "execution_count": null
  },
  {
   "metadata": {},
   "cell_type": "code",
   "source": [
    "from scipy.spatial.distance import cdist\n",
    "\n",
    "# Calculando a distância euclidiana de cada ponto de dado para o centróide\n",
    "k_euclid = [cdist(X_pca, cent, 'euclidean') for cent in centroids]\n",
    "\n",
    "# Para cada ponto, pegamos a menor distância de qualquer centróide\n",
    "dist = [np.min(ke, axis=1) for ke in k_euclid]"
   ],
   "id": "a8914f458dd08337",
   "outputs": [],
   "execution_count": null
  },
  {
   "metadata": {},
   "cell_type": "code",
   "source": [
    "inertias = [model.inertia_ for model in k_means_var]\n",
    "\n",
    "# Curva de Elbow\n",
    "plt.figure()\n",
    "plt.plot(k_range, inertias, 'bx-')\n",
    "plt.xlabel('Número de Clusters')\n",
    "plt.ylabel('Inércia')\n",
    "plt.title('Método do Cotovelo para Encontrar o Número Ideal de Clusters')\n",
    "plt.grid(True)\n",
    "plt.show()"
   ],
   "id": "d38bf3a6b14399fe",
   "outputs": [],
   "execution_count": null
  },
  {
   "metadata": {},
   "cell_type": "code",
   "source": [
    "from sklearn.metrics import silhouette_score\n",
    "\n",
    "# Testando K=2\n",
    "kmeans_2 = KMeans(n_clusters=2, random_state=42)\n",
    "kmeans_2.fit(X_pca)\n",
    "labels_2 = kmeans_2.labels_\n",
    "silhouette_avg_2 = silhouette_score(X_pca, labels_2)\n",
    "print(f\"Silhouette Score para K=2: {silhouette_avg_2}\")\n",
    "\n",
    "# Testando K=3\n",
    "kmeans_3 = KMeans(n_clusters=3, random_state=42)\n",
    "kmeans_3.fit(X_pca)\n",
    "labels_3 = kmeans_3.labels_\n",
    "silhouette_avg_3 = silhouette_score(X_pca, labels_3)\n",
    "print(f\"Silhouette Score para K=3: {silhouette_avg_3}\")\n",
    "\n",
    "# Testando K=4\n",
    "kmeans_4 = KMeans(n_clusters=4, random_state=42)\n",
    "kmeans_4.fit(X_pca)\n",
    "labels_4 = kmeans_4.labels_\n",
    "silhouette_avg_4 = silhouette_score(X_pca, labels_4)\n",
    "print(f\"Silhouette Score para K=4: {silhouette_avg_4}\")\n",
    "\n",
    "# Testando K=5\n",
    "kmeans_5 = KMeans(n_clusters=5, random_state=42)\n",
    "kmeans_5.fit(X_pca)\n",
    "labels_5 = kmeans_5.labels_\n",
    "silhouette_avg_5 = silhouette_score(X_pca, labels_5)\n",
    "print(f\"Silhouette Score para K=5: {silhouette_avg_5}\")\n",
    "\n",
    "# Testando K=6\n",
    "kmeans_6 = KMeans(n_clusters=6, random_state=42)\n",
    "kmeans_6.fit(X_pca)\n",
    "labels_6 = kmeans_6.labels_\n",
    "silhouette_avg_6 = silhouette_score(X_pca, labels_6)\n",
    "print(f\"Silhouette Score para K=6: {silhouette_avg_6}\")\n",
    "\n",
    "# Testando K=7\n",
    "kmeans_7 = KMeans(n_clusters=7, random_state=42)\n",
    "kmeans_7.fit(X_pca)\n",
    "labels_7 = kmeans_7.labels_\n",
    "silhouette_avg_7 = silhouette_score(X_pca, labels_7)\n",
    "print(f\"Silhouette Score para K=7: {silhouette_avg_7}\")\n",
    "\n",
    "# Testando K=8\n",
    "kmeans_8 = KMeans(n_clusters=8, random_state=42)\n",
    "kmeans_8.fit(X_pca)\n",
    "labels_8 = kmeans_8.labels_\n",
    "silhouette_avg_8 = silhouette_score(X_pca, labels_8)\n",
    "print(f\"Silhouette Score para K=8: {silhouette_avg_8}\")"
   ],
   "id": "47f89a90f2e0d82f",
   "outputs": [],
   "execution_count": null
  },
  {
   "metadata": {},
   "cell_type": "code",
   "source": [
    "# Aplicando K-Means nos dados transformados pelo PCA\n",
    "kmeans = KMeans(n_clusters=4, random_state=42)\n",
    "kmeans.fit(X_pca)\n",
    "\n",
    "# Acessando os centróides\n",
    "centroids = kmeans.cluster_centers_\n",
    "\n",
    "# Verificando as dimensões dos centróides\n",
    "print(\"Dimensões de X_pca:\", X_pca.shape)\n",
    "print(\"Dimensões dos centróides:\", centroids.shape)"
   ],
   "id": "241a0018723c1c41",
   "outputs": [],
   "execution_count": null
  },
  {
   "metadata": {},
   "cell_type": "code",
   "source": [
    "# Atribuir os rótulos (clusters) ao dataframe original com K=4\n",
    "df_agg['cluster'] = kmeans.labels_\n",
    "\n",
    "# Verificar os dados com o cluster atribuído\n",
    "df_agg.head()"
   ],
   "id": "42bfd45461ca6c97",
   "outputs": [],
   "execution_count": null
  },
  {
   "metadata": {},
   "cell_type": "code",
   "source": "df_agg.to_csv('df_agg_cluster.csv', index=False)",
   "id": "23530e4618b4dee3",
   "outputs": [],
   "execution_count": null
  },
  {
   "metadata": {},
   "cell_type": "code",
   "source": [
    "# Agrupar os dados por cluster e calcular as médias das variáveis por cluster\n",
    "cluster_summary = df_agg.groupby('cluster').mean()\n",
    "\n",
    "# Exibir o resumo\n",
    "print(cluster_summary)"
   ],
   "id": "3e602b1c66539b34",
   "outputs": [],
   "execution_count": null
  },
  {
   "metadata": {},
   "cell_type": "code",
   "source": [
    "silhouette_values = silhouette_score(X_pca, kmeans.labels_, metric='euclidean')\n",
    "print(\"Silhouette Score geral:\", silhouette_values)\n",
    "\n",
    "# Verificar a silhueta de cada ponto\n",
    "from sklearn.metrics import silhouette_samples\n",
    "\n",
    "silhouette_vals = silhouette_samples(X_pca, kmeans.labels_)\n",
    "\n",
    "# Agrupar os valores de silhueta por cluster\n",
    "df_agg['silhouette_values'] = silhouette_vals\n",
    "silhouette_summary = df_agg.groupby('cluster')['silhouette_values'].mean()\n",
    "print(silhouette_summary)"
   ],
   "id": "8fdf950b1899cc8f",
   "outputs": [],
   "execution_count": null
  },
  {
   "metadata": {},
   "cell_type": "code",
   "source": [
    "import seaborn as sns\n",
    "\n",
    "plt.figure(figsize=(20, 15), dpi=300)\n",
    "sns.heatmap(df_agg.corr(), annot=True, fmt=\".2f\", cmap='coolwarm')\n",
    "plt.title('Matriz de Correlação')\n",
    "plt.show()\n",
    "plt.close"
   ],
   "id": "585240bfead209b3",
   "outputs": [],
   "execution_count": null
  },
  {
   "metadata": {},
   "cell_type": "code",
   "source": [
    "# Definir o limiar de correlação forte (exemplo: 0.7)\n",
    "limiar_correlacao = 0.5\n",
    "\n",
    "# Calcular a matriz de correlação\n",
    "correlacao = df_agg.corr()\n",
    "\n",
    "# Pegar os pares de correlação que têm correlação maior ou igual ao limiar\n",
    "correlacao_forte = correlacao[(correlacao >= limiar_correlacao) | (correlacao <= -limiar_correlacao)]\n",
    "\n",
    "# Remover os NaNs que não são fortes o suficiente\n",
    "correlacao_forte = correlacao_forte.dropna(how='all', axis=0).dropna(how='all', axis=1)\n",
    "\n",
    "# Exibir a matriz de correlações fortes\n",
    "plt.figure(figsize=(15, 10), dpi=300)\n",
    "sns.heatmap(correlacao_forte, annot=True, cmap='coolwarm', fmt='.2f')\n",
    "plt.title('Matriz de Correlação - Correlações Fortes')\n",
    "plt.show()\n",
    "plt.close()\n",
    "\n",
    "# Se quiser pegar os pares de features com correlações fortes para análise posterior\n",
    "pares_fortes = np.where((correlacao >= limiar_correlacao) | (correlacao <= -limiar_correlacao))\n",
    "pares_fortes = [(correlacao.index[i], correlacao.columns[j], correlacao.iloc[i, j])\n",
    "                for i, j in zip(*pares_fortes) if i != j]\n",
    "\n",
    "# Exibir os pares de correlações fortes\n",
    "for feature1, feature2, corr_value in pares_fortes:\n",
    "    print(f'{feature1} e {feature2}: correlação = {corr_value:.2f}')"
   ],
   "id": "869cca7ff4f11eba",
   "outputs": [],
   "execution_count": null
  },
  {
   "metadata": {},
   "cell_type": "code",
   "source": [
    "# Calcular a matriz de correlação de Spearman\n",
    "correlacao_spearman = df_agg.corr(method='spearman')\n",
    "\n",
    "# Plotar a matriz de correlação de Spearman\n",
    "plt.figure(figsize=(20, 15), dpi=300)\n",
    "sns.heatmap(correlacao_spearman, annot=True, fmt=\".2f\", cmap='coolwarm')\n",
    "plt.title('Matriz de Correlação - Spearman (Relações Não Lineares)')\n",
    "plt.show()\n",
    "plt.close()"
   ],
   "id": "da51e9446ef22cd1",
   "outputs": [],
   "execution_count": null
  },
  {
   "metadata": {},
   "cell_type": "code",
   "source": [
    "import seaborn as sns\n",
    "import matplotlib.pyplot as plt\n",
    "\n",
    "# Escolher algumas variáveis de interesse para visualizar as relações\n",
    "variaveis_interesse = ['idade', 'sexo', 'pessimismo', 'tristeza', 'fracasso', 'prazer', 'culpa', 'punicao',\n",
    "                       'estima', 'critica', 'suicida', 'choro', 'agitacao', 'interesse', 'indecisao', 'desvalorizacao',\n",
    "                       'energia', 'sono', 'irritabilidade', 'apetite', 'concentracao', 'fadiga', 'int_sexo',\n",
    "                       'quantAmigos', 'quantPosts', 'mediaStory', 'mediaMsg', 'horaMedia', 'modaDiaSemana',\n",
    "                       'quantPalavrasDepre']\n",
    "\n",
    "# Gerar gráficos de dispersão para ver relações não lineares\n",
    "for var1 in variaveis_interesse:\n",
    "    for var2 in variaveis_interesse:\n",
    "        if var1 != var2:\n",
    "            plt.figure(figsize=(8, 6))\n",
    "            sns.scatterplot(x=df_agg[var1], y=df_agg[var2])\n",
    "            plt.title(f'Relação entre {var1} e {var2}')\n",
    "            plt.show()\n",
    "            plt.close()"
   ],
   "id": "8a4661c38593c73c",
   "outputs": [],
   "execution_count": null
  },
  {
   "metadata": {},
   "cell_type": "code",
   "source": [
    "from sklearn.tree import DecisionTreeClassifier\n",
    "from sklearn.model_selection import train_test_split\n",
    "from sklearn.metrics import classification_report\n",
    "\n",
    "# Supondo que você esteja tentando prever um cluster (criado com K-Means)\n",
    "X = df_agg.drop(columns=['cluster'])\n",
    "y = df_agg['cluster']\n",
    "\n",
    "# Separar dados em treino e teste\n",
    "X_train, X_test, y_train, y_test = train_test_split(X, y, test_size=0.3, random_state=42)\n",
    "\n",
    "# Treinar uma árvore de decisão\n",
    "tree = DecisionTreeClassifier(random_state=42)\n",
    "tree.fit(X_train, y_train)\n",
    "\n",
    "# Fazer previsões\n",
    "y_pred = tree.predict(X_test)\n",
    "\n",
    "# Avaliar o modelo\n",
    "print(classification_report(y_test, y_pred))"
   ],
   "id": "88d70a0aff749904",
   "outputs": [],
   "execution_count": null
  },
  {
   "metadata": {},
   "cell_type": "code",
   "source": [
    "from sklearn.svm import SVC\n",
    "from sklearn.metrics import classification_report\n",
    "\n",
    "# Criar um modelo SVM com kernel RBF (não linear)\n",
    "svm_model = SVC(kernel='rbf', random_state=42)\n",
    "svm_model.fit(X_train, y_train)\n",
    "\n",
    "# Fazer previsões\n",
    "y_pred_svm = svm_model.predict(X_test)\n",
    "\n",
    "# Avaliar o modelo\n",
    "print(classification_report(y_test, y_pred_svm))"
   ],
   "id": "2baa0b199fc6cf85",
   "outputs": [],
   "execution_count": null
  }
 ],
 "metadata": {
  "kernelspec": {
   "display_name": "Python 3",
   "language": "python",
   "name": "python3"
  },
  "language_info": {
   "codemirror_mode": {
    "name": "ipython",
    "version": 2
   },
   "file_extension": ".py",
   "mimetype": "text/x-python",
   "name": "python",
   "nbconvert_exporter": "python",
   "pygments_lexer": "ipython2",
   "version": "2.7.6"
  }
 },
 "nbformat": 4,
 "nbformat_minor": 5
}
