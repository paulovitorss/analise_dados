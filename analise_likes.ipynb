{
 "cells": [
  {
   "cell_type": "code",
   "id": "initial_id",
   "metadata": {
    "collapsed": true
   },
   "source": [
    "import pymongo\n",
    "import pandas as pd"
   ],
   "outputs": [],
   "execution_count": null
  },
  {
   "metadata": {},
   "cell_type": "code",
   "source": [
    "client = pymongo.MongoClient(\"mongodb://localhost:27017/\")\n",
    "db = client[\"dadosVivamente\"]\n",
    "collection = db[\"likesComPerguntasComInfos\"]"
   ],
   "id": "7a6bb32be9aeb75a",
   "outputs": [],
   "execution_count": null
  },
  {
   "metadata": {},
   "cell_type": "code",
   "source": [
    "# Filtrando documentos com o atributo nivel maior ou igual a 2\n",
    "filtro = {\"tristeza\": {\"$gte\": \"2\"}}\n",
    "documentos = collection.find(filtro)"
   ],
   "id": "ba5a47bd08e116ad",
   "outputs": [],
   "execution_count": null
  },
  {
   "metadata": {},
   "cell_type": "code",
   "source": [
    "# Criando uma nova coleção com os documentos filtrados\n",
    "collectionFiltrada = db[\"likesSoTristeza\"]\n",
    "collectionFiltrada.insert_many(documentos)"
   ],
   "id": "e86b224001be65e6",
   "outputs": [],
   "execution_count": null
  },
  {
   "metadata": {},
   "cell_type": "code",
   "source": [
    "# Selecionando a coleção filtrada\n",
    "documentosFiltrados = collectionFiltrada.find()"
   ],
   "id": "80a0a44a089d7bbe",
   "outputs": [],
   "execution_count": null
  },
  {
   "metadata": {},
   "cell_type": "code",
   "source": [
    "df = pd.DataFrame(list(documentosFiltrados))\n",
    "\n",
    "# Salvando o dataframe em um arquivo csv\n",
    "df.to_csv(\"likesSoTristeza.csv\", index=False)"
   ],
   "id": "5d313305a7565703",
   "outputs": [],
   "execution_count": null
  }
 ],
 "metadata": {
  "kernelspec": {
   "display_name": "Python 3",
   "language": "python",
   "name": "python3"
  },
  "language_info": {
   "codemirror_mode": {
    "name": "ipython",
    "version": 2
   },
   "file_extension": ".py",
   "mimetype": "text/x-python",
   "name": "python",
   "nbconvert_exporter": "python",
   "pygments_lexer": "ipython2",
   "version": "2.7.6"
  }
 },
 "nbformat": 4,
 "nbformat_minor": 5
}
