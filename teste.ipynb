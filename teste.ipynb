{
 "cells": [
  {
   "metadata": {},
   "cell_type": "markdown",
   "source": "# Importando as bibliotecas",
   "id": "2bf9d9363b7b99f2"
  },
  {
   "metadata": {},
   "cell_type": "code",
   "source": [
    "import matplotlib.pyplot as plt\n",
    "import pandas as pd\n",
    "import seaborn as sns\n",
    "from pymannkendall import original_test\n",
    "from sklearn.cluster import KMeans\n",
    "from sklearn.metrics import silhouette_score\n",
    "from statsmodels.tsa.seasonal import seasonal_decompose\n",
    "from db import connection_db as conndb\n",
    "from db import filters\n",
    "from utils.extracao_interacao import ExtracaoInteracao\n",
    "from sklearn.metrics import davies_bouldin_score\n",
    "\n",
    "from utils.text_treatment import TextTreatment\n",
    "from tqdm.auto import tqdm\n",
    "\n",
    "tqdm.pandas()"
   ],
   "id": "4761db26da7a2327",
   "outputs": [],
   "execution_count": null
  },
  {
   "metadata": {},
   "cell_type": "markdown",
   "source": "# Conectando ao banco de dados do MongoDB",
   "id": "6ae872a7e38ede3b"
  },
  {
   "metadata": {},
   "cell_type": "markdown",
   "source": "Função para conectar ao MongoDB",
   "id": "f622710e46408511"
  },
  {
   "metadata": {},
   "cell_type": "code",
   "source": [
    "def conectar_mongodb(uri, db_name, collection_name):\n",
    "    mongo_connection = conndb.MongoDBConnection(uri=uri, database_name=db_name, collection_name=collection_name)\n",
    "    mongo_connection.connect()\n",
    "    return mongo_connection.collection"
   ],
   "id": "e2d64bb2f75c6432",
   "outputs": [],
   "execution_count": null
  },
  {
   "metadata": {},
   "cell_type": "code",
   "source": [
    "# Definindo os parâmetros de conexão\n",
    "uri = 'mongodb://localhost:27017/'\n",
    "db_name = 'dadosVivamente'\n",
    "collection_name = 'dadosSemFiltros'\n",
    "collection_name_filtered = 'dadosComFiltrosIniciais'\n",
    "\n",
    "collection = conectar_mongodb(uri, db_name, collection_name)\n",
    "collection_filtrada = conectar_mongodb(uri, db_name, collection_name_filtered)"
   ],
   "id": "42cf3fbf603081f6",
   "outputs": [],
   "execution_count": null
  },
  {
   "metadata": {},
   "cell_type": "markdown",
   "source": "# Aplicando pipeline para preparação dos dados",
   "id": "d76def679f1666f8"
  },
  {
   "metadata": {},
   "cell_type": "markdown",
   "source": "Função para aplicar os pipelines de filtro",
   "id": "eaa4d3f3e9e9386e"
  },
  {
   "metadata": {},
   "cell_type": "code",
   "source": [
    "def aplicar_pipelines(collection, collection_filtrada):\n",
    "    collection_filters = filters.CollectionFilters(collection)\n",
    "    collection_filters_likes = filters.CollectionFilters(collection_filtrada)\n",
    "\n",
    "    # Aplicar pipelines\n",
    "    collection_filters.apply_pipeline1('dadosComFiltrosIniciais')\n",
    "    # collection_filters.apply_pipeline2(7, 1, 'posts7anos1anos')\n",
    "    collection_filters.apply_pipeline3('postsComBDIAndInfos')\n",
    "    collection_filters.apply_pipeline4('posts')\n",
    "    collection_filters_likes.apply_pipeline6('likes')\n",
    "\n",
    "    return collection_filters.collection, collection_filters_likes.collection"
   ],
   "id": "dcb472b234e8f0ca",
   "outputs": [],
   "execution_count": null
  },
  {
   "metadata": {},
   "cell_type": "code",
   "source": [
    "# Aplicando os pipelinesc\n",
    "collection, collection_filtrada = aplicar_pipelines(collection, collection_filtrada)"
   ],
   "id": "d126ff84098dd08f",
   "outputs": [],
   "execution_count": null
  },
  {
   "metadata": {},
   "cell_type": "markdown",
   "source": "# Carregando os dados em um dataframe",
   "id": "305580acbd14b801"
  },
  {
   "metadata": {},
   "cell_type": "code",
   "source": [
    "documentos = collection.find()\n",
    "df_post_original = pd.DataFrame(list(documentos))\n",
    "\n",
    "# Visualizar as primeiras linhas do dataframe\n",
    "df_post_original.head()"
   ],
   "id": "a6ab0c78ee0f3255",
   "outputs": [],
   "execution_count": null
  },
  {
   "metadata": {},
   "cell_type": "code",
   "source": [
    "documentos_likes = collection_filtrada.find()\n",
    "df_original_likes = pd.DataFrame(list(documentos_likes))\n",
    "\n",
    "# Visualizar as primeiras linhas do dataframe\n",
    "df_original_likes.head()"
   ],
   "id": "5a5860c366c9cbd",
   "outputs": [],
   "execution_count": null
  },
  {
   "metadata": {},
   "cell_type": "code",
   "source": [
    "# Transformando a coluna sexo em binária\n",
    "df_post_original['sexo'] = df_post_original['sexo'].map({'F': 0, 'M': 1})\n",
    "\n",
    "# Removendo colunas desnecessárias\n",
    "df_post_original.drop(columns=['_id', 'diaDaSemana'], inplace=True)\n",
    "\n",
    "# Lista de colunas que precisam ser convertidas\n",
    "colunas_para_converter = [\n",
    "    'pessimismo', 'tristeza', 'fracasso', 'prazer', 'culpa', 'punicao', 'estima', 'critica', 'suicida', 'choro',\n",
    "    'agitacao', 'interesse', 'indecisao', 'desvalorizacao', 'energia', 'sono', 'irritabilidade', 'apetite',\n",
    "    'concentracao', 'fadiga', 'int_sexo', 'quantAmigos'\n",
    "]\n",
    "\n",
    "\n",
    "# Função para preencher valores nulos e converter o tipo de dado\n",
    "def preencher_e_converter(df, colunas, valor_preenchimento=0, tipo_dados='int64'):\n",
    "    df[colunas] = df[colunas].fillna(valor_preenchimento)\n",
    "    df[colunas] = df[colunas].astype(tipo_dados)\n",
    "    return df"
   ],
   "id": "4d4f9445061f1c04",
   "outputs": [],
   "execution_count": null
  },
  {
   "metadata": {},
   "cell_type": "code",
   "source": "df_post_original = preencher_e_converter(df_post_original, colunas_para_converter)",
   "id": "98c21e18edf62b6c",
   "outputs": [],
   "execution_count": null
  },
  {
   "metadata": {},
   "cell_type": "code",
   "source": [
    "# Remover usuarios que tem menos de 100 posts\n",
    "df_post_original = df_post_original.groupby('id_usuario').filter(lambda value: len(value) >= 100)"
   ],
   "id": "396e1df26f5439d7",
   "outputs": [],
   "execution_count": null
  },
  {
   "metadata": {},
   "cell_type": "code",
   "source": [
    "# Função para manipular datas e filtrar posts\n",
    "def manipular_e_filtrar_posts(df):\n",
    "    df['data'] = df['postCreatedTime'].dt.date\n",
    "    df['data'] = pd.to_datetime(df['data'])\n",
    "    df['mes'] = df['data'].dt.to_period('M')\n",
    "    df['semana'] = df['data'].dt.to_period('W')\n",
    "\n",
    "    df_data = df[df['data'].dt.year == 2017]\n",
    "    df_data = df_data[~((df_data['data'].dt.month == 12) & (df_data['data'].dt.year == 2017))]\n",
    "    df_data = df_data[df_data['data'].dt.month >= 5]\n",
    "    df_data = df_data[df_data['suicida'] == 3]\n",
    "\n",
    "    # Remover posts vazios\n",
    "    df_data = df_data.dropna(subset=['postMessage', 'postStory'], how='all')\n",
    "    df_data = df_data[~((df_data['postMessage'].str.strip() == '') & (df_data['postStory'].str.strip() == ''))]\n",
    "\n",
    "    return df_data"
   ],
   "id": "bfbdca777809441f",
   "outputs": [],
   "execution_count": null
  },
  {
   "metadata": {},
   "cell_type": "code",
   "source": "df_posts = manipular_e_filtrar_posts(df_post_original)",
   "id": "feff74771b3db3ad",
   "outputs": [],
   "execution_count": null
  },
  {
   "metadata": {},
   "cell_type": "code",
   "source": [
    "# Remover usuarios que tem menos de 100 posts\n",
    "df_posts = df_posts.groupby('id_usuario').filter(lambda value: len(value) >= 100)\n",
    "\n",
    "df_posts.head()"
   ],
   "id": "cb5685edb7025781",
   "outputs": [],
   "execution_count": null
  },
  {
   "metadata": {},
   "cell_type": "code",
   "source": "df_posts['id_usuario'].nunique()",
   "id": "23046dd602cd0ad9",
   "outputs": [],
   "execution_count": null
  },
  {
   "metadata": {},
   "cell_type": "code",
   "source": [
    "# Função para manipular datas e filtrar posts\n",
    "def manipular_e_filtrar_likes(df):\n",
    "    df['data'] = df['likeCreatedTime'].dt.date\n",
    "    df['data'] = pd.to_datetime(df['data'])\n",
    "    df['mes'] = df['data'].dt.to_period('M')\n",
    "    df['semana'] = df['data'].dt.to_period('W')\n",
    "\n",
    "    df_data = df[df['data'].dt.year == 2017]\n",
    "    df_data = df_data[~((df_data['data'].dt.month == 12) & (df_data['data'].dt.year == 2017))]\n",
    "    df_data = df_data[df_data['data'].dt.month >= 5]\n",
    "\n",
    "    return df_data"
   ],
   "id": "97695ddf4949c826",
   "outputs": [],
   "execution_count": null
  },
  {
   "metadata": {},
   "cell_type": "code",
   "source": [
    "df_likes = manipular_e_filtrar_likes(df_original_likes)\n",
    "\n",
    "# Pegar os mesmos usuários do df_posts\n",
    "df_likes = df_likes[df_likes['id_usuario'].isin(df_posts['id_usuario'])]\n",
    "\n",
    "# Adicionar a coluna de quantidade de likes\n",
    "df_likes['quantLikes'] = df_likes['id_usuario'].apply(lambda value: 1 if pd.notnull(value) else 0)\n",
    "\n",
    "df_likes.head()"
   ],
   "id": "c5e98078f69c698b",
   "outputs": [],
   "execution_count": null
  },
  {
   "metadata": {},
   "cell_type": "markdown",
   "source": "# Adicionar interações do usuário",
   "id": "427ae230af859a61"
  },
  {
   "metadata": {},
   "cell_type": "code",
   "source": [
    "df_posts['quantPostMsg'] = df_posts['postMessage'].apply(\n",
    "    lambda value: 1 if pd.notnull(value) and value.strip() != '' else 0)\n",
    "\n",
    "df_posts['quantPostStory'] = df_posts['postStory'].apply(\n",
    "    lambda value: 1 if pd.notnull(value) and value.strip() != '' else 0)\n",
    "\n",
    "df_posts['quantPosts'] = 1"
   ],
   "id": "393573416ab8aad5",
   "outputs": [],
   "execution_count": null
  },
  {
   "metadata": {},
   "cell_type": "code",
   "source": [
    "extracao = ExtracaoInteracao(df_posts)\n",
    "df_posts_interacoes = extracao.extract_interactions()\n",
    "\n",
    "df_posts_interacoes.head()"
   ],
   "id": "f24b694c7310264b",
   "outputs": [],
   "execution_count": null
  },
  {
   "metadata": {},
   "cell_type": "markdown",
   "source": "Função para calcular e visualizar a distribuição de postagens por usuário",
   "id": "9a3bed535d822cf7"
  },
  {
   "metadata": {},
   "cell_type": "code",
   "source": [
    "def plotar_histogramas_posts(df):\n",
    "    fig, axs = plt.subplots(3, 1, figsize=(10, 8), dpi=300)\n",
    "\n",
    "    # Quantidade geral de postagens\n",
    "    quant_posts = df.groupby('id_usuario').size().reset_index(name='quant_posts')\n",
    "    axs[0].hist(quant_posts['quant_posts'], bins=50)\n",
    "    axs[0].set_xlabel('Quant de Posts')\n",
    "    axs[0].set_ylabel('Quant de Usuários')\n",
    "\n",
    "    # Quantidade de postagens com mensagem\n",
    "    quant_msg = df.groupby('id_usuario')['quantPostMsg'].sum().reset_index(name='quant_msg')\n",
    "    axs[1].hist(quant_msg['quant_msg'], bins=50)\n",
    "    axs[1].set_xlabel('Quant de Posts com Mensagem')\n",
    "    axs[1].set_ylabel('Quant de Usuários')\n",
    "\n",
    "    # Quantidade de postagens com story\n",
    "    quant_story = df.groupby('id_usuario')['quantPostStory'].sum().reset_index(name='quant_story')\n",
    "    axs[2].hist(quant_story['quant_story'], bins=50)\n",
    "    axs[2].set_xlabel('Quant de Posts com Story')\n",
    "    axs[2].set_ylabel('Quant de Usuários')\n",
    "\n",
    "    plt.tight_layout()\n",
    "    plt.show()"
   ],
   "id": "8afddce54b2b0687",
   "outputs": [],
   "execution_count": null
  },
  {
   "metadata": {},
   "cell_type": "code",
   "source": "plotar_histogramas_posts(df_posts_interacoes)",
   "id": "8809785808967467",
   "outputs": [],
   "execution_count": null
  },
  {
   "metadata": {},
   "cell_type": "code",
   "source": [
    "def plotar_histogramas_interacoes(df):\n",
    "    fig, axs = plt.subplots(3, 2, figsize=(10, 8), dpi=300)\n",
    "\n",
    "    # Quantidade de atualização de Perfil\n",
    "    quant_profile = df.groupby('id_usuario')['quantProfile'].sum().reset_index(name='quant_profile')\n",
    "    axs[0, 0].hist(quant_profile['quant_profile'], bins=50)\n",
    "    axs[0, 0].set_xlabel('Quant de Atualizações de Perfil')\n",
    "    axs[0, 0].set_ylabel('Quant de Usuários')\n",
    "\n",
    "    # Quantidade de atualização de Capa\n",
    "    quant_cover = df.groupby('id_usuario')['quantCover'].sum().reset_index(name='quant_cover')\n",
    "    axs[0, 1].hist(quant_cover['quant_cover'], bins=50)\n",
    "    axs[0, 1].set_xlabel('Quant de Atualizações de Capa')\n",
    "    axs[0, 1].set_ylabel('Quant de Usuários')\n",
    "\n",
    "    # Quantidade de fotos com outras pessoas\n",
    "    quant_photo_with_others = df.groupby('id_usuario')['quantAddPhotoWithOthers'].sum().reset_index(\n",
    "        name='quant_photo_with_others')\n",
    "    axs[1, 0].hist(quant_photo_with_others['quant_photo_with_others'], bins=50)\n",
    "    axs[1, 0].set_xlabel('Quant de Fotos com Outras Pessoas')\n",
    "    axs[1, 0].set_ylabel('Quant de Usuários')\n",
    "\n",
    "    # Quantidade de está com outras pessoas\n",
    "    quant_is_with_others = df.groupby('id_usuario')['quantIsWithOthers'].sum().reset_index(name='quant_is_with_others')\n",
    "    axs[1, 1].hist(quant_is_with_others['quant_is_with_others'], bins=50)\n",
    "    axs[1, 1].set_xlabel('Quant de Está com Outras Pessoas')\n",
    "    axs[1, 1].set_ylabel('Quant de Usuários')\n",
    "\n",
    "    # Quantidade de fotos adicionadas\n",
    "    quant_add_photo = df.groupby('id_usuario')['quantAddPhoto'].sum().reset_index(name='quant_add_photo')\n",
    "    axs[2, 0].hist(quant_add_photo['quant_add_photo'], bins=50)\n",
    "    axs[2, 0].set_xlabel('Quant de Fotos Adicionadas')\n",
    "    axs[2, 0].set_ylabel('Quant de Usuários')\n",
    "\n",
    "    # Quantidade de fotos compartilhadas\n",
    "    quant_shared_photo = df.groupby('id_usuario')['quantSharedPhoto'].sum().reset_index(name='quant_shared_photo')\n",
    "    axs[2, 1].hist(quant_shared_photo['quant_shared_photo'], bins=50)\n",
    "    axs[2, 1].set_xlabel('Quant de Fotos Compartilhadas')\n",
    "    axs[2, 1].set_ylabel('Quant de Usuários')\n",
    "\n",
    "    plt.tight_layout()\n",
    "    plt.show()"
   ],
   "id": "719bc368418eb20d",
   "outputs": [],
   "execution_count": null
  },
  {
   "metadata": {},
   "cell_type": "code",
   "source": "plotar_histogramas_interacoes(df_posts_interacoes)",
   "id": "bbf4f7e8d46250c9",
   "outputs": [],
   "execution_count": null
  },
  {
   "metadata": {},
   "cell_type": "code",
   "source": [
    "def plotar_histogramas_interacoes_2(df):\n",
    "    fig, axs = plt.subplots(3, 2, figsize=(10, 8), dpi=300)\n",
    "\n",
    "    # Quantidade de vídeos compartilhados\n",
    "    quant_shared_video = df.groupby('id_usuario')['quantSharedVideo'].sum().reset_index(name='quant_shared_video')\n",
    "    axs[0, 0].hist(quant_shared_video['quant_shared_video'], bins=50)\n",
    "    axs[0, 0].set_xlabel('Quant de Vídeos Compartilhados')\n",
    "    axs[0, 0].set_ylabel('Quant de Usuários')\n",
    "\n",
    "    # Quantidade de links compartilhados\n",
    "    quant_shared_link = df.groupby('id_usuario')['quantSharedLink'].sum().reset_index(name='quant_shared_link')\n",
    "    axs[0, 1].hist(quant_shared_link['quant_shared_link'], bins=50)\n",
    "    axs[0, 1].set_xlabel('Quant de Links Compartilhados')\n",
    "    axs[0, 1].set_ylabel('Quant de Usuários')\n",
    "\n",
    "    # Quantidade de posts compartilhados\n",
    "    quant_shared_post = df.groupby('id_usuario')['quantSharedPost'].sum().reset_index(name='quant_shared_post')\n",
    "    axs[1, 0].hist(quant_shared_post['quant_shared_post'], bins=50)\n",
    "    axs[1, 0].set_xlabel('Quant de Posts Compartilhados')\n",
    "    axs[1, 0].set_ylabel('Quant de Usuários')\n",
    "\n",
    "    # Quantidade de eventos compartilhados\n",
    "    quant_shared_event = df.groupby('id_usuario')['quantSharedEvent'].sum().reset_index(name='quant_shared_event')\n",
    "    axs[1, 1].hist(quant_shared_event['quant_shared_event'], bins=50)\n",
    "    axs[1, 1].set_xlabel('Quant de Eventos Compartilhados')\n",
    "    axs[1, 1].set_ylabel('Quant de Usuários')\n",
    "\n",
    "    # Quantidade de memórias compartilhadas\n",
    "    quant_shared_memory = df.groupby('id_usuario')['quantSharedMemory'].sum().reset_index(name='quant_shared_memory')\n",
    "    axs[2, 0].hist(quant_shared_memory['quant_shared_memory'], bins=50)\n",
    "    axs[2, 0].set_xlabel('Quant de Memórias Compartilhadas')\n",
    "    axs[2, 0].set_ylabel('Quant de Usuários')\n",
    "\n",
    "    # Quantidade de status\n",
    "    quant_status = df.groupby('id_usuario')['quantStatus'].sum().reset_index(name='quant_status')\n",
    "    axs[2, 1].hist(quant_status['quant_status'], bins=50)\n",
    "    axs[2, 1].set_xlabel('Quant de Atualizações de Status')\n",
    "    axs[2, 1].set_ylabel('Quant de Usuários')\n",
    "\n",
    "    plt.tight_layout()\n",
    "    plt.show()"
   ],
   "id": "d4777292506a98ad",
   "outputs": [],
   "execution_count": null
  },
  {
   "metadata": {},
   "cell_type": "code",
   "source": "plotar_histogramas_interacoes_2(df_posts_interacoes)",
   "id": "83fd8dc840ecefdb",
   "outputs": [],
   "execution_count": null
  },
  {
   "metadata": {},
   "cell_type": "code",
   "source": "df_posts_interacoes.head()",
   "id": "912a7c8b95e7cb75",
   "outputs": [],
   "execution_count": null
  },
  {
   "metadata": {},
   "cell_type": "code",
   "source": [
    "df_agrupado_soma = df_posts_interacoes.groupby(['id_usuario']).agg(\n",
    "    idade=('idade', 'first'),\n",
    "    sexo=('sexo', 'first'),\n",
    "    quantAmigos=('quantAmigos', 'first'),\n",
    "    quantPosts=('quantPosts', 'sum'),\n",
    "    quantPostMsg=('quantPostMsg', 'sum'),\n",
    "    somaProfile=('quantProfile', 'sum'),\n",
    "    somaCover=('quantCover', 'sum'),\n",
    "    somaStatus=('quantStatus', 'sum'),\n",
    "    somaAddPhotoWithOthers=('quantAddPhotoWithOthers', 'sum'),\n",
    "    somaIsWithOthers=('quantIsWithOthers', 'sum'),\n",
    "    somaAddPhoto=('quantAddPhoto', 'sum'),\n",
    "    somaSharedPhoto=('quantSharedPhoto', 'sum'),\n",
    "    somaSharedVideo=('quantSharedVideo', 'sum'),\n",
    "    somaSharedLink=('quantSharedLink', 'sum'),\n",
    "    somaSharedPost=('quantSharedPost', 'sum'),\n",
    "    somaSharedEvent=('quantSharedEvent', 'sum'),\n",
    "    somaSharedMemory=('quantSharedMemory', 'sum'),\n",
    "    pessimismo=('pessimismo', 'first'),\n",
    "    tristeza=('tristeza', 'first'),\n",
    "    fracasso=('fracasso', 'first'),\n",
    "    prazer=('prazer', 'first'),\n",
    "    culpa=('culpa', 'first'),\n",
    "    punicao=('punicao', 'first'),\n",
    "    estima=('estima', 'first'),\n",
    "    critica=('critica', 'first'),\n",
    "    suicida=('suicida', 'first'),\n",
    "    choro=('choro', 'first'),\n",
    "    agitacao=('agitacao', 'first'),\n",
    "    interesse=('interesse', 'first'),\n",
    "    indecisao=('indecisao', 'first'),\n",
    "    desvalorizacao=('desvalorizacao', 'first'),\n",
    "    energia=('energia', 'first'),\n",
    "    sono=('sono', 'first'),\n",
    "    irritabilidade=('irritabilidade', 'first'),\n",
    "    apetite=('apetite', 'first'),\n",
    "    concentracao=('concentracao', 'first'),\n",
    "    fadiga=('fadiga', 'first'),\n",
    "    int_sexo=('int_sexo', 'first'),\n",
    ").reset_index()"
   ],
   "id": "31dda36457bc68f3",
   "outputs": [],
   "execution_count": null
  },
  {
   "metadata": {},
   "cell_type": "code",
   "source": [
    "df_likes_agrupado = df_likes.groupby('id_usuario').agg(\n",
    "    somaLikes=('quantLikes', 'sum')\n",
    ")\n",
    "\n",
    "# Juntar os dataframes\n",
    "df_agrupado_soma = df_agrupado_soma.merge(df_likes_agrupado, on='id_usuario', how='left')\n",
    "\n",
    "# Preencher valores NaN com 0\n",
    "df_agrupado_soma.fillna(0, inplace=True)"
   ],
   "id": "2de4cd096ea334aa",
   "outputs": [],
   "execution_count": null
  },
  {
   "metadata": {},
   "cell_type": "code",
   "source": [
    "# Criar uma matriz de correlação para as interações\n",
    "colunas_interacoes = df_agrupado_soma[[\n",
    "    'quantPostMsg', 'somaProfile', 'somaCover', 'somaAddPhotoWithOthers', 'somaIsWithOthers', 'somaAddPhoto',\n",
    "    'somaSharedPhoto', 'somaSharedVideo', 'somaSharedLink', 'somaSharedPost', 'somaSharedEvent', 'somaSharedMemory',\n",
    "    'somaStatus', 'somaLikes'\n",
    "]]\n",
    "\n",
    "matriz_correlacao = colunas_interacoes.corr(method='spearman')\n",
    "\n",
    "plt.figure(figsize=(12, 8))\n",
    "sns.heatmap(matriz_correlacao, annot=True, cmap='coolwarm', fmt='.2f')\n",
    "plt.show()"
   ],
   "id": "afc7759ca2887ee1",
   "outputs": [],
   "execution_count": null
  },
  {
   "metadata": {},
   "cell_type": "code",
   "source": [
    "from scipy.stats import spearmanr\n",
    "\n",
    "# Testar para todas as combinações de variáveis\n",
    "for i in range(len(colunas_interacoes.columns)):\n",
    "    for j in range(i + 1, len(colunas_interacoes.columns)):\n",
    "        x = colunas_interacoes.iloc[:, i]\n",
    "        y = colunas_interacoes.iloc[:, j]\n",
    "\n",
    "        spearman_corr, p_value = spearmanr(x, y)\n",
    "        print(\n",
    "            f'Correlação de Spearman entre {colunas_interacoes.columns[i]} e {colunas_interacoes.columns[j]}: {spearman_corr}')\n",
    "        print(f'P-valor de Spearman: {p_value}')"
   ],
   "id": "522ce485bca211f7",
   "outputs": [],
   "execution_count": null
  },
  {
   "metadata": {},
   "cell_type": "code",
   "source": [
    "df_agrupado_soma['mediaInteracoesComOutros'] = df_agrupado_soma[[\n",
    "    'somaAddPhotoWithOthers', 'somaIsWithOthers'\n",
    "]].mean(axis=1).round(2)\n",
    "\n",
    "df_agrupado_soma['mediaAtualizacaoPerfil'] = df_agrupado_soma[[\n",
    "    'somaProfile', 'somaCover'\n",
    "]].mean(axis=1).round(2)\n",
    "\n",
    "df_agrupado_soma['mediaSharedPhotoPost'] = df_agrupado_soma[[\n",
    "    'somaSharedPhoto', 'somaSharedPost'\n",
    "]].mean(axis=1).round(2)\n",
    "\n",
    "# Dropar as colunas originais\n",
    "df_agrupado_soma.drop(columns=[\n",
    "    'somaProfile', 'somaCover', 'somaAddPhotoWithOthers', 'somaIsWithOthers', 'somaSharedPhoto', 'somaSharedPost'\n",
    "], inplace=True)"
   ],
   "id": "b23435a2468db88c",
   "outputs": [],
   "execution_count": null
  },
  {
   "metadata": {},
   "cell_type": "code",
   "source": [
    "# Criar uma matriz de correlação para as respostas do BDI\n",
    "colunas_respostas = df_agrupado_soma[[\n",
    "    'pessimismo', 'tristeza', 'fracasso', 'prazer', 'culpa', 'punicao', 'estima', 'critica', 'choro',\n",
    "    'agitacao', 'interesse', 'indecisao', 'desvalorizacao', 'energia', 'sono', 'irritabilidade', 'apetite',\n",
    "    'concentracao', 'fadiga', 'int_sexo', 'idade', 'sexo', 'quantAmigos'\n",
    "]]\n",
    "\n",
    "matriz_correlacao_respostas = colunas_respostas.corr(method='spearman')\n",
    "\n",
    "plt.figure(figsize=(12, 8))\n",
    "sns.heatmap(matriz_correlacao_respostas, annot=True, cmap='coolwarm', fmt='.2f')\n",
    "plt.show()\n",
    "\n",
    "# Testar para todas as combinações de variáveis\n",
    "for i in range(len(colunas_respostas.columns)):\n",
    "    for j in range(i + 1, len(colunas_respostas.columns)):\n",
    "        x = colunas_respostas.iloc[:, i]\n",
    "        y = colunas_respostas.iloc[:, j]\n",
    "\n",
    "        spearman_corr, p_value = spearmanr(x, y)\n",
    "        print(\n",
    "            f'Correlação de Spearman entre {colunas_respostas.columns[i]} e {colunas_respostas.columns[j]}: {spearman_corr}')\n",
    "        print(f'P-valor de Spearman: {p_value}')"
   ],
   "id": "d2da0cb89d9752b8",
   "outputs": [],
   "execution_count": null
  },
  {
   "metadata": {},
   "cell_type": "code",
   "source": [
    "variaveis = df_agrupado_soma[[\n",
    "    'quantPosts'\n",
    "]]"
   ],
   "id": "f40fe3007461fe4c",
   "outputs": [],
   "execution_count": null
  },
  {
   "metadata": {},
   "cell_type": "code",
   "source": [
    "k_values = range(2, 11)\n",
    "silhouette_scores = []\n",
    "davies_bouldin_scores = []\n",
    "inertias = []\n",
    "\n",
    "for k in k_values:\n",
    "    kmeans = KMeans(n_clusters=k, random_state=42)\n",
    "    kmeans.fit(variaveis)\n",
    "    inertias.append(kmeans.inertia_)\n",
    "\n",
    "    # Obter os rótulos dos clusters\n",
    "    labels = kmeans.labels_\n",
    "\n",
    "    # Calcular o Coeficiente de Silhueta\n",
    "    silhouette_avg = silhouette_score(variaveis, labels)\n",
    "    silhouette_scores.append(silhouette_avg)\n",
    "\n",
    "    # Calcular o Índice de Davies-Bouldin\n",
    "    db_index = davies_bouldin_score(variaveis, labels)\n",
    "    davies_bouldin_scores.append(db_index)"
   ],
   "id": "401c9a466d55fd59",
   "outputs": [],
   "execution_count": null
  },
  {
   "metadata": {},
   "cell_type": "code",
   "source": [
    "# Plotar as métricas em um único gráfico\n",
    "fig, ax1 = plt.subplots(figsize=(10, 6))\n",
    "\n",
    "# Gráfico da Inércia\n",
    "color_inertia = 'tab:blue'\n",
    "ax1.set_xlabel('Número de Clusters (k)')\n",
    "ax1.set_ylabel('Inércia', color=color_inertia)\n",
    "ax1.plot(k_values, inertias, marker='o', color=color_inertia, label='Inércia')\n",
    "ax1.tick_params(axis='y', labelcolor=color_inertia)\n",
    "ax1.set_xticks(k_values)\n",
    "\n",
    "ax2 = ax1.twinx()\n",
    "\n",
    "color_silhouette = 'tab:green'\n",
    "color_db = 'tab:red'\n",
    "ax2.set_ylabel('Métricas', color='black')\n",
    "ax2.plot(k_values, silhouette_scores, marker='s', color=color_silhouette, label='Coeficiente de Silhueta')\n",
    "ax2.plot(k_values, davies_bouldin_scores, marker='^', color=color_db, label='Índice de Davies-Bouldin')\n",
    "ax2.tick_params(axis='y', labelcolor='black')\n",
    "\n",
    "# Combinar as legendas\n",
    "lines_labels = [ax1.get_legend_handles_labels(), ax2.get_legend_handles_labels()]\n",
    "lines, labels = [sum(lol, []) for lol in zip(*lines_labels)]\n",
    "ax2.legend(lines, labels, loc='upper right')\n",
    "\n",
    "# Título do Gráfico\n",
    "# plt.title('Avaliação do K-Means com Inércia, Coeficiente de Silhueta e Índice de Davies-Bouldin')\n",
    "\n",
    "plt.show()"
   ],
   "id": "a6bb70bf5ecb340",
   "outputs": [],
   "execution_count": null
  },
  {
   "metadata": {},
   "cell_type": "code",
   "source": [
    "# Printar o silhouette score junto com o número de clusters\n",
    "for k, score in zip(k_values, silhouette_scores):\n",
    "    print(f'Número de Clusters: {k} - Coeficiente de Silhueta: {score}')\n",
    "\n",
    "print('\\n')\n",
    "\n",
    "# Printar o índice de Davies-Bouldin junto com o número de clusters\n",
    "for k, score in zip(k_values, davies_bouldin_scores):\n",
    "    print(f'Número de Clusters: {k} - Índice de Davies-Bouldin: {score}')\n",
    "\n",
    "# Printar a inércia junto com o número de clusters\n",
    "for k, score in zip(k_values, inertias):\n",
    "    print(f'Número de Clusters: {k} - Inércia: {score}')"
   ],
   "id": "6035314d382ae30a",
   "outputs": [],
   "execution_count": null
  },
  {
   "metadata": {},
   "cell_type": "code",
   "source": [
    "kmeans = KMeans(n_clusters=3, random_state=42)\n",
    "\n",
    "kmeans.fit(variaveis)\n",
    "\n",
    "df_agrupado_soma['cluster'] = kmeans.labels_\n",
    "\n",
    "print(df_agrupado_soma[['id_usuario', 'cluster']].head())"
   ],
   "id": "939758e80d6950ed",
   "outputs": [],
   "execution_count": null
  },
  {
   "metadata": {},
   "cell_type": "code",
   "source": "df_agrupado_soma['cluster'].value_counts()",
   "id": "8a69962567c74902",
   "outputs": [],
   "execution_count": null
  },
  {
   "metadata": {},
   "cell_type": "code",
   "source": [
    "def teste_mk(df_cluster, periodo, tipo_serie='posts'):\n",
    "    resultados_mk = []\n",
    "\n",
    "    for usuario in df_cluster['id_usuario'].unique():\n",
    "        df_usuario = df_cluster[df_cluster['id_usuario'] == usuario]\n",
    "\n",
    "        eventos_por_dia = df_usuario.groupby('data').size()\n",
    "\n",
    "        if len(eventos_por_dia) >= 2 * periodo:\n",
    "            try:\n",
    "                resultado = seasonal_decompose(eventos_por_dia, model='additive', period=periodo)\n",
    "                tendencia = resultado.trend.dropna()\n",
    "\n",
    "                if len(tendencia) > 0:\n",
    "                    result = original_test(tendencia)\n",
    "\n",
    "                    if hasattr(result, 'trend'):\n",
    "                        resultados_mk.append({\n",
    "                            'id_usuario': usuario,\n",
    "                            'trend': result.trend,\n",
    "                            'h': result.h,\n",
    "                            'p-valor': result.p,\n",
    "                            'z': result.z,\n",
    "                            'Tau': result.Tau,\n",
    "                            'slope': result.slope,\n",
    "                        })\n",
    "                    else:\n",
    "                        print(f\"Usuário {usuario} - Resultado do teste de Mann-Kendall sem 'trend'.\")\n",
    "                else:\n",
    "                    print(f\"Usuário {usuario} - Não foi possível decompor dados suficientes para tendência.\")\n",
    "            except ValueError as e:\n",
    "                print(f\"Erro ao decompor a série para o usuário {usuario}: {e}\")\n",
    "        else:\n",
    "            print(\n",
    "                f\"Usuário {usuario} não tem observações suficientes para decomposição. Necessário: {2 * periodo}, disponível: {len(eventos_por_dia)}\")\n",
    "\n",
    "    # Criando o DataFrame apenas se houver resultados suficientes\n",
    "    if resultados_mk:\n",
    "        df_resultados_mk = pd.DataFrame(resultados_mk)\n",
    "\n",
    "        if 'trend' in df_resultados_mk.columns:\n",
    "            contagem_tendencias = df_resultados_mk['trend'].value_counts()\n",
    "            print(contagem_tendencias)\n",
    "\n",
    "            total_usuarios = df_resultados_mk.shape[0]\n",
    "            percentuais = (contagem_tendencias / total_usuarios) * 100\n",
    "            print(percentuais)\n",
    "\n",
    "            # Gráfico de barras das tendências\n",
    "            plt.figure(figsize=(8, 6))\n",
    "            sns.countplot(data=df_resultados_mk, x='trend', order=['increasing', 'decreasing', 'no trend'])\n",
    "            # plt.title(f'Distribuição de Tendências entre Usuários ({tipo_serie.capitalize()})')\n",
    "            plt.xlabel('Tipo de Tendência')\n",
    "            plt.ylabel('Número de Usuários')\n",
    "            plt.show()\n",
    "\n",
    "            # Gráfico de distribuição dos slopes\n",
    "            plt.figure(figsize=(10, 6))\n",
    "            sns.histplot(df_resultados_mk['slope'], bins=20, kde=True)\n",
    "            # plt.title(f'Distribuição dos Slopes entre Usuários ({tipo_serie.capitalize()})')\n",
    "            plt.xlabel('Slope')\n",
    "            plt.ylabel('Frequência')\n",
    "            plt.show()\n",
    "\n",
    "        else:\n",
    "            print(\"Nenhuma tendência foi detectada nos dados.\")\n",
    "\n",
    "        return df_resultados_mk\n",
    "    else:\n",
    "        print(\"Nenhum dado disponível para análise.\")\n",
    "        return pd.DataFrame()"
   ],
   "id": "5ff56a4ec4668e70",
   "outputs": [],
   "execution_count": null
  },
  {
   "metadata": {},
   "cell_type": "code",
   "source": "df_agrupado_soma.head()",
   "id": "5dda2872da66e57f",
   "outputs": [],
   "execution_count": null
  },
  {
   "metadata": {},
   "cell_type": "code",
   "source": [
    "# Buscar no dataframe df_posts_interacoes os usuários do cluster 0, 1 e 2\n",
    "df_cluster0_soma = df_posts_interacoes[\n",
    "    df_posts_interacoes['id_usuario'].isin(df_agrupado_soma[df_agrupado_soma['cluster'] == 0]['id_usuario'])]\n",
    "\n",
    "df_cluster1_soma = df_posts_interacoes[\n",
    "    df_posts_interacoes['id_usuario'].isin(df_agrupado_soma[df_agrupado_soma['cluster'] == 1]['id_usuario'])]\n",
    "\n",
    "df_cluster2_soma = df_posts_interacoes[\n",
    "    df_posts_interacoes['id_usuario'].isin(df_agrupado_soma[df_agrupado_soma['cluster'] == 2]['id_usuario'])]\n",
    "\n",
    "df_cluster = pd.concat([df_cluster0_soma, df_cluster1_soma, df_cluster2_soma])"
   ],
   "id": "fa1b7ab2ea3c9987",
   "outputs": [],
   "execution_count": null
  },
  {
   "metadata": {
    "ExecuteTime": {
     "end_time": "2024-10-22T01:25:52.865174Z",
     "start_time": "2024-10-22T01:25:51.663773Z"
    }
   },
   "cell_type": "code",
   "source": [
    "resultados_mk_cluster0 = teste_mk(df_cluster0_soma, 30)\n",
    "resultados_mk_cluster1 = teste_mk(df_cluster1_soma, 30)\n",
    "resultados_mk_cluster2 = teste_mk(df_cluster2_soma, 30)\n",
    "resultados_mk = pd.concat([resultados_mk_cluster0, resultados_mk_cluster1, resultados_mk_cluster2])\n",
    "\n",
    "# Salvar o resultado em um arquivo CSV\n",
    "resultados_mk_cluster0.to_csv('resultados_mk_cluster0.csv', index=False)\n",
    "resultados_mk_cluster1.to_csv('resultados_mk_cluster1.csv', index=False)\n",
    "resultados_mk_cluster2.to_csv('resultados_mk_cluster2.csv', index=False)\n",
    "resultados_mk.to_csv('resultados_mk.csv', index=False)"
   ],
   "id": "bf8478cb7cdc660e",
   "outputs": [
    {
     "name": "stdout",
     "output_type": "stream",
     "text": [
      "Usuário 147241516036309 não tem observações suficientes para decomposição. Necessário: 60, disponível: 35\n",
      "Usuário 155901805158593 não tem observações suficientes para decomposição. Necessário: 60, disponível: 53\n",
      "trend\n",
      "decreasing    15\n",
      "increasing     5\n",
      "no trend       5\n",
      "Name: count, dtype: int64\n",
      "trend\n",
      "decreasing    60.0\n",
      "increasing    20.0\n",
      "no trend      20.0\n",
      "Name: count, dtype: float64\n"
     ]
    },
    {
     "data": {
      "text/plain": [
       "<Figure size 800x600 with 1 Axes>"
      ],
      "image/png": "[encoded data removed]"
     },
     "metadata": {},
     "output_type": "display_data"
    },
    {
     "data": {
      "text/plain": [
       "<Figure size 1000x600 with 1 Axes>"
      ],
      "image/png": "[encoded data removed]"
     },
     "metadata": {},
     "output_type": "display_data"
    },
    {
     "name": "stdout",
     "output_type": "stream",
     "text": [
      "Usuário 872507229580251 não tem observações suficientes para decomposição. Necessário: 60, disponível: 48\n",
      "trend\n",
      "increasing    5\n",
      "decreasing    5\n",
      "Name: count, dtype: int64\n",
      "trend\n",
      "increasing    50.0\n",
      "decreasing    50.0\n",
      "Name: count, dtype: float64\n"
     ]
    },
    {
     "data": {
      "text/plain": [
       "<Figure size 800x600 with 1 Axes>"
      ],
      "image/png": "[encoded data removed]"
     },
     "metadata": {},
     "output_type": "display_data"
    },
    {
     "data": {
      "text/plain": [
       "<Figure size 1000x600 with 1 Axes>"
      ],
      "image/png": "[encoded data removed]"
     },
     "metadata": {},
     "output_type": "display_data"
    },
    {
     "name": "stdout",
     "output_type": "stream",
     "text": [
      "Usuário 1257481127685383 não tem observações suficientes para decomposição. Necessário: 60, disponível: 56\n",
      "Usuário 150662362372338 não tem observações suficientes para decomposição. Necessário: 60, disponível: 29\n",
      "Usuário 299741130514772 não tem observações suficientes para decomposição. Necessário: 60, disponível: 50\n",
      "trend\n",
      "decreasing    11\n",
      "increasing     8\n",
      "no trend       6\n",
      "Name: count, dtype: int64\n",
      "trend\n",
      "decreasing    44.0\n",
      "increasing    32.0\n",
      "no trend      24.0\n",
      "Name: count, dtype: float64\n"
     ]
    },
    {
     "data": {
      "text/plain": [
       "<Figure size 800x600 with 1 Axes>"
      ],
      "image/png": "[encoded data removed]"
     },
     "metadata": {},
     "output_type": "display_data"
    },
    {
     "data": {
      "text/plain": [
       "<Figure size 1000x600 with 1 Axes>"
      ],
      "image/png": "[encoded data removed]"
     },
     "metadata": {},
     "output_type": "display_data"
    }
   ],
   "execution_count": 61
  },
  {
   "metadata": {},
   "cell_type": "code",
   "source": [
    "df_usuarios_cluster = df_agrupado_soma[df_agrupado_soma['id_usuario'].isin(resultados_mk['id_usuario'])]\n",
    "\n",
    "df_usuarios_cluster.to_csv('df_usuarios_cluster.csv', index=False)\n",
    "df_usuarios_cluster.head()"
   ],
   "id": "d009313f68795bc0",
   "outputs": [],
   "execution_count": null
  },
  {
   "metadata": {},
   "cell_type": "code",
   "source": [
    "tratamento_texto = TextTreatment()\n",
    "\n",
    "df_posts_interacoes['postMessageLimpo'] = df_posts_interacoes['postMessage'].fillna('').progress_apply(\n",
    "    lambda texto: tratamento_texto.preprocessamento_texto(texto) if texto else '')\n",
    "\n",
    "df_posts_interacoes[['postMessage', 'postMessageLimpo']].head()"
   ],
   "id": "d4e0faeeea1120ca",
   "outputs": [],
   "execution_count": null
  },
  {
   "metadata": {},
   "cell_type": "code",
   "source": [
    "from utils.text_vectorization import TextVectorization\n",
    "from utils.nuvem_palavras import NuvemPalavras\n",
    "\n",
    "df_cluster0 = df_posts_interacoes[\n",
    "    df_posts_interacoes['id_usuario'].isin(df_usuarios_cluster[df_usuarios_cluster['cluster'] == 0]['id_usuario'])]\n",
    "\n",
    "df_cluster0.to_csv('df_cluster0.csv', index=False)\n",
    "\n",
    "df_cluster1 = df_posts_interacoes[\n",
    "    df_posts_interacoes['id_usuario'].isin(df_usuarios_cluster[df_usuarios_cluster['cluster'] == 1]['id_usuario'])]\n",
    "\n",
    "df_cluster1.to_csv('df_cluster1.csv', index=False)\n",
    "\n",
    "df_cluster2 = df_posts_interacoes[\n",
    "    df_posts_interacoes['id_usuario'].isin(df_usuarios_cluster[df_usuarios_cluster['cluster'] == 2]['id_usuario'])]\n",
    "\n",
    "df_cluster2.to_csv('df_cluster2.csv', index=False)"
   ],
   "id": "5d52517a4e2de01a",
   "outputs": [],
   "execution_count": null
  },
  {
   "metadata": {},
   "cell_type": "code",
   "source": [
    "# Carregar stopwords para o Bag of Words\n",
    "stop_words = tratamento_texto.get_stopwords()\n",
    "text_vectorizer_cluster0 = TextVectorization(df_cluster0, stop_words)\n",
    "\n",
    "# Vetorização Bag of Words\n",
    "resultados_bow_cluster0 = text_vectorizer_cluster0.bag_of_words_vectorization('bow_cluster0.csv', 0.85, 5, (1, 1))\n",
    "\n",
    "text_vectorizer_cluster0.plot_top_words(resultados_bow_cluster0, column='contagem')\n",
    "\n",
    "frequencias_bow_cluster0 = dict(zip(resultados_bow_cluster0['palavra'], resultados_bow_cluster0['contagem']))\n",
    "\n",
    "# Gerar e plotar a nuvem de palavras\n",
    "NuvemPalavras.plot_nuvem_palavras(frequencias_bow_cluster0)"
   ],
   "id": "ae9004c85900d933",
   "outputs": [],
   "execution_count": null
  },
  {
   "metadata": {},
   "cell_type": "code",
   "source": [
    "text_vectorizer_cluster1 = TextVectorization(df_cluster1, stop_words)\n",
    "\n",
    "# Vetorização Bag of Words\n",
    "resultados_bow_cluster1 = text_vectorizer_cluster1.bag_of_words_vectorization('bow_cluster1.csv', 0.85, 5, (1, 1))\n",
    "\n",
    "text_vectorizer_cluster1.plot_top_words(resultados_bow_cluster1, column='contagem')\n",
    "\n",
    "frequencias_bow_cluster1 = dict(zip(resultados_bow_cluster1['palavra'], resultados_bow_cluster1['contagem']))\n",
    "\n",
    "# Gerar e plotar a nuvem de palavras\n",
    "NuvemPalavras.plot_nuvem_palavras(frequencias_bow_cluster1)"
   ],
   "id": "85f215df8e7b22ef",
   "outputs": [],
   "execution_count": null
  },
  {
   "metadata": {},
   "cell_type": "code",
   "source": [
    "text_vectorizer_cluster2 = TextVectorization(df_cluster2, stop_words)\n",
    "\n",
    "# Vetorização Bag of Words\n",
    "resultados_bow_cluster2 = text_vectorizer_cluster2.bag_of_words_vectorization('bow_cluster2.csv', 0.85, 5, (1, 1))\n",
    "\n",
    "text_vectorizer_cluster2.plot_top_words(resultados_bow_cluster2, column='contagem')\n",
    "\n",
    "frequencias_bow_cluster2 = dict(zip(resultados_bow_cluster2['palavra'], resultados_bow_cluster2['contagem']))\n",
    "\n",
    "# Gerar e plotar a nuvem de palavras\n",
    "NuvemPalavras.plot_nuvem_palavras(frequencias_bow_cluster2)"
   ],
   "id": "3fd5f5e8bcb13be9",
   "outputs": [],
   "execution_count": null
  }
 ],
 "metadata": {
  "kernelspec": {
   "display_name": "Python 3",
   "language": "python",
   "name": "python3"
  },
  "language_info": {
   "codemirror_mode": {
    "name": "ipython",
    "version": 2
   },
   "file_extension": ".py",
   "mimetype": "text/x-python",
   "name": "python",
   "nbconvert_exporter": "python",
   "pygments_lexer": "ipython2",
   "version": "2.7.6"
  }
 },
 "nbformat": 4,
 "nbformat_minor": 5
}
