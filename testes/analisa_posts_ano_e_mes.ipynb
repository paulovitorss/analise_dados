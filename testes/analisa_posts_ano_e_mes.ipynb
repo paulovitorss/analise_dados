{
 "cells": [
  {
   "cell_type": "code",
   "id": "initial_id",
   "metadata": {
    "collapsed": true
   },
   "source": [
    "import pymongo\n",
    "import pandas as pd\n",
    "import matplotlib.pyplot as plt"
   ],
   "outputs": [],
   "execution_count": null
  },
  {
   "metadata": {},
   "cell_type": "code",
   "source": [
    "client = pymongo.MongoClient(\"mongodb://localhost:27017/\")\n",
    "db = client[\"dadosVivamente\"]\n",
    "collection = db[\"postsComPerguntasComInfos\"]"
   ],
   "id": "7a6bb32be9aeb75a",
   "outputs": [],
   "execution_count": null
  },
  {
   "metadata": {},
   "cell_type": "code",
   "source": [
    "# Filtrando documentos com o atributo nivel maior ou igual a 2\n",
    "filtro = {\"nivel\": {\"$gte\": 2}}\n",
    "documentos = collection.find(filtro)"
   ],
   "id": "ba5a47bd08e116ad",
   "outputs": [],
   "execution_count": null
  },
  {
   "metadata": {},
   "cell_type": "code",
   "source": [
    "# Transformando os documentos em um DataFrame\n",
    "df = pd.DataFrame(list(documentos))"
   ],
   "id": "397c2918cd1ecca0",
   "outputs": [],
   "execution_count": null
  },
  {
   "metadata": {},
   "cell_type": "code",
   "source": "df.head()",
   "id": "1c7a33a515d1f700",
   "outputs": [],
   "execution_count": null
  },
  {
   "metadata": {},
   "cell_type": "code",
   "source": [
    "# Criar gráfico usando o matplotlib com a quantidade de posts de cada id_usuario separado por ano e mês. Os atributos são mes e ano\n",
    "posts_grouped = df.groupby(['id_usuario', 'ano', 'mes']).size().reset_index(name='quantidade_posts')\n",
    "\n",
    "# Exemplo: Filtrar para um id_usuario específico (opcional)\n",
    "id_usuario_especifico = '1870214326566563'\n",
    "posts_filtrados = posts_grouped[posts_grouped['id_usuario'] == id_usuario_especifico]\n",
    "\n",
    "# Criar o gráfico de colunas para o usuário específico\n",
    "plt.figure(figsize=(12, 6))\n",
    "plt.bar(posts_filtrados['mes'].astype(str) + '/' + posts_filtrados['ano'].astype(str),\n",
    "        posts_filtrados['quantidade_posts'], color='blue')\n",
    "\n",
    "plt.title(f'Quantidade de Posts por Mês e Ano - Usuário: {id_usuario_especifico}')\n",
    "plt.xlabel('Mês/Ano')\n",
    "plt.ylabel('Quantidade de Posts')\n",
    "\n",
    "# Ajuste para evitar sobreposição\n",
    "plt.xticks(rotation=90, ha='center')  # Rotaciona 90 graus e alinha centralizado\n",
    "plt.tight_layout()  # Ajusta automaticamente o layout para evitar sobreposição\n",
    "\n",
    "plt.grid(True, axis='y')\n",
    "plt.show()"
   ],
   "id": "6fb2d4b5057e7ac2",
   "outputs": [],
   "execution_count": null
  }
 ],
 "metadata": {
  "kernelspec": {
   "display_name": "Python 3",
   "language": "python",
   "name": "python3"
  },
  "language_info": {
   "codemirror_mode": {
    "name": "ipython",
    "version": 2
   },
   "file_extension": ".py",
   "mimetype": "text/x-python",
   "name": "python",
   "nbconvert_exporter": "python",
   "pygments_lexer": "ipython2",
   "version": "2.7.6"
  }
 },
 "nbformat": 4,
 "nbformat_minor": 5
}
