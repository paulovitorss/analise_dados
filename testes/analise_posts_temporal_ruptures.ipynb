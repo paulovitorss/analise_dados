{
 "cells": [
  {
   "cell_type": "code",
   "id": "initial_id",
   "metadata": {
    "collapsed": true
   },
   "source": [
    "import pymongo\n",
    "import pandas as pd\n",
    "import re"
   ],
   "outputs": [],
   "execution_count": null
  },
  {
   "metadata": {},
   "cell_type": "code",
   "source": [
    "client = pymongo.MongoClient(\"mongodb://localhost:27017/\")\n",
    "db = client[\"dadosVivamente\"]\n",
    "collection = db[\"postsComPerguntasComInfos\"]"
   ],
   "id": "7a6bb32be9aeb75a",
   "outputs": [],
   "execution_count": null
  },
  {
   "metadata": {},
   "cell_type": "code",
   "source": [
    "# Filtrando documentos com o atributo nivel maior ou igual a 2\n",
    "filtro = {\"suicida\": {\"$gte\": \"2\"}}\n",
    "documentos = collection.find(filtro)"
   ],
   "id": "ba5a47bd08e116ad",
   "outputs": [],
   "execution_count": null
  },
  {
   "metadata": {},
   "cell_type": "code",
   "source": [
    "# Transformando os documentos em um DataFrame\n",
    "df = pd.DataFrame(list(documentos))"
   ],
   "id": "397c2918cd1ecca0",
   "outputs": [],
   "execution_count": null
  },
  {
   "metadata": {},
   "cell_type": "code",
   "source": [
    "df['quantProfile'] = df['postStory'].apply(\n",
    "    lambda x: len(re.findall(r'updated (his|her) profile picture', x.lower())) if isinstance(x, str) else 0\n",
    ")\n",
    "\n",
    "df['quantCover'] = df['postStory'].apply(\n",
    "    lambda x: len(re.findall(r'updated (his|her) cover photo', x.lower())) if isinstance(x, str) else 0\n",
    ")\n",
    "\n",
    "df['quantAddPhotoWithOthers'] = df['postStory'].apply(\n",
    "    lambda x: 1 if isinstance(x, str) and (\n",
    "            'added a new photo — with' in x.lower() or\n",
    "            'new photos — with' in x.lower() or\n",
    "            ('photo to the album:' in x.lower() and 'with' in x.lower() and 'and' in x.lower()) or\n",
    "            'others' in x.lower()\n",
    "    ) else 0\n",
    ")\n",
    "\n",
    "df['quantAddPhotoWith'] = df['postStory'].apply(\n",
    "    lambda x: 1 if isinstance(x, str) and (\n",
    "            'added a new photo — with' in x.lower() or\n",
    "            'new photos — with' in x.lower() or\n",
    "            ('photo to the album:' in x.lower() and 'with' in x.lower())\n",
    "    ) else 0\n",
    ")\n",
    "\n",
    "df['quantAddPhoto'] = df['postStory'].apply(\n",
    "    lambda x: (x.lower().count('added a new photo') +\n",
    "               x.lower().count('new photos') +\n",
    "               x.lower().count('photo to the album:')) if isinstance(x, str) else 0\n",
    ")\n",
    "\n",
    "df['quantFeelThank'] = df['postStory'].apply(\n",
    "    lambda x: x.lower().count('feeling thankful with') if isinstance(x, str) else 0\n",
    ")\n",
    "\n",
    "df['quantFeelBliss'] = df['postStory'].apply(\n",
    "    lambda x: x.lower().count('feeling blissful with') if isinstance(x, str) else 0\n",
    ")\n",
    "\n",
    "df['quantFeelExcited'] = df['postStory'].apply(\n",
    "    lambda x: x.lower().count('feeling excited with') if isinstance(x, str) else 0\n",
    ")\n",
    "\n",
    "df['quantSharedPhoto'] = df['postStory'].apply(\n",
    "    lambda x: (x.lower().count('shared ') if 'photo' in x.lower() else 0) if isinstance(x, str) else 0\n",
    ")\n",
    "\n",
    "df['quantSharedVideo'] = df['postStory'].apply(\n",
    "    lambda x: (x.lower().count('shared ') if 'video' in x.lower() else 0) if isinstance(x, str) else 0\n",
    ")\n",
    "\n",
    "df['quantSharedLink'] = df['postStory'].apply(\n",
    "    lambda x: x.lower().count('shared a link') if isinstance(x, str) else 0\n",
    ")\n",
    "\n",
    "df['quantSharedPost'] = df['postStory'].apply(\n",
    "    lambda x: (x.lower().count('shared ') if 'post' in x.lower() else 0) if isinstance(x, str) else 0\n",
    ")\n",
    "\n",
    "df['quantSharedEvent'] = df['postStory'].apply(\n",
    "    lambda x: (x.lower().count('shared ') if 'event' in x.lower() else 0) if isinstance(x, str) else 0\n",
    ")\n",
    "\n",
    "df['quantSharedMemmory'] = df['postStory'].apply(\n",
    "    lambda x: x.lower().count('shared a memory') if isinstance(x, str) else 0\n",
    ")\n",
    "\n",
    "df['quantStatus'] = df['postStory'].apply(\n",
    "    lambda x: len(re.findall(r'updated (his|her) status', x.lower())) if isinstance(x, str) else 0\n",
    ")\n",
    "\n",
    "df['quantRelationWith'] = df['postStory'].apply(\n",
    "    lambda x: x.lower().count('relationship with') if isinstance(x, str) else 0\n",
    ")\n",
    "\n",
    "df['quantLifeEvent'] = df['postStory'].apply(\n",
    "    lambda x: x.lower().count('added a life event from') if isinstance(x, str) else 0\n",
    ")\n",
    "\n",
    "df['quantTimelinePhoto'] = df['postStory'].apply(\n",
    "    lambda x: x.lower().count('shared a photo to your timeline.') if isinstance(x, str) else 0\n",
    ")\n",
    "\n",
    "df['quantTimelineVideo'] = df['postStory'].apply(\n",
    "    lambda x: x.lower().count('shared a video to your timeline.') if isinstance(x, str) else 0\n",
    ")\n",
    "\n",
    "df['quantTimelineWrote'] = df['postStory'].apply(\n",
    "    lambda x: x.lower().count('wrote on your timeline.') if isinstance(x, str) else 0\n",
    ")\n",
    "\n",
    "df['quantTimelineLink'] = df['postStory'].apply(\n",
    "    lambda x: x.lower().count('a link to your timeline.') if isinstance(x, str) else 0\n",
    ")"
   ],
   "id": "dd2f3a57fba2de5e",
   "outputs": [],
   "execution_count": null
  },
  {
   "metadata": {},
   "cell_type": "code",
   "source": "df['postCreated_time'] = pd.to_datetime(df['postCreated_time'])",
   "id": "45145a24af25b2c6",
   "outputs": [],
   "execution_count": null
  }
 ],
 "metadata": {
  "kernelspec": {
   "display_name": "Python 3",
   "language": "python",
   "name": "python3"
  },
  "language_info": {
   "codemirror_mode": {
    "name": "ipython",
    "version": 2
   },
   "file_extension": ".py",
   "mimetype": "text/x-python",
   "name": "python",
   "nbconvert_exporter": "python",
   "pygments_lexer": "ipython2",
   "version": "2.7.6"
  }
 },
 "nbformat": 4,
 "nbformat_minor": 5
}
