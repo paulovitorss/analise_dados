{
 "cells": [
  {
   "cell_type": "code",
   "id": "initial_id",
   "metadata": {
    "collapsed": true
   },
   "source": [
    "import pymongo\n",
    "import pandas as pd\n",
    "import numpy as np\n",
    "import matplotlib.pyplot as plt"
   ],
   "outputs": [],
   "execution_count": null
  },
  {
   "metadata": {},
   "cell_type": "code",
   "source": [
    "client = pymongo.MongoClient(\"mongodb://localhost:27017/\")\n",
    "db = client[\"dadosVivamente\"]\n",
    "collection = db[\"postsComPerguntasComInfos\"]"
   ],
   "id": "7a6bb32be9aeb75a",
   "outputs": [],
   "execution_count": null
  },
  {
   "metadata": {},
   "cell_type": "code",
   "source": [
    "# Filtrando documentos com o atributo nivel maior ou igual a 2\n",
    "filtro = {\"nivel\": {\"$gte\": 2}}\n",
    "documentos = collection.find(filtro)"
   ],
   "id": "ba5a47bd08e116ad",
   "outputs": [],
   "execution_count": null
  },
  {
   "metadata": {},
   "cell_type": "code",
   "source": [
    "# Transformando os documentos em um DataFrame\n",
    "df = pd.DataFrame(list(documentos))"
   ],
   "id": "397c2918cd1ecca0",
   "outputs": [],
   "execution_count": null
  },
  {
   "metadata": {},
   "cell_type": "code",
   "source": "df.head()",
   "id": "1c7a33a515d1f700",
   "outputs": [],
   "execution_count": null
  },
  {
   "metadata": {},
   "cell_type": "code",
   "source": [
    "df['postCreated_time'] = pd.to_datetime(df['postCreated_time'])\n",
    "df = df.sort_values(by='postCreated_time')"
   ],
   "id": "6fb2d4b5057e7ac2",
   "outputs": [],
   "execution_count": null
  },
  {
   "metadata": {},
   "cell_type": "code",
   "source": [
    "df['date'] = df['postCreated_time'].dt.date\n",
    "df_grouped = df.groupby(['id_usuario', 'date']).size().reset_index(name='post_count')\n",
    "\n",
    "# Escolha um usuário específico para visualizar os dados, ou faça a análise em todos os usuários\n",
    "usuario_id = df_grouped['id_usuario'].iloc[0]  # aqui pegamos o primeiro usuário como exemplo\n",
    "df_usuario = df_grouped[df_grouped['id_usuario'] == usuario_id]\n",
    "\n",
    "# Exibindo a série temporal de contagem de postagens\n",
    "plt.figure(figsize=(10, 6))\n",
    "plt.plot(df_usuario['date'], df_usuario['post_count'], label='Post Count')\n",
    "plt.title(f'Post Count Over Time for User {usuario_id}')\n",
    "plt.xlabel('Date')\n",
    "plt.ylabel('Post Count')\n",
    "plt.xticks(rotation=45)\n",
    "plt.legend()\n",
    "plt.show()\n",
    "\n",
    "# Implementando Média Móvel (Moving Average)\n",
    "window_size = 7  # por exemplo, uma janela de 7 dias\n",
    "df_usuario['moving_average'] = df_usuario['post_count'].rolling(window=window_size).mean()\n",
    "\n",
    "# Plotando Média Móvel\n",
    "plt.figure(figsize=(10, 6))\n",
    "plt.plot(df_usuario['date'], df_usuario['post_count'], label='Original')\n",
    "plt.plot(df_usuario['date'], df_usuario['moving_average'], label=f'{window_size}-Day Moving Average', color='orange')\n",
    "plt.title(f'Moving Average of Post Count Over Time for User {usuario_id}')\n",
    "plt.xlabel('Date')\n",
    "plt.ylabel('Post Count')\n",
    "plt.xticks(rotation=45)\n",
    "plt.legend()\n",
    "plt.show()\n",
    "\n",
    "# Implementando Suavização Exponencial (Exponential Smoothing)\n",
    "alpha = 0.3  # taxa de suavização\n",
    "df_usuario['exponential_smoothing'] = df_usuario['post_count'].ewm(alpha=alpha).mean()\n",
    "\n",
    "# Plotando Suavização Exponencial\n",
    "plt.figure(figsize=(10, 6))\n",
    "plt.plot(df_usuario['date'], df_usuario['post_count'], label='Original')\n",
    "plt.plot(df_usuario['date'], df_usuario['exponential_smoothing'], label=f'Exponential Smoothing (α={alpha})', color='green')\n",
    "plt.title(f'Exponential Smoothing of Post Count Over Time for User {usuario_id}')\n",
    "plt.xlabel('Date')\n",
    "plt.ylabel('Post Count')\n",
    "plt.xticks(rotation=45)\n",
    "plt.legend()\n",
    "plt.show()"
   ],
   "id": "4de2f0da39aaf55d",
   "outputs": [],
   "execution_count": null
  }
 ],
 "metadata": {
  "kernelspec": {
   "display_name": "Python 3",
   "language": "python",
   "name": "python3"
  },
  "language_info": {
   "codemirror_mode": {
    "name": "ipython",
    "version": 2
   },
   "file_extension": ".py",
   "mimetype": "text/x-python",
   "name": "python",
   "nbconvert_exporter": "python",
   "pygments_lexer": "ipython2",
   "version": "2.7.6"
  }
 },
 "nbformat": 4,
 "nbformat_minor": 5
}
