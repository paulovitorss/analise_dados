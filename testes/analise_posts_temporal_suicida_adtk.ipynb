{
 "cells": [
  {
   "cell_type": "code",
   "id": "initial_id",
   "metadata": {
    "collapsed": true
   },
   "source": [
    "import pymongo\n",
    "import pandas as pd\n",
    "import matplotlib.pyplot as plt\n",
    "import seaborn as sns\n",
    "from adtk.detector import AutoregressionAD\n",
    "from adtk.data import validate_series"
   ],
   "outputs": [],
   "execution_count": null
  },
  {
   "metadata": {},
   "cell_type": "code",
   "source": [
    "client = pymongo.MongoClient(\"mongodb://localhost:27017/\")\n",
    "db = client[\"dadosVivamente\"]\n",
    "collection = db[\"postsAgregadoComRespostas\"]"
   ],
   "id": "7a6bb32be9aeb75a",
   "outputs": [],
   "execution_count": null
  },
  {
   "metadata": {},
   "cell_type": "code",
   "source": [
    "# Filtrando documentos com o atributo maior ou igual a 2\n",
    "filtro = {\"suicida\": {\"$eq\": \"3\"}}\n",
    "documentos = collection.find(filtro)"
   ],
   "id": "ba5a47bd08e116ad",
   "outputs": [],
   "execution_count": null
  },
  {
   "metadata": {},
   "cell_type": "code",
   "source": [
    "# Transformando os documentos em um DataFrame\n",
    "df = pd.DataFrame(list(documentos))"
   ],
   "id": "397c2918cd1ecca0",
   "outputs": [],
   "execution_count": null
  },
  {
   "metadata": {},
   "cell_type": "code",
   "source": [
    "# Visualizando o DataFrame\n",
    "df.head()"
   ],
   "id": "97ddabaaf2cf567c",
   "outputs": [],
   "execution_count": null
  },
  {
   "metadata": {},
   "cell_type": "code",
   "source": [
    "df['postCreated_time'] = pd.to_datetime(df['postCreated_time'])\n",
    "df.head()"
   ],
   "id": "868b207377f883e2",
   "outputs": [],
   "execution_count": null
  },
  {
   "metadata": {},
   "cell_type": "code",
   "source": [
    "df['data'] = df['postCreated_time'].dt.to_period('M').dt.to_timestamp()\n",
    "df.head()"
   ],
   "id": "75f4cfd0c422a7a4",
   "outputs": [],
   "execution_count": null
  },
  {
   "metadata": {},
   "cell_type": "code",
   "source": [
    "df_grouped_data = df.groupby(['id_usuario', 'data']).size().reset_index(name='quantidade')\n",
    "# Substituir o NaN por 0\n",
    "df_grouped_data['quantidade'] = df_grouped_data['quantidade'].fillna(0)"
   ],
   "id": "86f5102a1ffecc74",
   "outputs": [],
   "execution_count": null
  },
  {
   "metadata": {},
   "cell_type": "code",
   "source": "print(df.dtypes)",
   "id": "fd9b1e3838da2114",
   "outputs": [],
   "execution_count": null
  },
  {
   "metadata": {},
   "cell_type": "code",
   "source": [
    "# Lista de colunas que precisam ser convertidas\n",
    "colunas_para_converter = [\n",
    "    'pessimismo', 'tristeza', 'fracasso', 'prazer', 'culpa', 'punicao', 'estima',\n",
    "    'critica', 'suicida', 'choro', 'agitacao', 'interesse', 'indecisao',\n",
    "    'desvalorizacao', 'energia', 'sono', 'irritabilidade', 'apetite',\n",
    "    'concentracao', 'fadiga', 'int_sexo', 'quantAmigos'\n",
    "]\n",
    "\n",
    "df[colunas_para_converter] = df[colunas_para_converter].astype('int64')"
   ],
   "id": "a0c4e50e2745bf",
   "outputs": [],
   "execution_count": null
  },
  {
   "metadata": {},
   "cell_type": "code",
   "source": "print(df.dtypes)",
   "id": "da04f93d1b0417cc",
   "outputs": [],
   "execution_count": null
  },
  {
   "metadata": {},
   "cell_type": "code",
   "source": [
    "# Gerar o gráfico de anomalias de cada usuário\n",
    "for usuario_id in df_grouped_data['id_usuario'].unique():\n",
    "    df_usuario = df_grouped_data[df_grouped_data['id_usuario'] == usuario_id]\n",
    "\n",
    "    # Salvar em csv\n",
    "    # df_usuario.to_csv(f'./dados/{usuario_id}.csv', index=False)\n",
    "\n",
    "    # Gerar o gráfico\n",
    "    df_usuario.set_index('data', inplace=True)\n",
    "\n",
    "    # Extrair a série temporal 'quantidade'\n",
    "    s = df_usuario['quantidade']\n",
    "\n",
    "    # Validar a série temporal\n",
    "    s = validate_series(s)\n",
    "\n",
    "    # Usar AutoregressionAD para detecção de anomalias\n",
    "    autoreg_ad = AutoregressionAD(n_steps=3, step_size=1, c=1.5)\n",
    "\n",
    "    # Aqui passamos a série temporal 's' para o método fit_detect\n",
    "    anomalies = autoreg_ad.fit_detect(s)\n",
    "    \n",
    "    # Passo 4: Plotar os resultados\n",
    "    plt.figure(figsize=(14, 7))\n",
    "\n",
    "    # Plotar a série temporal\n",
    "    sns.lineplot(x=s.index.astype(str), y=s.values, label='Quantidade de Posts')\n",
    "\n",
    "    # Plotar as anomalias\n",
    "    anomaly_points = s[anomalies == True]\n",
    "    sns.scatterplot(x=anomaly_points.index.astype(str), y=anomaly_points.values, color='red', s=100, label='Anomalias')\n",
    "\n",
    "    # Configurar o gráfico\n",
    "    plt.title(f'Usuário {usuario_id} - Quantidade de Posts por Mês/Ano')\n",
    "    plt.xlabel('Mês/Ano')\n",
    "    plt.ylabel('Quantidade de Posts')\n",
    "    plt.xticks(rotation=45)\n",
    "    plt.grid(True)\n",
    "    plt.legend()\n",
    "\n",
    "    # Mostrar o gráfico\n",
    "    plt.show()"
   ],
   "id": "3353239543cf6d03",
   "outputs": [],
   "execution_count": null
  }
 ],
 "metadata": {
  "kernelspec": {
   "display_name": "Python 3",
   "language": "python",
   "name": "python3"
  },
  "language_info": {
   "codemirror_mode": {
    "name": "ipython",
    "version": 2
   },
   "file_extension": ".py",
   "mimetype": "text/x-python",
   "name": "python",
   "nbconvert_exporter": "python",
   "pygments_lexer": "ipython2",
   "version": "2.7.6"
  }
 },
 "nbformat": 4,
 "nbformat_minor": 5
}
