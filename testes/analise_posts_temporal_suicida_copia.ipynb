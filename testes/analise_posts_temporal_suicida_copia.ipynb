{
 "cells": [
  {
   "cell_type": "code",
   "id": "initial_id",
   "metadata": {
    "collapsed": true
   },
   "source": [
    "import pymongo\n",
    "import pandas as pd\n",
    "import matplotlib.pyplot as plt\n",
    "import seaborn as sns\n",
    "from adtk.detector import AutoregressionAD\n",
    "from adtk.data import validate_series"
   ],
   "outputs": [],
   "execution_count": null
  },
  {
   "metadata": {},
   "cell_type": "code",
   "source": [
    "client = pymongo.MongoClient(\"mongodb://localhost:27017/\")\n",
    "db = client[\"dadosVivamente\"]\n",
    "collection = db[\"postsAgregadoComRespostas\"]"
   ],
   "id": "7a6bb32be9aeb75a",
   "outputs": [],
   "execution_count": null
  },
  {
   "metadata": {},
   "cell_type": "code",
   "source": [
    "# Filtrando documentos com o atributo maior ou igual a 2\n",
    "filtro = {\"suicida\": {\"$eq\": \"2\"}}\n",
    "documentos = collection.find(filtro)"
   ],
   "id": "ba5a47bd08e116ad",
   "outputs": [],
   "execution_count": null
  },
  {
   "metadata": {},
   "cell_type": "code",
   "source": [
    "# Transformando os documentos em um DataFrame\n",
    "df = pd.DataFrame(list(documentos))"
   ],
   "id": "397c2918cd1ecca0",
   "outputs": [],
   "execution_count": null
  },
  {
   "metadata": {},
   "cell_type": "code",
   "source": [
    "# Visualizando o DataFrame\n",
    "df.head()"
   ],
   "id": "97ddabaaf2cf567c",
   "outputs": [],
   "execution_count": null
  },
  {
   "metadata": {},
   "cell_type": "code",
   "source": [
    "df['quantAddPhotoWithOthers'] = df['postStory'].apply(\n",
    "    lambda x: 1 if isinstance(x, str) and (\n",
    "            'added a new photo — with' in x.lower() or\n",
    "            'new photos — with' in x.lower() or\n",
    "            ('photo to the album:' in x.lower() and 'with' in x.lower() and 'and' in x.lower()) or\n",
    "            'others' in x.lower()\n",
    "    ) else 0\n",
    ")\n",
    "\n",
    "df['quantAddPhotoWith'] = df['postStory'].apply(\n",
    "    lambda x: 1 if isinstance(x, str) and (\n",
    "            'added a new photo — with' in x.lower() or\n",
    "            'new photos — with' in x.lower() or\n",
    "            ('photo to the album:' in x.lower() and 'with' in x.lower())\n",
    "    ) else 0\n",
    ")\n",
    "\n",
    "df['quantAddPhoto'] = df['postStory'].apply(\n",
    "    lambda x: (x.lower().count('added a new photo') +\n",
    "               x.lower().count('new photos') +\n",
    "               x.lower().count('photo to the album:')) if isinstance(x, str) else 0\n",
    ")\n",
    "\n",
    "df['quantSharedPhoto'] = df['postStory'].apply(\n",
    "    lambda x: (x.lower().count('shared ') if 'photo' in x.lower() else 0) if isinstance(x, str) else 0\n",
    ")\n",
    "\n",
    "df['quantSharedVideo'] = df['postStory'].apply(\n",
    "    lambda x: (x.lower().count('shared ') if 'video' in x.lower() else 0) if isinstance(x, str) else 0\n",
    ")\n",
    "\n",
    "df['quantSharedLink'] = df['postStory'].apply(\n",
    "    lambda x: x.lower().count('shared a link') if isinstance(x, str) else 0\n",
    ")\n",
    "\n",
    "df['quantSharedPost'] = df['postStory'].apply(\n",
    "    lambda x: (x.lower().count('shared ') if 'post' in x.lower() else 0) if isinstance(x, str) else 0\n",
    ")\n",
    "\n",
    "df['quantTimelinePhoto'] = df['postStory'].apply(\n",
    "    lambda x: x.lower().count('shared a photo to your timeline.') if isinstance(x, str) else 0\n",
    ")\n",
    "\n",
    "df['quantTimelineVideo'] = df['postStory'].apply(\n",
    "    lambda x: x.lower().count('shared a video to your timeline.') if isinstance(x, str) else 0\n",
    ")\n",
    "\n",
    "df['quantTimelineWrote'] = df['postStory'].apply(\n",
    "    lambda x: x.lower().count('wrote on your timeline.') if isinstance(x, str) else 0\n",
    ")\n",
    "\n",
    "df['quantTimelineLink'] = df['postStory'].apply(\n",
    "    lambda x: x.lower().count('a link to your timeline.') if isinstance(x, str) else 0\n",
    ")"
   ],
   "id": "dd2f3a57fba2de5e",
   "outputs": [],
   "execution_count": null
  },
  {
   "metadata": {},
   "cell_type": "code",
   "source": [
    "df['postCreated_time'] = pd.to_datetime(df['postCreated_time'])\n",
    "df.head()"
   ],
   "id": "868b207377f883e2",
   "outputs": [],
   "execution_count": null
  },
  {
   "metadata": {},
   "cell_type": "code",
   "source": [
    "df['data'] = df['postCreated_time'].dt.to_period('M').dt.to_timestamp()\n",
    "df.head()"
   ],
   "id": "75f4cfd0c422a7a4",
   "outputs": [],
   "execution_count": null
  },
  {
   "metadata": {},
   "cell_type": "code",
   "source": "df_grouped_data = df.groupby(['id_usuario', 'data']).size().reset_index(name='quantidade')",
   "id": "86f5102a1ffecc74",
   "outputs": [],
   "execution_count": null
  },
  {
   "metadata": {},
   "cell_type": "code",
   "source": [
    "for usuario_id in df_grouped_data['id_usuario'].unique():\n",
    "    df_usuario = df_grouped_data[df_grouped_data['id_usuario'] == usuario_id]\n",
    "    \n",
    "    df_usuario.set_index('data', inplace=True)\n",
    "\n",
    "    # Usar AutoregressionAD para detecção de anomalias\n",
    "    autoreg_ad = AutoregressionAD(n_steps=1, step_size=1, c=3.0)\n",
    "    anomalies = autoreg_ad.fit_detect()\n",
    "\n",
    "    # Passo 4: Plotar os resultados\n",
    "    plt.figure(figsize=(14, 7))\n",
    "\n",
    "    # Plotar a série temporal\n",
    "    sns.lineplot(x=s.index.astype(str), y=s.values, label='Quantidade de Posts')\n",
    "\n",
    "    # Plotar as anomalias\n",
    "    anomaly_points = s[anomalies == True]\n",
    "    sns.scatterplot(x=anomaly_points.index.astype(str), y=anomaly_points.values, color='red', s=100, label='Anomalias')\n",
    "\n",
    "    # Configurar o gráfico\n",
    "    plt.title(f'Usuário {usuario_id} - Quantidade de Posts por Mês/Ano')\n",
    "    plt.xlabel('Mês/Ano')\n",
    "    plt.ylabel('Quantidade de Posts')\n",
    "    plt.xticks(rotation=45)\n",
    "    plt.grid(True)\n",
    "    plt.legend()\n",
    "\n",
    "    # Mostrar o gráfico\n",
    "    plt.show()"
   ],
   "id": "3353239543cf6d03",
   "outputs": [],
   "execution_count": null
  }
 ],
 "metadata": {
  "kernelspec": {
   "display_name": "Python 3",
   "language": "python",
   "name": "python3"
  },
  "language_info": {
   "codemirror_mode": {
    "name": "ipython",
    "version": 2
   },
   "file_extension": ".py",
   "mimetype": "text/x-python",
   "name": "python",
   "nbconvert_exporter": "python",
   "pygments_lexer": "ipython2",
   "version": "2.7.6"
  }
 },
 "nbformat": 4,
 "nbformat_minor": 5
}
