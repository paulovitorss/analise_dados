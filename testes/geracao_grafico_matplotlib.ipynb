{
 "cells": [
  {
   "metadata": {},
   "cell_type": "markdown",
   "source": "Importando bibliotecas",
   "id": "5ca3fa58ba351d5e"
  },
  {
   "metadata": {},
   "cell_type": "code",
   "source": [
    "import pymongo\n",
    "import pandas as pd\n",
    "import matplotlib.pyplot as plt"
   ],
   "id": "d22d68299aae55f1",
   "outputs": [],
   "execution_count": null
  },
  {
   "metadata": {},
   "cell_type": "markdown",
   "source": "Conectando ao MongoDB",
   "id": "1a8f00a4a5bf5acb"
  },
  {
   "metadata": {},
   "cell_type": "code",
   "source": [
    "# Informações de conexão\n",
    "client = pymongo.MongoClient(\"mongodb://localhost:27017/\")\n",
    "db = client[\"dadosVivamente\"]\n",
    "collection = db[\"postsComPerguntasComInfos\"]"
   ],
   "id": "492666e81e417d95",
   "outputs": [],
   "execution_count": null
  },
  {
   "metadata": {},
   "cell_type": "markdown",
   "source": "Carregando os dados com filtro",
   "id": "5ea6b929e66e1bd7"
  },
  {
   "metadata": {},
   "cell_type": "code",
   "source": [
    "# Carregue os documentos da coleção que possuem nivel >= 2\n",
    "filtro = {\"nivel\": {\"$gte\": 2}}\n",
    "documentos = collection.find(filtro)"
   ],
   "id": "6950c4efacb01db9",
   "outputs": [],
   "execution_count": null
  },
  {
   "metadata": {},
   "cell_type": "markdown",
   "source": "Convertendo para DataFrame",
   "id": "7815827413bb64b9"
  },
  {
   "metadata": {},
   "cell_type": "code",
   "source": [
    "df = pd.DataFrame(list(documentos))\n",
    "df.head()"
   ],
   "id": "b3909d29dc016098",
   "outputs": [],
   "execution_count": null
  },
  {
   "metadata": {},
   "cell_type": "markdown",
   "source": "Transformando a coluna 'postCreated_time' para datetime",
   "id": "977d4e9dac8fde9b"
  },
  {
   "metadata": {},
   "cell_type": "code",
   "source": [
    "df['postCreated_time'] = pd.to_datetime(df['postCreated_time'])\n",
    "df.head()"
   ],
   "id": "a3a521d0f5187f60",
   "outputs": [],
   "execution_count": null
  },
  {
   "metadata": {},
   "cell_type": "markdown",
   "source": "Criando uma coluna 'data' apenas com o ano e o mês, descartando o dia",
   "id": "3be7d8d10e0fca67"
  },
  {
   "metadata": {},
   "cell_type": "code",
   "source": [
    "df['data'] = df['postCreated_time'].dt.to_period('M').dt.to_timestamp()\n",
    "df.head()"
   ],
   "id": "6e850a8d00e7edda",
   "outputs": [],
   "execution_count": null
  },
  {
   "metadata": {},
   "cell_type": "markdown",
   "source": "Agrupando por usuário e data, contando quantos posts cada usuário fez em cada período",
   "id": "d73c14be944c2767"
  },
  {
   "metadata": {},
   "cell_type": "code",
   "source": "posts_grouped = df.groupby(['id_usuario', 'data']).size().reset_index(name='quantidade')",
   "id": "684b5cb32ac5cb1d",
   "outputs": [],
   "execution_count": null
  },
  {
   "metadata": {},
   "cell_type": "markdown",
   "source": "Criando o gráfico de linha para cada usuário",
   "id": "3e851b9e7fc3156"
  },
  {
   "metadata": {},
   "cell_type": "code",
   "source": [
    "for usuario in posts_grouped['id_usuario'].unique():\n",
    "    df_usuario = posts_grouped[posts_grouped['id_usuario'] == usuario]\n",
    "\n",
    "    # Ordenar os dados por data (se já não estiver)\n",
    "    df_usuario = df_usuario.sort_values(by='data')\n",
    "\n",
    "    # Configurar o gráfico de linha\n",
    "    plt.figure(figsize=(18, 6))\n",
    "    plt.plot(df_usuario['data'], df_usuario['quantidade'], marker='o', linestyle='-', color='blue')\n",
    "\n",
    "    # Adicionar título e rótulos\n",
    "    plt.title(f'Quantidade de Posts por Mês/Ano - Usuário: {usuario}')\n",
    "    plt.xlabel('Mês/Ano')\n",
    "    plt.ylabel('Quantidade de Posts')\n",
    "\n",
    "    # Melhorar a legibilidade dos rótulos do eixo X, formatando como Mês/Ano\n",
    "    # Exibir apenas um rótulo a cada 3 meses\n",
    "    xticks = df_usuario['data'][::2]\n",
    "    plt.xticks(xticks, xticks.dt.strftime('%m/%Y'), rotation=45, ha='right', fontsize=10)\n",
    "\n",
    "    # Adicionar grid\n",
    "    plt.grid(True, axis='y')\n",
    "\n",
    "    # Ajustar o layout para evitar sobreposição\n",
    "    plt.tight_layout()\n",
    "\n",
    "    # Salvar o gráfico, se desejar\n",
    "    # plt.savefig(f'grafico_posts_usuario_{usuario}.png')\n",
    "\n",
    "    # Mostrar o gráfico\n",
    "    plt.show()\n",
    "\n",
    "    # Fechar a figura explicitamente para liberar memória\n",
    "    plt.close()"
   ],
   "id": "6db3ae1b775df3b5",
   "outputs": [],
   "execution_count": null
  }
 ],
 "metadata": {
  "kernelspec": {
   "display_name": "Python 3",
   "language": "python",
   "name": "python3"
  },
  "language_info": {
   "codemirror_mode": {
    "name": "ipython",
    "version": 2
   },
   "file_extension": ".py",
   "mimetype": "text/x-python",
   "name": "python",
   "nbconvert_exporter": "python",
   "pygments_lexer": "ipython2",
   "version": "2.7.6"
  }
 },
 "nbformat": 4,
 "nbformat_minor": 5
}
