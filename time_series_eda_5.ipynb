{
 "cells": [
  {
   "metadata": {},
   "cell_type": "markdown",
   "source": "# Importando as bibliotecas",
   "id": "2bf9d9363b7b99f2"
  },
  {
   "metadata": {},
   "cell_type": "code",
   "source": [
    "import pandas as pd\n",
    "from db import connection_db as conndb\n",
    "from db import filters\n",
    "from tqdm.auto import tqdm\n",
    "import matplotlib.pyplot as plt\n",
    "import numpy as np\n",
    "from utils.estracao_interacao import ExtracaoInteracao\n",
    "from utils.text_treatment import TextTreatment\n",
    "from utils.busca_palavras import BuscaPalavras\n",
    "\n",
    "tqdm.pandas()"
   ],
   "id": "4761db26da7a2327",
   "outputs": [],
   "execution_count": null
  },
  {
   "metadata": {},
   "cell_type": "markdown",
   "source": "Conectando ao banco de dados do MongoDB",
   "id": "6ae872a7e38ede3b"
  },
  {
   "metadata": {},
   "cell_type": "code",
   "source": [
    "uri = 'mongodb://localhost:27017/'\n",
    "db_name = 'dadosVivamente'\n",
    "col_name = 'dadosSemFiltros'\n",
    "col_filtrada = 'posts7anos1anos'\n",
    "\n",
    "mongo_connection = conndb.MongoDBConnection(uri=uri, database_name=db_name, collection_name=col_name)\n",
    "mongo_connection.connect()\n",
    "collection = mongo_connection.collection\n",
    "\n",
    "mongo_connection_filtrada = conndb.MongoDBConnection(uri=uri, database_name=db_name, collection_name=col_filtrada)\n",
    "mongo_connection_filtrada.connect()\n",
    "collection_filtrada = mongo_connection_filtrada.collection"
   ],
   "id": "e2d64bb2f75c6432",
   "outputs": [],
   "execution_count": null
  },
  {
   "metadata": {},
   "cell_type": "markdown",
   "source": "Aplicando pipeline para preparação dos dados",
   "id": "d76def679f1666f8"
  },
  {
   "metadata": {},
   "cell_type": "code",
   "source": [
    "collection_filters = filters.CollectionFilters(collection)\n",
    "\n",
    "collection_filters_likes = filters.CollectionFilters(collection_filtrada)\n",
    "\n",
    "# Aplicando pipeline 1\n",
    "collection_filters.apply_pipeline1('dadosComFiltrosIniciais')\n",
    "\n",
    "# Aplicando pipeline 2 - pega os posts que tenha a data de publicação de no máximo 7 anos e no mínimo 2 anos\n",
    "collection_filters.apply_pipeline2(7, 1, 'posts7anos1anos')\n",
    "\n",
    "# Aplicando pipeline 3 - desenrola os posts em documentos individuais e cria novas colunas\n",
    "collection_filters.apply_pipeline3('postsComBDIAndInfos')\n",
    "\n",
    "# Aplicando pipeline 4 - aplica o filtro para selecionar apenas os posts que tem uma data de publicação válida\n",
    "collection_filters.apply_pipeline4('postsComBDIAndInfosFiltroDataPosts')\n",
    "\n",
    "collectionLikes = collection_filters_likes.apply_pipeline6('likes')\n",
    "\n",
    "collection = collection_filters.collection"
   ],
   "id": "43b4fa30d8a8dfca",
   "outputs": [],
   "execution_count": null
  },
  {
   "metadata": {},
   "cell_type": "code",
   "source": [
    "documentos = collection.find()\n",
    "df_original = pd.DataFrame(list(documentos))\n",
    "\n",
    "# Visualizar as primeiras linhas do dataframe\n",
    "df_original.head()"
   ],
   "id": "3a9396b40ef87465",
   "outputs": [],
   "execution_count": null
  },
  {
   "metadata": {},
   "cell_type": "code",
   "source": [
    "documentos_likes = collectionLikes.find()\n",
    "df_likes = pd.DataFrame(list(documentos_likes))"
   ],
   "id": "25453dc06c6bccef",
   "outputs": [],
   "execution_count": null
  },
  {
   "metadata": {},
   "cell_type": "code",
   "source": [
    "# Lista de colunas que precisam ser convertidas\n",
    "colunas_para_converter = [\n",
    "    'pessimismo', 'tristeza', 'fracasso', 'prazer', 'culpa', 'punicao', 'estima',\n",
    "    'critica', 'suicida', 'choro', 'agitacao', 'interesse', 'indecisao',\n",
    "    'desvalorizacao', 'energia', 'sono', 'irritabilidade', 'apetite',\n",
    "    'concentracao', 'fadiga', 'int_sexo', 'quantAmigos'\n",
    "]\n",
    "\n",
    "\n",
    "# Função para preencher valores nulos e converter o tipo de dado\n",
    "def preencher_e_converter(df, colunas, valor_preenchimento=0, tipo_dados='int64'):\n",
    "    df[colunas] = df[colunas].fillna(valor_preenchimento)\n",
    "    df[colunas] = df[colunas].astype(tipo_dados)\n",
    "    return df\n",
    "\n",
    "\n",
    "# Aplicando a função\n",
    "df_original = preencher_e_converter(df_original, colunas_para_converter)\n",
    "\n",
    "# Filtragem dos dados\n",
    "df_original.drop(columns=['_id', 'diaDaSemana', 'hora', 'minutos', 'diaDoMes', 'mes', 'ano'], inplace=True)\n",
    "\n",
    "# Criando novas colunas com o pandas\n",
    "df_original['data'] = df_original['postCreatedTime'].dt.date\n",
    "df_original['data'] = pd.to_datetime(df_original['data'])\n",
    "df_original['mes'] = df_original['data'].dt.to_period('M')\n",
    "df_original['semana'] = df_original['data'].dt.to_period('W')\n",
    "\n",
    "# Filtrar posts do ano de 2016\n",
    "df_2017 = df_original[df_original['data'].dt.year == 2017]\n",
    "df_2017 = df_2017[~((df_2017['data'].dt.month == 12) & (df_2017['data'].dt.year == 2017))]\n",
    "df_2017 = df_2017[df_2017['data'].dt.month >= 5]\n",
    "df_2017 = df_2017[df_2017['suicida'] == 3]\n",
    "df_2017 = df_2017\n",
    "\n",
    "# Remover linhas onde ambas as colunas 'postMessage' e 'postStory' estão vazias ou nulas\n",
    "df_2017 = df_2017.dropna(subset=['postMessage', 'postStory'], how='all')  # Remove quando ambas são NaN\n",
    "df_2017 = df_2017[~((df_2017['postMessage'].str.strip() == '') & (\n",
    "        df_2017['postStory'].str.strip() == ''))]  # Remove quando ambas são strings vazias"
   ],
   "id": "bba3d61555b58fcd",
   "outputs": [],
   "execution_count": null
  },
  {
   "metadata": {},
   "cell_type": "code",
   "source": [
    "# Adicionando novas features\n",
    "extracao = ExtracaoInteracao(df_2017)\n",
    "df_interacoes = extracao.extract_interactions()\n",
    "\n",
    "# Passo 6: Modificar outras colunas usando .loc para evitar avisos\n",
    "df_interacoes['sexo'] = df_interacoes['sexo'].map({'F': 0, 'M': 1})\n",
    "\n",
    "tratamento_texto = TextTreatment()\n",
    "df_interacoes['postMessageLimpo'] = df_interacoes['postMessage'].fillna('').progress_apply(\n",
    "    lambda texto: tratamento_texto.preprocessamento_texto(texto) if texto else '')\n",
    "\n",
    "busca_palavras = BuscaPalavras()\n",
    "\n",
    "# Faz a busca exata\n",
    "resultado = busca_palavras.string_matching(df_interacoes['postMessageLimpo'],\n",
    "                                           'dados/datasets/termos_depressivos_pt_br.txt')\n",
    "\n",
    "# Adicionar a coluna quantPalavrasDepressivas ao DataFrame, contando quantas palavras depressivas foram encontradas\n",
    "df_interacoes['quantPalavrasDepressivas'] = resultado.apply(lambda x: len(x.split(', ')) if x else 0)\n",
    "df_interacoes.head()"
   ],
   "id": "5cd5bc5295e25f2b",
   "outputs": [],
   "execution_count": null
  },
  {
   "metadata": {},
   "cell_type": "code",
   "source": [
    "# Criar um dataframe para conter as colunas que não mudam e o id_usuario\n",
    "df_respostas_bdi = df_interacoes.groupby(['id_usuario']).agg(\n",
    "    idade=('idade', 'first'),\n",
    "    sexo=('sexo', 'first'),\n",
    "    quantAmigos=('quantAmigos', 'first'),\n",
    "    nivel=('nivel', 'first'),\n",
    "    pessimismo=('pessimismo', 'first'),\n",
    "    tristeza=('tristeza', 'first'),\n",
    "    fracasso=('fracasso', 'first'),\n",
    "    prazer=('prazer', 'first'),\n",
    "    culpa=('culpa', 'first'),\n",
    "    punicao=('punicao', 'first'),\n",
    "    estima=('estima', 'first'),\n",
    "    critica=('critica', 'first'),\n",
    "    suicida=('suicida', 'first'),\n",
    "    choro=('choro', 'first'),\n",
    "    agitacao=('agitacao', 'first'),\n",
    "    interesse=('interesse', 'first'),\n",
    "    indecisao=('indecisao', 'first'),\n",
    "    desvalorizacao=('desvalorizacao', 'first'),\n",
    "    energia=('energia', 'first'),\n",
    "    sono=('sono', 'first'),\n",
    "    irritabilidade=('irritabilidade', 'first'),\n",
    "    apetite=('apetite', 'first'),\n",
    "    concentracao=('concentracao', 'first'),\n",
    "    fadiga=('fadiga', 'first'),\n",
    "    int_sexo=('int_sexo', 'first'),\n",
    ").reset_index()\n",
    "\n",
    "# Visualizar as primeiras linhas do dataframe\n",
    "df_respostas_bdi.head()"
   ],
   "id": "7a96240baffd735c",
   "outputs": [],
   "execution_count": null
  },
  {
   "metadata": {},
   "cell_type": "code",
   "source": [
    "df_interacoes.drop(\n",
    "    columns=['idade', 'sexo', 'quantAmigos', 'nivel', 'pessimismo', 'tristeza', 'fracasso', 'prazer', 'culpa',\n",
    "             'punicao', 'estima', 'critica', 'suicida', 'choro', 'agitacao', 'interesse', 'indecisao', 'desvalorizacao',\n",
    "             'energia', 'sono', 'irritabilidade', 'apetite', 'concentracao', 'fadiga', 'int_sexo'], inplace=True)"
   ],
   "id": "8b885c193e766aab",
   "outputs": [],
   "execution_count": null
  },
  {
   "metadata": {},
   "cell_type": "code",
   "source": "df_interacoes.head()",
   "id": "ba70b1fc66c7ba29",
   "outputs": [],
   "execution_count": null
  },
  {
   "metadata": {},
   "cell_type": "code",
   "source": [
    "# Adicionar a coluna quantPostMessage: contar onde postMessage não é vazio ou nulo\n",
    "df_interacoes['quantPostMessage'] = df_interacoes['postMessage'].apply(\n",
    "    lambda x: 1 if pd.notnull(x) and x.strip() != '' else 0)"
   ],
   "id": "6e089c8ad071d7f6",
   "outputs": [],
   "execution_count": null
  },
  {
   "metadata": {},
   "cell_type": "code",
   "source": "df_interacoes.head()",
   "id": "2b8ec723d5d666ce",
   "outputs": [],
   "execution_count": null
  },
  {
   "metadata": {},
   "cell_type": "code",
   "source": [
    "# Criar novos dataframe, df_poucas_interacoes, df_normal e df_muitas_interacoes\n",
    "# Lista das variáveis que variam com o tempo\n",
    "variaveis_interacao = [\n",
    "    'quantPostMessage', 'quantProfile', 'quantCover', 'quantAddPhotoWithOthers', 'quantIsWithOthers', 'quantAddPhoto',\n",
    "    'quantSharedPhoto', 'quantSharedVideo', 'quantSharedLink', 'quantSharedPost', 'quantSharedEvent',\n",
    "    'quantSharedMemory', 'quantStatus', 'quantPalavrasDepressivas'\n",
    "]"
   ],
   "id": "7915978c80741102",
   "outputs": [],
   "execution_count": null
  }
 ],
 "metadata": {
  "kernelspec": {
   "display_name": "Python 3",
   "language": "python",
   "name": "python3"
  },
  "language_info": {
   "codemirror_mode": {
    "name": "ipython",
    "version": 2
   },
   "file_extension": ".py",
   "mimetype": "text/x-python",
   "name": "python",
   "nbconvert_exporter": "python",
   "pygments_lexer": "ipython2",
   "version": "2.7.6"
  }
 },
 "nbformat": 4,
 "nbformat_minor": 5
}
