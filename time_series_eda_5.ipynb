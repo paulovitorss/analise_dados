{
 "cells": [
  {
   "metadata": {},
   "cell_type": "markdown",
   "source": "# Importando as bibliotecas",
   "id": "2bf9d9363b7b99f2"
  },
  {
   "metadata": {
    "ExecuteTime": {
     "end_time": "2024-09-27T23:00:59.194375Z",
     "start_time": "2024-09-27T23:00:59.183973Z"
    }
   },
   "cell_type": "code",
   "source": [
    "import pandas as pd\n",
    "from db import connection_db as conndb\n",
    "from db import filters\n",
    "from tqdm.auto import tqdm\n",
    "import matplotlib.pyplot as plt\n",
    "import seaborn as sns\n",
    "from sklearn.cluster import KMeans\n",
    "from sklearn.preprocessing import StandardScaler\n",
    "from sklearn.metrics import silhouette_score\n",
    "from scipy.spatial.distance import cdist\n",
    "import numpy as np\n",
    "\n",
    "tqdm.pandas()"
   ],
   "id": "4761db26da7a2327",
   "outputs": [],
   "execution_count": 4
  },
  {
   "metadata": {},
   "cell_type": "markdown",
   "source": "Conectando ao banco de dados do MongoDB",
   "id": "6ae872a7e38ede3b"
  },
  {
   "metadata": {
    "ExecuteTime": {
     "end_time": "2024-09-27T23:00:59.322684Z",
     "start_time": "2024-09-27T23:00:59.260398Z"
    }
   },
   "cell_type": "code",
   "source": [
    "uri = 'mongodb://localhost:27017/'\n",
    "db_name = 'dadosVivamente'\n",
    "col_name = 'dadosSemFiltros'\n",
    "col_filtrada = 'posts7anos1anos'\n",
    "\n",
    "mongo_connection = conndb.MongoDBConnection(uri=uri, database_name=db_name, collection_name=col_name)\n",
    "mongo_connection.connect()\n",
    "collection = mongo_connection.collection\n",
    "\n",
    "mongo_connection_filtrada = conndb.MongoDBConnection(uri=uri, database_name=db_name, collection_name=col_filtrada)\n",
    "mongo_connection_filtrada.connect()\n",
    "collection_filtrada = mongo_connection_filtrada.collection"
   ],
   "id": "e2d64bb2f75c6432",
   "outputs": [
    {
     "name": "stdout",
     "output_type": "stream",
     "text": [
      "Conexão estabelecida com sucesso ao banco de dados.\n",
      "Conexão estabelecida com sucesso ao banco de dados.\n"
     ]
    }
   ],
   "execution_count": 5
  },
  {
   "metadata": {},
   "cell_type": "markdown",
   "source": "Aplicando pipeline para preparação dos dados",
   "id": "d76def679f1666f8"
  },
  {
   "metadata": {
    "ExecuteTime": {
     "end_time": "2024-09-27T23:00:59.396731Z",
     "start_time": "2024-09-27T23:00:59.375181Z"
    }
   },
   "cell_type": "code",
   "source": [
    "collection_filters = filters.CollectionFilters(collection)\n",
    "\n",
    "collection_filters_likes = filters.CollectionFilters(collection_filtrada)\n",
    "\n",
    "# Aplicando pipeline 1\n",
    "collection_filters.apply_pipeline1('dadosComFiltrosIniciais')\n",
    "\n",
    "# Aplicando pipeline 2 - pega os posts que tenha a data de publicação de no máximo 7 anos e no mínimo 2 anos\n",
    "collection_filters.apply_pipeline2(7, 1, 'posts7anos1anos')\n",
    "\n",
    "# Aplicando pipeline 3 - desenrola os posts em documentos individuais e cria novas colunas\n",
    "collection_filters.apply_pipeline3('postsComBDIAndInfos')\n",
    "\n",
    "# Aplicando pipeline 4 - aplica o filtro para selecionar apenas os posts que tem uma data de publicação válida\n",
    "collection_filters.apply_pipeline4('postsComBDIAndInfosFiltroDataPosts')\n",
    "\n",
    "collection_filters_likes.apply_pipeline6('likes')\n",
    "\n",
    "collection = collection_filters.collection\n",
    "\n",
    "collection_filtrada = collection_filters_likes.collection"
   ],
   "id": "43b4fa30d8a8dfca",
   "outputs": [
    {
     "name": "stderr",
     "output_type": "stream",
     "text": [
      "INFO:root:A coleção já existe: dadosComFiltrosIniciais\n",
      "INFO:root:A coleção já existe: posts7anos1anos\n",
      "INFO:root:A coleção já existe: postsComBDIAndInfos\n",
      "INFO:root:A coleção já existe: postsComBDIAndInfosFiltroDataPosts\n",
      "INFO:root:A coleção já existe: likes\n"
     ]
    }
   ],
   "execution_count": 6
  },
  {
   "metadata": {
    "ExecuteTime": {
     "end_time": "2024-09-27T23:01:12.703019Z",
     "start_time": "2024-09-27T23:00:59.493780Z"
    }
   },
   "cell_type": "code",
   "source": [
    "documentos = collection.find()\n",
    "df_original = pd.DataFrame(list(documentos))"
   ],
   "id": "3a9396b40ef87465",
   "outputs": [],
   "execution_count": 7
  },
  {
   "metadata": {
    "ExecuteTime": {
     "end_time": "2024-09-27T23:01:13.864908Z",
     "start_time": "2024-09-27T23:01:13.843962Z"
    }
   },
   "cell_type": "code",
   "source": [
    "# Visualizar as primeiras linhas do dataframe\n",
    "df_original.head()"
   ],
   "id": "a6ab0c78ee0f3255",
   "outputs": [
    {
     "data": {
      "text/plain": [
       "                        _id  idade sexo        id_usuario pessimismo tristeza  \\\n",
       "0  5922035323c873001d525745     23    F  1743509662331356          0        1   \n",
       "1  5922035323c873001d525746     23    F  1743509662331356          0        1   \n",
       "2  5922035323c873001d525747     23    F  1743509662331356          0        1   \n",
       "3  5922035323c873001d525748     23    F  1743509662331356          0        1   \n",
       "4  5922035323c873001d525749     23    F  1743509662331356          0        1   \n",
       "\n",
       "  fracasso prazer culpa punicao  ... irritabilidade apetite concentracao  \\\n",
       "0        1      0     0       0  ...              2       0            2   \n",
       "1        1      0     0       0  ...              2       0            2   \n",
       "2        1      0     0       0  ...              2       0            2   \n",
       "3        1      0     0       0  ...              2       0            2   \n",
       "4        1      0     0       0  ...              2       0            2   \n",
       "\n",
       "  fadiga int_sexo quantAmigos  \\\n",
       "0      1        1         690   \n",
       "1      1        1         690   \n",
       "2      1        1         690   \n",
       "3      1        1         690   \n",
       "4      1        1         690   \n",
       "\n",
       "                                         postMessage  \\\n",
       "0           Marry, acho mesmo que sou de exatas...rs   \n",
       "1  A foto não está muito boa (porque o foco é a b...   \n",
       "2                                       Hahahahahaha   \n",
       "3                                                NaN   \n",
       "4  Parabéns Mariana Kreski foto top hahahhahhahha...   \n",
       "\n",
       "                                           postStory     postCreatedTime  \\\n",
       "0    Michele Kreski shared a video to your Timeline. 2017-05-07 20:42:01   \n",
       "1  Michele Kreski with Stephani Kreski and 3 others. 2017-05-03 14:56:38   \n",
       "2  Thais Belarmino shared Paródia dos Nomes's pho... 2017-03-21 16:40:15   \n",
       "3  Daniel Brito and 10 others wrote on your Timel... 2017-03-12 00:35:55   \n",
       "4                                                NaN 2017-03-10 18:19:35   \n",
       "\n",
       "    diaDaSemana  \n",
       "0       Domingo  \n",
       "1  Quarta-feira  \n",
       "2   Terça-feira  \n",
       "3       Domingo  \n",
       "4   Sexta-feira  \n",
       "\n",
       "[5 rows x 30 columns]"
      ],
      "text/html": [
       "<div>\n",
       "<style scoped>\n",
       "    .dataframe tbody tr th:only-of-type {\n",
       "        vertical-align: middle;\n",
       "    }\n",
       "\n",
       "    .dataframe tbody tr th {\n",
       "        vertical-align: top;\n",
       "    }\n",
       "\n",
       "    .dataframe thead th {\n",
       "        text-align: right;\n",
       "    }\n",
       "</style>\n",
       "<table border=\"1\" class=\"dataframe\">\n",
       "  <thead>\n",
       "    <tr style=\"text-align: right;\">\n",
       "      <th></th>\n",
       "      <th>_id</th>\n",
       "      <th>idade</th>\n",
       "      <th>sexo</th>\n",
       "      <th>id_usuario</th>\n",
       "      <th>pessimismo</th>\n",
       "      <th>tristeza</th>\n",
       "      <th>fracasso</th>\n",
       "      <th>prazer</th>\n",
       "      <th>culpa</th>\n",
       "      <th>punicao</th>\n",
       "      <th>...</th>\n",
       "      <th>irritabilidade</th>\n",
       "      <th>apetite</th>\n",
       "      <th>concentracao</th>\n",
       "      <th>fadiga</th>\n",
       "      <th>int_sexo</th>\n",
       "      <th>quantAmigos</th>\n",
       "      <th>postMessage</th>\n",
       "      <th>postStory</th>\n",
       "      <th>postCreatedTime</th>\n",
       "      <th>diaDaSemana</th>\n",
       "    </tr>\n",
       "  </thead>\n",
       "  <tbody>\n",
       "    <tr>\n",
       "      <th>0</th>\n",
       "      <td>5922035323c873001d525745</td>\n",
       "      <td>23</td>\n",
       "      <td>F</td>\n",
       "      <td>1743509662331356</td>\n",
       "      <td>0</td>\n",
       "      <td>1</td>\n",
       "      <td>1</td>\n",
       "      <td>0</td>\n",
       "      <td>0</td>\n",
       "      <td>0</td>\n",
       "      <td>...</td>\n",
       "      <td>2</td>\n",
       "      <td>0</td>\n",
       "      <td>2</td>\n",
       "      <td>1</td>\n",
       "      <td>1</td>\n",
       "      <td>690</td>\n",
       "      <td>Marry, acho mesmo que sou de exatas...rs</td>\n",
       "      <td>Michele Kreski shared a video to your Timeline.</td>\n",
       "      <td>2017-05-07 20:42:01</td>\n",
       "      <td>Domingo</td>\n",
       "    </tr>\n",
       "    <tr>\n",
       "      <th>1</th>\n",
       "      <td>5922035323c873001d525746</td>\n",
       "      <td>23</td>\n",
       "      <td>F</td>\n",
       "      <td>1743509662331356</td>\n",
       "      <td>0</td>\n",
       "      <td>1</td>\n",
       "      <td>1</td>\n",
       "      <td>0</td>\n",
       "      <td>0</td>\n",
       "      <td>0</td>\n",
       "      <td>...</td>\n",
       "      <td>2</td>\n",
       "      <td>0</td>\n",
       "      <td>2</td>\n",
       "      <td>1</td>\n",
       "      <td>1</td>\n",
       "      <td>690</td>\n",
       "      <td>A foto não está muito boa (porque o foco é a b...</td>\n",
       "      <td>Michele Kreski with Stephani Kreski and 3 others.</td>\n",
       "      <td>2017-05-03 14:56:38</td>\n",
       "      <td>Quarta-feira</td>\n",
       "    </tr>\n",
       "    <tr>\n",
       "      <th>2</th>\n",
       "      <td>5922035323c873001d525747</td>\n",
       "      <td>23</td>\n",
       "      <td>F</td>\n",
       "      <td>1743509662331356</td>\n",
       "      <td>0</td>\n",
       "      <td>1</td>\n",
       "      <td>1</td>\n",
       "      <td>0</td>\n",
       "      <td>0</td>\n",
       "      <td>0</td>\n",
       "      <td>...</td>\n",
       "      <td>2</td>\n",
       "      <td>0</td>\n",
       "      <td>2</td>\n",
       "      <td>1</td>\n",
       "      <td>1</td>\n",
       "      <td>690</td>\n",
       "      <td>Hahahahahaha</td>\n",
       "      <td>Thais Belarmino shared Paródia dos Nomes's pho...</td>\n",
       "      <td>2017-03-21 16:40:15</td>\n",
       "      <td>Terça-feira</td>\n",
       "    </tr>\n",
       "    <tr>\n",
       "      <th>3</th>\n",
       "      <td>5922035323c873001d525748</td>\n",
       "      <td>23</td>\n",
       "      <td>F</td>\n",
       "      <td>1743509662331356</td>\n",
       "      <td>0</td>\n",
       "      <td>1</td>\n",
       "      <td>1</td>\n",
       "      <td>0</td>\n",
       "      <td>0</td>\n",
       "      <td>0</td>\n",
       "      <td>...</td>\n",
       "      <td>2</td>\n",
       "      <td>0</td>\n",
       "      <td>2</td>\n",
       "      <td>1</td>\n",
       "      <td>1</td>\n",
       "      <td>690</td>\n",
       "      <td>NaN</td>\n",
       "      <td>Daniel Brito and 10 others wrote on your Timel...</td>\n",
       "      <td>2017-03-12 00:35:55</td>\n",
       "      <td>Domingo</td>\n",
       "    </tr>\n",
       "    <tr>\n",
       "      <th>4</th>\n",
       "      <td>5922035323c873001d525749</td>\n",
       "      <td>23</td>\n",
       "      <td>F</td>\n",
       "      <td>1743509662331356</td>\n",
       "      <td>0</td>\n",
       "      <td>1</td>\n",
       "      <td>1</td>\n",
       "      <td>0</td>\n",
       "      <td>0</td>\n",
       "      <td>0</td>\n",
       "      <td>...</td>\n",
       "      <td>2</td>\n",
       "      <td>0</td>\n",
       "      <td>2</td>\n",
       "      <td>1</td>\n",
       "      <td>1</td>\n",
       "      <td>690</td>\n",
       "      <td>Parabéns Mariana Kreski foto top hahahhahhahha...</td>\n",
       "      <td>NaN</td>\n",
       "      <td>2017-03-10 18:19:35</td>\n",
       "      <td>Sexta-feira</td>\n",
       "    </tr>\n",
       "  </tbody>\n",
       "</table>\n",
       "<p>5 rows × 30 columns</p>\n",
       "</div>"
      ]
     },
     "execution_count": 8,
     "metadata": {},
     "output_type": "execute_result"
    }
   ],
   "execution_count": 8
  },
  {
   "metadata": {
    "ExecuteTime": {
     "end_time": "2024-09-27T23:01:15.737460Z",
     "start_time": "2024-09-27T23:01:13.910920Z"
    }
   },
   "cell_type": "code",
   "source": [
    "documentos_likes = collection_filtrada.find()\n",
    "df_likes = pd.DataFrame(list(documentos_likes))"
   ],
   "id": "25453dc06c6bccef",
   "outputs": [],
   "execution_count": 9
  },
  {
   "metadata": {
    "ExecuteTime": {
     "end_time": "2024-09-27T23:01:16.136916Z",
     "start_time": "2024-09-27T23:01:16.127833Z"
    }
   },
   "cell_type": "code",
   "source": [
    "# Visualizar as primeiras linhas do dataframe\n",
    "df_likes.head()"
   ],
   "id": "cf1fadb073731e09",
   "outputs": [
    {
     "data": {
      "text/plain": [
       "                        _id        id_usuario     likeCreatedTime\n",
       "0  5922035323c873001d52562f  1743509662331356 2017-05-18 23:31:26\n",
       "1  5922035323c873001d525630  1743509662331356 2017-05-09 21:32:15\n",
       "2  5922035323c873001d525631  1743509662331356 2017-05-02 21:16:06\n",
       "3  5922035323c873001d525632  1743509662331356 2017-04-19 17:33:47\n",
       "4  5922035323c873001d525633  1743509662331356 2017-04-12 11:23:27"
      ],
      "text/html": [
       "<div>\n",
       "<style scoped>\n",
       "    .dataframe tbody tr th:only-of-type {\n",
       "        vertical-align: middle;\n",
       "    }\n",
       "\n",
       "    .dataframe tbody tr th {\n",
       "        vertical-align: top;\n",
       "    }\n",
       "\n",
       "    .dataframe thead th {\n",
       "        text-align: right;\n",
       "    }\n",
       "</style>\n",
       "<table border=\"1\" class=\"dataframe\">\n",
       "  <thead>\n",
       "    <tr style=\"text-align: right;\">\n",
       "      <th></th>\n",
       "      <th>_id</th>\n",
       "      <th>id_usuario</th>\n",
       "      <th>likeCreatedTime</th>\n",
       "    </tr>\n",
       "  </thead>\n",
       "  <tbody>\n",
       "    <tr>\n",
       "      <th>0</th>\n",
       "      <td>5922035323c873001d52562f</td>\n",
       "      <td>1743509662331356</td>\n",
       "      <td>2017-05-18 23:31:26</td>\n",
       "    </tr>\n",
       "    <tr>\n",
       "      <th>1</th>\n",
       "      <td>5922035323c873001d525630</td>\n",
       "      <td>1743509662331356</td>\n",
       "      <td>2017-05-09 21:32:15</td>\n",
       "    </tr>\n",
       "    <tr>\n",
       "      <th>2</th>\n",
       "      <td>5922035323c873001d525631</td>\n",
       "      <td>1743509662331356</td>\n",
       "      <td>2017-05-02 21:16:06</td>\n",
       "    </tr>\n",
       "    <tr>\n",
       "      <th>3</th>\n",
       "      <td>5922035323c873001d525632</td>\n",
       "      <td>1743509662331356</td>\n",
       "      <td>2017-04-19 17:33:47</td>\n",
       "    </tr>\n",
       "    <tr>\n",
       "      <th>4</th>\n",
       "      <td>5922035323c873001d525633</td>\n",
       "      <td>1743509662331356</td>\n",
       "      <td>2017-04-12 11:23:27</td>\n",
       "    </tr>\n",
       "  </tbody>\n",
       "</table>\n",
       "</div>"
      ]
     },
     "execution_count": 10,
     "metadata": {},
     "output_type": "execute_result"
    }
   ],
   "execution_count": 10
  },
  {
   "metadata": {
    "ExecuteTime": {
     "end_time": "2024-09-27T23:01:19.666439Z",
     "start_time": "2024-09-27T23:01:16.402594Z"
    }
   },
   "cell_type": "code",
   "source": [
    "# Lista de colunas que precisam ser convertidas\n",
    "colunas_para_converter = [\n",
    "    'pessimismo', 'tristeza', 'fracasso', 'prazer', 'culpa', 'punicao', 'estima',\n",
    "    'critica', 'suicida', 'choro', 'agitacao', 'interesse', 'indecisao',\n",
    "    'desvalorizacao', 'energia', 'sono', 'irritabilidade', 'apetite',\n",
    "    'concentracao', 'fadiga', 'int_sexo', 'quantAmigos'\n",
    "]\n",
    "\n",
    "\n",
    "# Função para preencher valores nulos e converter o tipo de dado\n",
    "def preencher_e_converter(df, colunas, valor_preenchimento=0, tipo_dados='int64'):\n",
    "    df[colunas] = df[colunas].fillna(valor_preenchimento)\n",
    "    df[colunas] = df[colunas].astype(tipo_dados)\n",
    "    return df\n",
    "\n",
    "\n",
    "# Aplicando a função\n",
    "df_original = preencher_e_converter(df_original, colunas_para_converter)\n",
    "df_original['sexo'] = df_original['sexo'].map({'F': 0, 'M': 1})\n",
    "\n",
    "# Filtragem dos dados\n",
    "df_original.drop(columns=['_id', 'diaDaSemana'], inplace=True)"
   ],
   "id": "f1df0acf86f2f761",
   "outputs": [],
   "execution_count": 11
  },
  {
   "metadata": {
    "ExecuteTime": {
     "end_time": "2024-09-27T23:01:20.782117Z",
     "start_time": "2024-09-27T23:01:19.801084Z"
    }
   },
   "cell_type": "code",
   "source": [
    "# Criando novas colunas com o pandas\n",
    "df_original['data'] = df_original['postCreatedTime'].dt.date\n",
    "df_original['data'] = pd.to_datetime(df_original['data'])\n",
    "df_original['mes'] = df_original['data'].dt.to_period('M')\n",
    "df_original['semana'] = df_original['data'].dt.to_period('W')\n",
    "\n",
    "# Filtrar posts do ano de 2017, exceto dezembro\n",
    "df_2017 = df_original[df_original['data'].dt.year == 2017]\n",
    "df_2017 = df_2017[~((df_2017['data'].dt.month == 12) & (df_2017['data'].dt.year == 2017))]\n",
    "df_2017 = df_2017[df_2017['data'].dt.month >= 5]\n",
    "df_2017 = df_2017[df_2017['suicida'] == 3]\n",
    "\n",
    "# Remover linhas onde ambas as colunas 'postMessage' e 'postStory' estão vazias ou nulas\n",
    "df_2017 = df_2017.dropna(subset=['postMessage', 'postStory'], how='all')  # Remove quando ambas são NaN\n",
    "df_2017 = df_2017[~((df_2017['postMessage'].str.strip() == '') & (\n",
    "        df_2017['postStory'].str.strip() == ''))]  # Remove quando ambas são strings vazias\n",
    "\n",
    "# Calcular a contagem de postagens por usuário\n",
    "post_counts = df_2017.groupby('id_usuario').size().reset_index(name='post_count')\n",
    "\n",
    "# Visualizar a distribuição\n",
    "plt.hist(post_counts['post_count'], bins=50)\n",
    "plt.xlabel('Número de Postagens')\n",
    "plt.ylabel('Quantidade de Usuários')\n",
    "plt.title('Distribuição de Postagens por Usuário')\n",
    "plt.show()"
   ],
   "id": "e86f6d5651115359",
   "outputs": [
    {
     "data": {
      "text/plain": [
       "<Figure size 640x480 with 1 Axes>"
      ],
      "image/png": "[encoded data removed]"
     },
     "metadata": {},
     "output_type": "display_data"
    }
   ],
   "execution_count": 12
  },
  {
   "metadata": {
    "ExecuteTime": {
     "end_time": "2024-09-27T23:01:20.842669Z",
     "start_time": "2024-09-27T23:01:20.824811Z"
    }
   },
   "cell_type": "code",
   "source": [
    "# Definir os limites superior e inferior\n",
    "limite_superior = post_counts['post_count'].quantile(0.85)\n",
    "limite_inferior = post_counts['post_count'].quantile(0.15)\n",
    "\n",
    "# Filtrar usuários com alta atividade\n",
    "usuarios_alta_ativ = post_counts[post_counts['post_count'] > limite_superior]['id_usuario']\n",
    "\n",
    "# Filtrar usuários com baixa atividade\n",
    "usuarios_baixa_ativ = post_counts[post_counts['post_count'] < limite_inferior]['id_usuario']\n",
    "\n",
    "# Exibir o número de usuários filtrados\n",
    "print(f'Número de usuários com alta atividade: {len(usuarios_alta_ativ)}')\n",
    "print(f'Número de usuários com baixa atividade: {len(usuarios_baixa_ativ)}')"
   ],
   "id": "8bd8691c067965f2",
   "outputs": [
    {
     "name": "stdout",
     "output_type": "stream",
     "text": [
      "Número de usuários com alta atividade: 10\n",
      "Número de usuários com baixa atividade: 10\n"
     ]
    }
   ],
   "execution_count": 13
  },
  {
   "metadata": {
    "ExecuteTime": {
     "end_time": "2024-09-27T23:01:21.778825Z",
     "start_time": "2024-09-27T23:01:20.967280Z"
    }
   },
   "cell_type": "code",
   "source": [
    "df_normal = df_2017[~(df_2017['id_usuario'].isin(usuarios_alta_ativ))]\n",
    "\n",
    "# df_normal = df_2017[\n",
    "#     ~(df_2017['id_usuario'].isin(usuarios_alta_ativ) | df_2017['id_usuario'].isin(usuarios_baixa_ativ))]\n",
    "\n",
    "norm_post_count = df_normal.groupby('id_usuario').size().reset_index(name='post_count')\n",
    "\n",
    "df_alta_ativ = df_2017[df_2017['id_usuario'].isin(usuarios_alta_ativ)]\n",
    "alt_post_count = df_alta_ativ.groupby('id_usuario').size().reset_index(name='post_count')\n",
    "\n",
    "df_baixa_ativ = df_2017[df_2017['id_usuario'].isin(usuarios_baixa_ativ)]\n",
    "baixa_post_count = df_baixa_ativ.groupby('id_usuario').size().reset_index(name='post_count')\n",
    "\n",
    "\n",
    "def plotar_distribuicao(post_count_df, titulo):\n",
    "    plt.hist(post_count_df['post_count'], bins=50)\n",
    "    plt.xlabel('Número de Postagens')\n",
    "    plt.ylabel('Quantidade de Usuários')\n",
    "    plt.title(titulo)\n",
    "    plt.show()\n",
    "\n",
    "\n",
    "plotar_distribuicao(norm_post_count, 'Distribuição de Postagens por Usuário (Normal)')\n",
    "plotar_distribuicao(alt_post_count, 'Distribuição de Postagens por Usuário (Alta Atividade)')\n",
    "plotar_distribuicao(baixa_post_count, 'Distribuição de Postagens por Usuário (Baixa Atividade)')"
   ],
   "id": "be41fa3c438cc802",
   "outputs": [
    {
     "data": {
      "text/plain": [
       "<Figure size 640x480 with 1 Axes>"
      ],
      "image/png": "[encoded data removed]"
     },
     "metadata": {},
     "output_type": "display_data"
    },
    {
     "data": {
      "text/plain": [
       "<Figure size 640x480 with 1 Axes>"
      ],
      "image/png": "[encoded data removed]"
     },
     "metadata": {},
     "output_type": "display_data"
    },
    {
     "data": {
      "text/plain": [
       "<Figure size 640x480 with 1 Axes>"
      ],
      "image/png": "[encoded data removed]"
     },
     "metadata": {},
     "output_type": "display_data"
    }
   ],
   "execution_count": 14
  },
  {
   "metadata": {
    "ExecuteTime": {
     "end_time": "2024-09-27T23:01:21.904655Z",
     "start_time": "2024-09-27T23:01:21.875520Z"
    }
   },
   "cell_type": "code",
   "source": "df_normal.head()",
   "id": "84ce03876bc42b48",
   "outputs": [
    {
     "data": {
      "text/plain": [
       "       idade  sexo        id_usuario  pessimismo  tristeza  fracasso  prazer  \\\n",
       "61757     27     0  1870214326566563           2         1         1       3   \n",
       "61758     27     0  1870214326566563           2         1         1       3   \n",
       "61759     27     0  1870214326566563           2         1         1       3   \n",
       "61760     27     0  1870214326566563           2         1         1       3   \n",
       "61761     27     0  1870214326566563           2         1         1       3   \n",
       "\n",
       "       culpa  punicao  estima  ...  concentracao  fadiga  int_sexo  \\\n",
       "61757      2        1       1  ...             2       3         3   \n",
       "61758      2        1       1  ...             2       3         3   \n",
       "61759      2        1       1  ...             2       3         3   \n",
       "61760      2        1       1  ...             2       3         3   \n",
       "61761      2        1       1  ...             2       3         3   \n",
       "\n",
       "       quantAmigos                      postMessage  \\\n",
       "61757          532                              NaN   \n",
       "61758          532                   Mini pizza 😍😍😍   \n",
       "61759          532                Os pães de hj 😍😘😍   \n",
       "61760          532  Amo um carinho da minha mãe 😍😍😍   \n",
       "61761          532                              NaN   \n",
       "\n",
       "                                    postStory     postCreatedTime       data  \\\n",
       "61757  Gabriela Tedesco shared Chloe's photo. 2017-06-08 16:01:43 2017-06-08   \n",
       "61758                                     NaN 2017-06-08 15:56:50 2017-06-08   \n",
       "61759                                     NaN 2017-06-08 01:51:16 2017-06-08   \n",
       "61760                                     NaN 2017-06-08 01:12:01 2017-06-08   \n",
       "61761  Gabriela Tedesco shared Chloe's photo. 2017-06-07 23:41:27 2017-06-07   \n",
       "\n",
       "           mes                 semana  \n",
       "61757  2017-06  2017-06-05/2017-06-11  \n",
       "61758  2017-06  2017-06-05/2017-06-11  \n",
       "61759  2017-06  2017-06-05/2017-06-11  \n",
       "61760  2017-06  2017-06-05/2017-06-11  \n",
       "61761  2017-06  2017-06-05/2017-06-11  \n",
       "\n",
       "[5 rows x 31 columns]"
      ],
      "text/html": [
       "<div>\n",
       "<style scoped>\n",
       "    .dataframe tbody tr th:only-of-type {\n",
       "        vertical-align: middle;\n",
       "    }\n",
       "\n",
       "    .dataframe tbody tr th {\n",
       "        vertical-align: top;\n",
       "    }\n",
       "\n",
       "    .dataframe thead th {\n",
       "        text-align: right;\n",
       "    }\n",
       "</style>\n",
       "<table border=\"1\" class=\"dataframe\">\n",
       "  <thead>\n",
       "    <tr style=\"text-align: right;\">\n",
       "      <th></th>\n",
       "      <th>idade</th>\n",
       "      <th>sexo</th>\n",
       "      <th>id_usuario</th>\n",
       "      <th>pessimismo</th>\n",
       "      <th>tristeza</th>\n",
       "      <th>fracasso</th>\n",
       "      <th>prazer</th>\n",
       "      <th>culpa</th>\n",
       "      <th>punicao</th>\n",
       "      <th>estima</th>\n",
       "      <th>...</th>\n",
       "      <th>concentracao</th>\n",
       "      <th>fadiga</th>\n",
       "      <th>int_sexo</th>\n",
       "      <th>quantAmigos</th>\n",
       "      <th>postMessage</th>\n",
       "      <th>postStory</th>\n",
       "      <th>postCreatedTime</th>\n",
       "      <th>data</th>\n",
       "      <th>mes</th>\n",
       "      <th>semana</th>\n",
       "    </tr>\n",
       "  </thead>\n",
       "  <tbody>\n",
       "    <tr>\n",
       "      <th>61757</th>\n",
       "      <td>27</td>\n",
       "      <td>0</td>\n",
       "      <td>1870214326566563</td>\n",
       "      <td>2</td>\n",
       "      <td>1</td>\n",
       "      <td>1</td>\n",
       "      <td>3</td>\n",
       "      <td>2</td>\n",
       "      <td>1</td>\n",
       "      <td>1</td>\n",
       "      <td>...</td>\n",
       "      <td>2</td>\n",
       "      <td>3</td>\n",
       "      <td>3</td>\n",
       "      <td>532</td>\n",
       "      <td>NaN</td>\n",
       "      <td>Gabriela Tedesco shared Chloe's photo.</td>\n",
       "      <td>2017-06-08 16:01:43</td>\n",
       "      <td>2017-06-08</td>\n",
       "      <td>2017-06</td>\n",
       "      <td>2017-06-05/2017-06-11</td>\n",
       "    </tr>\n",
       "    <tr>\n",
       "      <th>61758</th>\n",
       "      <td>27</td>\n",
       "      <td>0</td>\n",
       "      <td>1870214326566563</td>\n",
       "      <td>2</td>\n",
       "      <td>1</td>\n",
       "      <td>1</td>\n",
       "      <td>3</td>\n",
       "      <td>2</td>\n",
       "      <td>1</td>\n",
       "      <td>1</td>\n",
       "      <td>...</td>\n",
       "      <td>2</td>\n",
       "      <td>3</td>\n",
       "      <td>3</td>\n",
       "      <td>532</td>\n",
       "      <td>Mini pizza 😍😍😍</td>\n",
       "      <td>NaN</td>\n",
       "      <td>2017-06-08 15:56:50</td>\n",
       "      <td>2017-06-08</td>\n",
       "      <td>2017-06</td>\n",
       "      <td>2017-06-05/2017-06-11</td>\n",
       "    </tr>\n",
       "    <tr>\n",
       "      <th>61759</th>\n",
       "      <td>27</td>\n",
       "      <td>0</td>\n",
       "      <td>1870214326566563</td>\n",
       "      <td>2</td>\n",
       "      <td>1</td>\n",
       "      <td>1</td>\n",
       "      <td>3</td>\n",
       "      <td>2</td>\n",
       "      <td>1</td>\n",
       "      <td>1</td>\n",
       "      <td>...</td>\n",
       "      <td>2</td>\n",
       "      <td>3</td>\n",
       "      <td>3</td>\n",
       "      <td>532</td>\n",
       "      <td>Os pães de hj 😍😘😍</td>\n",
       "      <td>NaN</td>\n",
       "      <td>2017-06-08 01:51:16</td>\n",
       "      <td>2017-06-08</td>\n",
       "      <td>2017-06</td>\n",
       "      <td>2017-06-05/2017-06-11</td>\n",
       "    </tr>\n",
       "    <tr>\n",
       "      <th>61760</th>\n",
       "      <td>27</td>\n",
       "      <td>0</td>\n",
       "      <td>1870214326566563</td>\n",
       "      <td>2</td>\n",
       "      <td>1</td>\n",
       "      <td>1</td>\n",
       "      <td>3</td>\n",
       "      <td>2</td>\n",
       "      <td>1</td>\n",
       "      <td>1</td>\n",
       "      <td>...</td>\n",
       "      <td>2</td>\n",
       "      <td>3</td>\n",
       "      <td>3</td>\n",
       "      <td>532</td>\n",
       "      <td>Amo um carinho da minha mãe 😍😍😍</td>\n",
       "      <td>NaN</td>\n",
       "      <td>2017-06-08 01:12:01</td>\n",
       "      <td>2017-06-08</td>\n",
       "      <td>2017-06</td>\n",
       "      <td>2017-06-05/2017-06-11</td>\n",
       "    </tr>\n",
       "    <tr>\n",
       "      <th>61761</th>\n",
       "      <td>27</td>\n",
       "      <td>0</td>\n",
       "      <td>1870214326566563</td>\n",
       "      <td>2</td>\n",
       "      <td>1</td>\n",
       "      <td>1</td>\n",
       "      <td>3</td>\n",
       "      <td>2</td>\n",
       "      <td>1</td>\n",
       "      <td>1</td>\n",
       "      <td>...</td>\n",
       "      <td>2</td>\n",
       "      <td>3</td>\n",
       "      <td>3</td>\n",
       "      <td>532</td>\n",
       "      <td>NaN</td>\n",
       "      <td>Gabriela Tedesco shared Chloe's photo.</td>\n",
       "      <td>2017-06-07 23:41:27</td>\n",
       "      <td>2017-06-07</td>\n",
       "      <td>2017-06</td>\n",
       "      <td>2017-06-05/2017-06-11</td>\n",
       "    </tr>\n",
       "  </tbody>\n",
       "</table>\n",
       "<p>5 rows × 31 columns</p>\n",
       "</div>"
      ]
     },
     "execution_count": 15,
     "metadata": {},
     "output_type": "execute_result"
    }
   ],
   "execution_count": 15
  },
  {
   "metadata": {
    "ExecuteTime": {
     "end_time": "2024-09-27T23:02:25.148780Z",
     "start_time": "2024-09-27T23:02:24.900795Z"
    }
   },
   "cell_type": "code",
   "source": [
    "# Calcular a contagem de postagens por usuário\n",
    "post_counts_normal = df_normal.groupby('id_usuario').size().reset_index(name='post_count')\n",
    "\n",
    "# Visualizar a distribuição\n",
    "plt.hist(post_counts_normal['post_count'], bins=50)\n",
    "plt.xlabel('Número de Postagens')\n",
    "plt.ylabel('Quantidade de Usuários')\n",
    "plt.title('Distribuição de Postagens por Usuário')\n",
    "plt.show()"
   ],
   "id": "1cb335cb9d8aa81d",
   "outputs": [
    {
     "data": {
      "text/plain": [
       "<Figure size 640x480 with 1 Axes>"
      ],
      "image/png": "[encoded data removed]"
     },
     "metadata": {},
     "output_type": "display_data"
    }
   ],
   "execution_count": 16
  },
  {
   "metadata": {
    "ExecuteTime": {
     "end_time": "2024-09-27T23:02:30.426369Z",
     "start_time": "2024-09-27T23:02:29.635877Z"
    }
   },
   "cell_type": "code",
   "source": [
    "# Treinar o K-Means com o número de postagens dos usuários\n",
    "kmeans = KMeans(n_clusters=4, random_state=0)\n",
    "post_counts_normal['cluster'] = kmeans.fit_predict(post_counts_normal[['post_count']])\n",
    "\n",
    "# Exibir a contagem de usuários por cluster\n",
    "print(post_counts_normal['cluster'].value_counts())\n",
    "\n",
    "# Plotar os clusters identificados\n",
    "sns.histplot(data=post_counts_normal, x='post_count', hue='cluster', bins=30, kde=True)\n",
    "plt.xlabel('Número de Postagens')\n",
    "plt.ylabel('Frequência')\n",
    "plt.title('Distribuição dos Clusters de Postagens por Usuário')\n",
    "plt.show()"
   ],
   "id": "cd843af82834d340",
   "outputs": [
    {
     "name": "stdout",
     "output_type": "stream",
     "text": [
      "cluster\n",
      "3    17\n",
      "0    16\n",
      "2    12\n",
      "1    11\n",
      "Name: count, dtype: int64\n"
     ]
    },
    {
     "data": {
      "text/plain": [
       "<Figure size 640x480 with 1 Axes>"
      ],
      "image/png": "[encoded data removed]"
     },
     "metadata": {},
     "output_type": "display_data"
    }
   ],
   "execution_count": 17
  },
  {
   "metadata": {
    "ExecuteTime": {
     "end_time": "2024-09-27T23:02:33.781197Z",
     "start_time": "2024-09-27T23:02:33.770944Z"
    }
   },
   "cell_type": "code",
   "source": [
    "# Calcular o Silhouette Score\n",
    "silhouette_avg = silhouette_score(post_counts_normal[['post_count']], kmeans.labels_)\n",
    "print(f'Silhouette Score médio: {silhouette_avg}')\n",
    "\n",
    "# Inércia (soma das distâncias quadradas internas)\n",
    "print(f'Inércia do modelo: {kmeans.inertia_}')"
   ],
   "id": "a7904f3b2a30ecf9",
   "outputs": [
    {
     "name": "stdout",
     "output_type": "stream",
     "text": [
      "Silhouette Score médio: 0.6001638969686159\n",
      "Inércia do modelo: 106084.57754010695\n"
     ]
    }
   ],
   "execution_count": 18
  },
  {
   "metadata": {
    "ExecuteTime": {
     "end_time": "2024-09-27T23:02:36.248010Z",
     "start_time": "2024-09-27T23:02:35.940682Z"
    }
   },
   "cell_type": "code",
   "source": [
    "inercia = []\n",
    "K = range(1, 11)  # Testar de 1 a 10 clusters\n",
    "for k in K:\n",
    "    kmeans = KMeans(n_clusters=k, random_state=0)\n",
    "    kmeans.fit(post_counts_normal[['post_count']])\n",
    "    inercia.append(kmeans.inertia_)\n",
    "\n",
    "# Plotar a inércia para diferentes números de clusters\n",
    "plt.plot(K, inercia, 'bx-')\n",
    "plt.xlabel('Número de Clusters')\n",
    "plt.ylabel('Inércia')\n",
    "plt.title('Método do Cotovelo para escolher o número ótimo de clusters')\n",
    "plt.show()"
   ],
   "id": "5bd323d7f06e4531",
   "outputs": [
    {
     "data": {
      "text/plain": [
       "<Figure size 640x480 with 1 Axes>"
      ],
      "image/png": "[encoded data removed]"
     },
     "metadata": {},
     "output_type": "display_data"
    }
   ],
   "execution_count": 19
  },
  {
   "metadata": {
    "ExecuteTime": {
     "end_time": "2024-09-27T23:02:40.807233Z",
     "start_time": "2024-09-27T23:02:40.798159Z"
    }
   },
   "cell_type": "code",
   "source": [
    "# Calcula as distâncias intracluster (distâncias entre pontos e seus centróides)\n",
    "distancias_intracluster = cdist(post_counts_normal[['post_count']], kmeans.cluster_centers_[kmeans.labels_],\n",
    "                                'euclidean')\n",
    "media_intracluster = distancias_intracluster.mean()\n",
    "\n",
    "# Calcula as distâncias intercluster (distâncias entre os centróides dos clusters)\n",
    "distancias_intercluster = cdist(kmeans.cluster_centers_, kmeans.cluster_centers_, 'euclidean')\n",
    "media_intercluster = distancias_intercluster[np.triu_indices_from(distancias_intercluster, 1)].mean()\n",
    "\n",
    "print(f'Média das distâncias intracluster: {media_intracluster}')\n",
    "print(f'Média das distâncias intercluster: {media_intercluster}')"
   ],
   "id": "2cc140b3f82b38cb",
   "outputs": [
    {
     "name": "stdout",
     "output_type": "stream",
     "text": [
      "Média das distâncias intracluster: 219.24362244897958\n",
      "Média das distâncias intercluster: 254.88238095238097\n"
     ]
    }
   ],
   "execution_count": 20
  },
  {
   "metadata": {},
   "cell_type": "markdown",
   "source": "Likes",
   "id": "715788065d42c00c"
  },
  {
   "metadata": {},
   "cell_type": "code",
   "source": [
    "# Adicinando colunas no df_likes\n",
    "df_likes['data'] = df_likes['likeCreatedTime'].dt.date\n",
    "df_likes['data'] = pd.to_datetime(df_likes['data'])\n",
    "df_likes['mes'] = df_likes['data'].dt.to_period('M')\n",
    "df_likes['semana'] = df_likes['data'].dt.to_period('W')\n",
    "\n",
    "df_likes_2017 = df_likes[df_likes['data'].dt.year == 2017]\n",
    "df_likes_2017 = df_likes_2017[~((df_likes_2017['data'].dt.month == 12) & (df_likes_2017['data'].dt.year == 2017))]\n",
    "df_likes_2017 = df_likes_2017[df_likes_2017['data'].dt.month >= 5]\n",
    "df_likes_2017 = df_likes_2017\n",
    "\n",
    "# Filtrar pelos likes dos id_usuarios que estão no df_2017\n",
    "df_likes_2017 = df_likes_2017[df_likes_2017['id_usuario'].isin(df_normal['id_usuario'])]\n",
    "df_likes_2017.head()\n",
    "# Calcular a contagem de postagens por usuário\n",
    "likes_counts = df_likes_2017.groupby('id_usuario').size().reset_index(name='like_count')\n",
    "\n",
    "# Visualizar a distribuição\n",
    "plt.hist(likes_counts['like_count'], bins=50)\n",
    "plt.xlabel('Número de Likes')\n",
    "plt.ylabel('Quantidade de Usuários')\n",
    "plt.title('Distribuição de Likes por Usuário')\n",
    "plt.show()"
   ],
   "id": "91c45124835b5b07",
   "outputs": [],
   "execution_count": null
  },
  {
   "metadata": {
    "ExecuteTime": {
     "end_time": "2024-09-27T23:02:47.490432Z",
     "start_time": "2024-09-27T23:02:47.430136Z"
    }
   },
   "cell_type": "code",
   "source": [
    "# Criar um dataframe para conter as colunas que não mudam e o id_usuario\n",
    "df_respostas_bdi = df_normal.groupby(['id_usuario']).agg(\n",
    "    pessimismo=('pessimismo', 'first'),\n",
    "    tristeza=('tristeza', 'first'),\n",
    "    fracasso=('fracasso', 'first'),\n",
    "    prazer=('prazer', 'first'),\n",
    "    culpa=('culpa', 'first'),\n",
    "    punicao=('punicao', 'first'),\n",
    "    estima=('estima', 'first'),\n",
    "    critica=('critica', 'first'),\n",
    "    suicida=('suicida', 'first'),\n",
    "    choro=('choro', 'first'),\n",
    "    agitacao=('agitacao', 'first'),\n",
    "    interesse=('interesse', 'first'),\n",
    "    indecisao=('indecisao', 'first'),\n",
    "    desvalorizacao=('desvalorizacao', 'first'),\n",
    "    energia=('energia', 'first'),\n",
    "    sono=('sono', 'first'),\n",
    "    irritabilidade=('irritabilidade', 'first'),\n",
    "    apetite=('apetite', 'first'),\n",
    "    concentracao=('concentracao', 'first'),\n",
    "    fadiga=('fadiga', 'first'),\n",
    "    int_sexo=('int_sexo', 'first'),\n",
    ").reset_index()\n",
    "\n",
    "df_respostas_bdi.to_csv('df_respostas_bdi.csv', index=False)\n",
    "\n",
    "# Visualizar as primeiras linhas do dataframe\n",
    "df_respostas_bdi.head()"
   ],
   "id": "7a96240baffd735c",
   "outputs": [
    {
     "data": {
      "text/plain": [
       "         id_usuario  pessimismo  tristeza  fracasso  prazer  culpa  punicao  \\\n",
       "0  1022864967872047           1         1         3       2      2        1   \n",
       "1  1044942355647418           0         1         3       1      1        2   \n",
       "2  1105432349559329           1         2         2       3      2        3   \n",
       "3  1170510339747390           2         3         3       2      1        0   \n",
       "4  1211223432346372           1         1         3       2      3        2   \n",
       "\n",
       "   estima  critica  suicida  ...  interesse  indecisao  desvalorizacao  \\\n",
       "0       2        3        3  ...          1          1               2   \n",
       "1       0        3        3  ...          2          1               1   \n",
       "2       2        2        3  ...          2          1               1   \n",
       "3       3        2        3  ...          2          3               3   \n",
       "4       3        3        3  ...          2          3               2   \n",
       "\n",
       "   energia  sono  irritabilidade  apetite  concentracao  fadiga  int_sexo  \n",
       "0        1     1               1        2             2       1         0  \n",
       "1        2     3               1        1             2       0         3  \n",
       "2        2     2               2        3             2       3         3  \n",
       "3        3     3               2        2             3       3         2  \n",
       "4        2     2               3        3             2       3         1  \n",
       "\n",
       "[5 rows x 22 columns]"
      ],
      "text/html": [
       "<div>\n",
       "<style scoped>\n",
       "    .dataframe tbody tr th:only-of-type {\n",
       "        vertical-align: middle;\n",
       "    }\n",
       "\n",
       "    .dataframe tbody tr th {\n",
       "        vertical-align: top;\n",
       "    }\n",
       "\n",
       "    .dataframe thead th {\n",
       "        text-align: right;\n",
       "    }\n",
       "</style>\n",
       "<table border=\"1\" class=\"dataframe\">\n",
       "  <thead>\n",
       "    <tr style=\"text-align: right;\">\n",
       "      <th></th>\n",
       "      <th>id_usuario</th>\n",
       "      <th>pessimismo</th>\n",
       "      <th>tristeza</th>\n",
       "      <th>fracasso</th>\n",
       "      <th>prazer</th>\n",
       "      <th>culpa</th>\n",
       "      <th>punicao</th>\n",
       "      <th>estima</th>\n",
       "      <th>critica</th>\n",
       "      <th>suicida</th>\n",
       "      <th>...</th>\n",
       "      <th>interesse</th>\n",
       "      <th>indecisao</th>\n",
       "      <th>desvalorizacao</th>\n",
       "      <th>energia</th>\n",
       "      <th>sono</th>\n",
       "      <th>irritabilidade</th>\n",
       "      <th>apetite</th>\n",
       "      <th>concentracao</th>\n",
       "      <th>fadiga</th>\n",
       "      <th>int_sexo</th>\n",
       "    </tr>\n",
       "  </thead>\n",
       "  <tbody>\n",
       "    <tr>\n",
       "      <th>0</th>\n",
       "      <td>1022864967872047</td>\n",
       "      <td>1</td>\n",
       "      <td>1</td>\n",
       "      <td>3</td>\n",
       "      <td>2</td>\n",
       "      <td>2</td>\n",
       "      <td>1</td>\n",
       "      <td>2</td>\n",
       "      <td>3</td>\n",
       "      <td>3</td>\n",
       "      <td>...</td>\n",
       "      <td>1</td>\n",
       "      <td>1</td>\n",
       "      <td>2</td>\n",
       "      <td>1</td>\n",
       "      <td>1</td>\n",
       "      <td>1</td>\n",
       "      <td>2</td>\n",
       "      <td>2</td>\n",
       "      <td>1</td>\n",
       "      <td>0</td>\n",
       "    </tr>\n",
       "    <tr>\n",
       "      <th>1</th>\n",
       "      <td>1044942355647418</td>\n",
       "      <td>0</td>\n",
       "      <td>1</td>\n",
       "      <td>3</td>\n",
       "      <td>1</td>\n",
       "      <td>1</td>\n",
       "      <td>2</td>\n",
       "      <td>0</td>\n",
       "      <td>3</td>\n",
       "      <td>3</td>\n",
       "      <td>...</td>\n",
       "      <td>2</td>\n",
       "      <td>1</td>\n",
       "      <td>1</td>\n",
       "      <td>2</td>\n",
       "      <td>3</td>\n",
       "      <td>1</td>\n",
       "      <td>1</td>\n",
       "      <td>2</td>\n",
       "      <td>0</td>\n",
       "      <td>3</td>\n",
       "    </tr>\n",
       "    <tr>\n",
       "      <th>2</th>\n",
       "      <td>1105432349559329</td>\n",
       "      <td>1</td>\n",
       "      <td>2</td>\n",
       "      <td>2</td>\n",
       "      <td>3</td>\n",
       "      <td>2</td>\n",
       "      <td>3</td>\n",
       "      <td>2</td>\n",
       "      <td>2</td>\n",
       "      <td>3</td>\n",
       "      <td>...</td>\n",
       "      <td>2</td>\n",
       "      <td>1</td>\n",
       "      <td>1</td>\n",
       "      <td>2</td>\n",
       "      <td>2</td>\n",
       "      <td>2</td>\n",
       "      <td>3</td>\n",
       "      <td>2</td>\n",
       "      <td>3</td>\n",
       "      <td>3</td>\n",
       "    </tr>\n",
       "    <tr>\n",
       "      <th>3</th>\n",
       "      <td>1170510339747390</td>\n",
       "      <td>2</td>\n",
       "      <td>3</td>\n",
       "      <td>3</td>\n",
       "      <td>2</td>\n",
       "      <td>1</td>\n",
       "      <td>0</td>\n",
       "      <td>3</td>\n",
       "      <td>2</td>\n",
       "      <td>3</td>\n",
       "      <td>...</td>\n",
       "      <td>2</td>\n",
       "      <td>3</td>\n",
       "      <td>3</td>\n",
       "      <td>3</td>\n",
       "      <td>3</td>\n",
       "      <td>2</td>\n",
       "      <td>2</td>\n",
       "      <td>3</td>\n",
       "      <td>3</td>\n",
       "      <td>2</td>\n",
       "    </tr>\n",
       "    <tr>\n",
       "      <th>4</th>\n",
       "      <td>1211223432346372</td>\n",
       "      <td>1</td>\n",
       "      <td>1</td>\n",
       "      <td>3</td>\n",
       "      <td>2</td>\n",
       "      <td>3</td>\n",
       "      <td>2</td>\n",
       "      <td>3</td>\n",
       "      <td>3</td>\n",
       "      <td>3</td>\n",
       "      <td>...</td>\n",
       "      <td>2</td>\n",
       "      <td>3</td>\n",
       "      <td>2</td>\n",
       "      <td>2</td>\n",
       "      <td>2</td>\n",
       "      <td>3</td>\n",
       "      <td>3</td>\n",
       "      <td>2</td>\n",
       "      <td>3</td>\n",
       "      <td>1</td>\n",
       "    </tr>\n",
       "  </tbody>\n",
       "</table>\n",
       "<p>5 rows × 22 columns</p>\n",
       "</div>"
      ]
     },
     "execution_count": 21,
     "metadata": {},
     "output_type": "execute_result"
    }
   ],
   "execution_count": 21
  },
  {
   "metadata": {},
   "cell_type": "code",
   "source": [
    "# Remover a coluna 'id_usuario'\n",
    "df_media_respostas_bdi = df_respostas_bdi.drop(columns=['id_usuario'])\n",
    "\n",
    "# Calcular a média de cada resposta do BDI\n",
    "media_respostas_bdi = df_media_respostas_bdi.mean()\n",
    "\n",
    "# Visualizar as médias\n",
    "print(media_respostas_bdi)\n",
    "\n",
    "# Plotar as médias\n",
    "plt.figure(figsize=(10, 6))\n",
    "media_respostas_bdi.plot(kind='bar')\n",
    "plt.xlabel('Pergunta')\n",
    "plt.ylabel('Média da Resposta')\n",
    "plt.title('Média das Respostas do BDI')\n",
    "plt.show()"
   ],
   "id": "35356fe2fc312c5e",
   "outputs": [],
   "execution_count": null
  },
  {
   "metadata": {},
   "cell_type": "code",
   "source": [
    "df_normal = df_normal.copy()\n",
    "df_normal.drop(\n",
    "    columns=['pessimismo', 'tristeza', 'fracasso', 'prazer', 'culpa', 'punicao', 'estima', 'critica', 'suicida',\n",
    "             'choro', 'agitacao', 'interesse', 'indecisao', 'desvalorizacao', 'energia', 'sono', 'irritabilidade',\n",
    "             'apetite', 'concentracao', 'fadiga', 'int_sexo'], inplace=True)\n",
    "\n",
    "df_alta_ativ = df_alta_ativ.copy()\n",
    "df_alta_ativ.drop(\n",
    "    columns=['pessimismo', 'tristeza', 'fracasso', 'prazer', 'culpa', 'punicao', 'estima', 'critica', 'suicida',\n",
    "             'choro', 'agitacao', 'interesse', 'indecisao', 'desvalorizacao', 'energia', 'sono', 'irritabilidade',\n",
    "             'apetite', 'concentracao', 'fadiga', 'int_sexo'], inplace=True)\n",
    "\n",
    "df_baixa_ativ = df_baixa_ativ.copy()\n",
    "df_baixa_ativ.drop(\n",
    "    columns=['pessimismo', 'tristeza', 'fracasso', 'prazer', 'culpa', 'punicao', 'estima', 'critica', 'suicida',\n",
    "             'choro', 'agitacao', 'interesse', 'indecisao', 'desvalorizacao', 'energia', 'sono', 'irritabilidade',\n",
    "             'apetite', 'concentracao', 'fadiga', 'int_sexo'], inplace=True)"
   ],
   "id": "77db655dd903d1a1",
   "outputs": [],
   "execution_count": null
  },
  {
   "metadata": {},
   "cell_type": "code",
   "source": [
    "# Agrupar as postagens por id_usuario e por período (ex: mês)\n",
    "posts_por_mes = df_2017.groupby(['id_usuario', df_2017['data'].dt.to_period('M')])[\n",
    "    'postCreatedTime'].count().reset_index()\n",
    "\n",
    "# Renomear as colunas para ficar mais claro\n",
    "posts_por_mes.columns = ['id_usuario', 'mes', 'post_count']\n",
    "\n",
    "# Exibir os primeiros resultados\n",
    "print(posts_por_mes.head())"
   ],
   "id": "d59e7b56d2511083",
   "outputs": [],
   "execution_count": null
  },
  {
   "metadata": {},
   "cell_type": "code",
   "source": [
    "# Definir os meses para padronizar a matriz (supondo que seu período é mês)\n",
    "meses_disponiveis = pd.period_range(start='2017-05', end='2017-11', freq='M')\n",
    "\n",
    "# Pivotar os dados para criar uma matriz de séries temporais\n",
    "# Cada linha é um usuário e cada coluna é o número de postagens em um mês específico\n",
    "serie_temporal_matriz = posts_por_mes.pivot_table(index='id_usuario', columns='mes', values='post_count', fill_value=0)\n",
    "\n",
    "# Garantir que todas as colunas (meses) estão presentes\n",
    "serie_temporal_matriz = serie_temporal_matriz.reindex(columns=meses_disponiveis, fill_value=0)\n",
    "\n",
    "# Exibir as primeiras linhas da matriz de séries temporais\n",
    "serie_temporal_matriz.to_csv('serie_temporal_matriz.csv')\n",
    "serie_temporal_matriz.head()"
   ],
   "id": "fd7beb950cc63387",
   "outputs": [],
   "execution_count": null
  },
  {
   "metadata": {},
   "cell_type": "code",
   "source": [
    "# Definir o número de clusters\n",
    "num_clusters = 3\n",
    "\n",
    "# Inicializar o StandardScaler\n",
    "scaler = StandardScaler()\n",
    "\n",
    "# Ajustar e transformar os dados para escalar as contagens de postagens\n",
    "serie_temporal_matriz_scaled = scaler.fit_transform(serie_temporal_matriz)\n",
    "\n",
    "# Treinar o K-Means com os dados escalados\n",
    "kmeans = KMeans(n_clusters=num_clusters, random_state=0)\n",
    "kmeans.fit(serie_temporal_matriz_scaled)\n",
    "\n",
    "# Adicionar o rótulo do cluster ao dataframe original (antes da escala, para manter as contagens reais)\n",
    "serie_temporal_matriz['cluster'] = kmeans.labels_\n",
    "\n",
    "# Exibir quantos usuários estão em cada cluster\n",
    "print(serie_temporal_matriz['cluster'].value_counts())\n",
    "\n",
    "# Visualizar os centroides dos clusters (os padrões médios de cada grupo)\n",
    "centroides = kmeans.cluster_centers_\n",
    "\n",
    "for i in range(num_clusters):\n",
    "    plt.plot(meses_disponiveis.astype(str), centroides[i], label=f'Cluster {i}')\n",
    "\n",
    "plt.xlabel('Mês')\n",
    "plt.ylabel('Número médio de postagens (escalado)')\n",
    "plt.title('Centroides dos clusters de usuários')\n",
    "plt.legend()\n",
    "plt.xticks(rotation=45)\n",
    "plt.tight_layout()\n",
    "plt.show()"
   ],
   "id": "7b5326be1fb5ff2b",
   "outputs": [],
   "execution_count": null
  },
  {
   "metadata": {},
   "cell_type": "code",
   "source": [
    "# Salvar em um dataframe os clusters\n",
    "serie_temporal_matriz.to_csv('serie_temporal_matriz.csv')"
   ],
   "id": "3cd0ac2315e1f590",
   "outputs": [],
   "execution_count": null
  },
  {
   "metadata": {},
   "cell_type": "code",
   "source": "print(f'Inércia do modelo: {kmeans.inertia_}')",
   "id": "821c969df0be443b",
   "outputs": [],
   "execution_count": null
  },
  {
   "metadata": {},
   "cell_type": "code",
   "source": [
    "# Avaliar a qualidade dos clusters com o coeficiente de silhueta\n",
    "silhouette_avg = silhouette_score(serie_temporal_matriz.drop('cluster', axis=1), kmeans.labels_)\n",
    "print(f'Silhouette Score médio: {silhouette_avg}')"
   ],
   "id": "866c0514d6404649",
   "outputs": [],
   "execution_count": null
  },
  {
   "metadata": {},
   "cell_type": "code",
   "source": [
    "# Calcula as distâncias intracluster (distâncias entre pontos e seus centróides)\n",
    "distancias_intracluster = cdist(serie_temporal_matriz.drop('cluster', axis=1), kmeans.cluster_centers_[kmeans.labels_],\n",
    "                                'euclidean')\n",
    "media_intracluster = distancias_intracluster.mean()\n",
    "\n",
    "# Calcula as distâncias intercluster (distâncias entre os centróides dos clusters)\n",
    "distancias_intercluster = cdist(kmeans.cluster_centers_, kmeans.cluster_centers_, 'euclidean')\n",
    "media_intercluster = distancias_intercluster[np.triu_indices_from(distancias_intercluster, 1)].mean()\n",
    "\n",
    "print(f'Média das distâncias intracluster: {media_intracluster}')\n",
    "print(f'Média das distâncias intercluster: {media_intercluster}')"
   ],
   "id": "b1c7e2810c2a669f",
   "outputs": [],
   "execution_count": null
  },
  {
   "metadata": {},
   "cell_type": "code",
   "source": [
    "inercia = []\n",
    "K = range(1, 11)  # Avaliando de 1 a 10 clusters\n",
    "for k in K:\n",
    "    kmeans = KMeans(n_clusters=k, random_state=0).fit(serie_temporal_matriz.drop('cluster', axis=1))\n",
    "    inercia.append(kmeans.inertia_)\n",
    "\n",
    "# Plotar a inércia para diferentes números de clusters\n",
    "plt.plot(K, inercia, 'bx-')\n",
    "plt.xlabel('Número de Clusters')\n",
    "plt.ylabel('Inércia')\n",
    "plt.title('Método do Cotovelo')\n",
    "plt.show()"
   ],
   "id": "61b62c896b434123",
   "outputs": [],
   "execution_count": null
  },
  {
   "metadata": {},
   "cell_type": "code",
   "source": [
    "# Pegar as tendencias de cada cluster\n",
    "df_clusters = serie_temporal_matriz.reset_index()[['id_usuario', 'cluster']]\n",
    "df_normal_clusterizado = pd.merge(df_normal, df_clusters, on='id_usuario', how='left')\n",
    "\n",
    "# Exibir o dataframe resultante com a nova coluna 'cluster'\n",
    "df_normal_clusterizado.head()"
   ],
   "id": "240dfd8dac6421a",
   "outputs": [],
   "execution_count": null
  },
  {
   "metadata": {},
   "cell_type": "markdown",
   "source": "# Usando o K-Means para Agrupar Usuários por Atividade de Likes",
   "id": "102ba352a6e28cc0"
  },
  {
   "metadata": {},
   "cell_type": "code",
   "source": [
    "# Criar cluster para os dados de likes\n",
    "# Agrupar as postagens por id_usuario e por período\n",
    "likes_por_mes = df_likes_2017.groupby(['id_usuario', df_likes_2017['data'].dt.to_period('M')])[\n",
    "    'likeCreatedTime'].count().reset_index()\n",
    "\n",
    "# Renomear as colunas para ficar mais claro\n",
    "likes_por_mes.columns = ['id_usuario', 'mes', 'like_count']\n",
    "\n",
    "# Exibir os primeiros resultados\n",
    "likes_por_mes.head()"
   ],
   "id": "737d5859de3437d3",
   "outputs": [],
   "execution_count": null
  },
  {
   "metadata": {},
   "cell_type": "code",
   "source": [
    "# Definir os meses para padronizar a matriz (supondo que seu período é mês)\n",
    "meses_disponiveis = pd.period_range(start='2017-05', end='2017-11', freq='M')\n",
    "\n",
    "# Pivotar os dados para criar uma matriz de séries temporais\n",
    "# Cada linha é um usuário e cada coluna é o número de postagens em um mês específico\n",
    "serie_temporal_matriz_likes = likes_por_mes.pivot_table(index='id_usuario', columns='mes', values='like_count',\n",
    "                                                        fill_value=0)\n",
    "\n",
    "# Garantir que todas as colunas (meses) estão presentes\n",
    "serie_temporal_matriz_likes = serie_temporal_matriz_likes.reindex(columns=meses_disponiveis, fill_value=0)\n",
    "\n",
    "# Exibir as primeiras linhas da matriz de séries temporais\n",
    "serie_temporal_matriz_likes.head()"
   ],
   "id": "2767e78717874ed4",
   "outputs": [],
   "execution_count": null
  },
  {
   "metadata": {},
   "cell_type": "code",
   "source": [
    "# Definir o número de clusters (grupos) que você quer identificar\n",
    "num_clusters = 3\n",
    "\n",
    "# Treinar o K-Means com os dados de séries temporais\n",
    "kmeans = KMeans(n_clusters=num_clusters, random_state=0)\n",
    "kmeans.fit(serie_temporal_matriz_likes)\n",
    "\n",
    "# Adicionar o rótulo do cluster ao dataframe original\n",
    "serie_temporal_matriz_likes['cluster'] = kmeans.labels_\n",
    "\n",
    "# Exibir quantos usuários estão em cada cluster\n",
    "print(serie_temporal_matriz_likes['cluster'].value_counts())\n",
    "\n",
    "# Visualizar os centroides dos clusters (os padrões médios de cada grupo)\n",
    "centroides = kmeans.cluster_centers_\n",
    "\n",
    "for i in range(num_clusters):\n",
    "    plt.plot(meses_disponiveis.astype(str), centroides[i], label=f'Cluster {i}')\n",
    "\n",
    "plt.xlabel('Mês')\n",
    "plt.ylabel('Número médio de likes')\n",
    "plt.title('Centroides dos clusters de usuários')\n",
    "plt.legend()\n",
    "plt.xticks(rotation=45)\n",
    "plt.tight_layout()\n",
    "plt.show()"
   ],
   "id": "b9739933bc451c50",
   "outputs": [],
   "execution_count": null
  },
  {
   "metadata": {},
   "cell_type": "code",
   "source": "print(f'Inércia do modelo: {kmeans.inertia_}')",
   "id": "13511f5d6d96b48d",
   "outputs": [],
   "execution_count": null
  },
  {
   "metadata": {},
   "cell_type": "code",
   "source": [
    "# Avaliar a qualidade dos clusters com o coeficiente de silhueta\n",
    "silhouette_avg = silhouette_score(serie_temporal_matriz_likes.drop('cluster', axis=1), kmeans.labels_)\n",
    "\n",
    "print(f'Silhouette Score médio: {silhouette_avg}')"
   ],
   "id": "8f58dce4201517db",
   "outputs": [],
   "execution_count": null
  },
  {
   "metadata": {},
   "cell_type": "code",
   "source": [
    "# Calcula as distâncias intracluster (distâncias entre pontos e seus centróides)\n",
    "distancias_intracluster = cdist(serie_temporal_matriz_likes.drop('cluster', axis=1),\n",
    "                                kmeans.cluster_centers_[kmeans.labels_], 'euclidean')\n",
    "media_intracluster = distancias_intracluster.mean()\n",
    "\n",
    "# Calcula as distâncias intercluster (distâncias entre os centróides dos clusters)\n",
    "distancias_intercluster = cdist(kmeans.cluster_centers_, kmeans.cluster_centers_, 'euclidean')\n",
    "media_intercluster = distancias_intercluster[np.triu_indices_from(distancias_intercluster, 1)].mean()\n",
    "\n",
    "print(f'Média das distâncias intracluster: {media_intracluster}')\n",
    "print(f'Média das distâncias intercluster: {media_intercluster}')"
   ],
   "id": "de8911c163727994",
   "outputs": [],
   "execution_count": null
  },
  {
   "metadata": {},
   "cell_type": "code",
   "source": [
    "inercia = []\n",
    "K = range(1, 11)  # Avaliando de 1 a 10 clusters\n",
    "for k in K:\n",
    "    kmeans = KMeans(n_clusters=k, random_state=0).fit(serie_temporal_matriz_likes.drop('cluster', axis=1))\n",
    "    inercia.append(kmeans.inertia_)\n",
    "\n",
    "# Plotar a inércia para diferentes números de clusters\n",
    "plt.plot(K, inercia, 'bx-')\n",
    "plt.xlabel('Número de Clusters')\n",
    "plt.ylabel('Inércia')\n",
    "plt.title('Método do Cotovelo')\n",
    "plt.show()"
   ],
   "id": "7bef507326d8f98",
   "outputs": [],
   "execution_count": null
  },
  {
   "metadata": {},
   "cell_type": "code",
   "source": [
    "# Criar um dataframe com os clusters e o id_usuario\n",
    "df_clusters_likes = serie_temporal_matriz_likes.reset_index()[['id_usuario', 'cluster']]\n",
    "\n",
    "# Mesclar o dataframe de clusters com o dataframe original de likes por usuário\n",
    "df_likes_clusterizado = pd.merge(df_likes_2017, df_clusters_likes, on='id_usuario', how='left')\n",
    "\n",
    "# Exibir o dataframe resultante com a nova coluna 'cluster'\n",
    "df_likes_clusterizado.head()"
   ],
   "id": "90901ccb9e1b93e3",
   "outputs": [],
   "execution_count": null
  },
  {
   "metadata": {},
   "cell_type": "code",
   "source": [
    "# Contar o número de usuários em cada cluster\n",
    "contagem_clusters = df_likes_clusterizado['cluster'].value_counts()\n",
    "print(contagem_clusters)"
   ],
   "id": "281cbbeeda335c21",
   "outputs": [],
   "execution_count": null
  },
  {
   "metadata": {},
   "cell_type": "code",
   "source": [
    "# Filtrar os usuários do cluster 0\n",
    "usuarios_cluster_0 = df_likes_clusterizado[df_likes_clusterizado['cluster'] == 0]\n",
    "\n",
    "# Exibir algumas linhas do cluster 0\n",
    "usuarios_cluster_0.head()"
   ],
   "id": "b6eea6987ce4022a",
   "outputs": [],
   "execution_count": null
  },
  {
   "metadata": {},
   "cell_type": "code",
   "source": [
    "# Filtrar os usuários do cluster 1\n",
    "usuarios_cluster_1 = df_likes_clusterizado[df_likes_clusterizado['cluster'] == 1]\n",
    "\n",
    "# Exibir algumas linhas do cluster 0\n",
    "usuarios_cluster_1.head()"
   ],
   "id": "73d01f28f97b73eb",
   "outputs": [],
   "execution_count": null
  }
 ],
 "metadata": {
  "kernelspec": {
   "display_name": "Python 3",
   "language": "python",
   "name": "python3"
  },
  "language_info": {
   "codemirror_mode": {
    "name": "ipython",
    "version": 2
   },
   "file_extension": ".py",
   "mimetype": "text/x-python",
   "name": "python",
   "nbconvert_exporter": "python",
   "pygments_lexer": "ipython2",
   "version": "2.7.6"
  }
 },
 "nbformat": 4,
 "nbformat_minor": 5
}
