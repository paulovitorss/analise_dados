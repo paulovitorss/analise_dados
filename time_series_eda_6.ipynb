{
 "cells": [
  {
   "metadata": {},
   "cell_type": "markdown",
   "source": "# Importando as bibliotecas",
   "id": "2bf9d9363b7b99f2"
  },
  {
   "metadata": {
    "ExecuteTime": {
     "end_time": "2024-10-03T20:03:25.107472Z",
     "start_time": "2024-10-03T20:03:23.971130Z"
    }
   },
   "cell_type": "code",
   "source": [
    "import pandas as pd\n",
    "from db import connection_db as conndb\n",
    "from db import filters\n",
    "from tqdm.auto import tqdm\n",
    "import matplotlib.pyplot as plt\n",
    "import seaborn as sns\n",
    "from sklearn.cluster import KMeans\n",
    "from sklearn.metrics import silhouette_score\n",
    "from scipy.spatial.distance import cdist\n",
    "import numpy as np\n",
    "from statsmodels.tsa.seasonal import seasonal_decompose\n",
    "from pymannkendall import original_test\n",
    "\n",
    "tqdm.pandas()"
   ],
   "id": "4761db26da7a2327",
   "outputs": [],
   "execution_count": 1
  },
  {
   "metadata": {},
   "cell_type": "markdown",
   "source": "# Conectando ao banco de dados do MongoDB",
   "id": "6ae872a7e38ede3b"
  },
  {
   "metadata": {},
   "cell_type": "markdown",
   "source": "Função para conectar ao MongoDB",
   "id": "f622710e46408511"
  },
  {
   "metadata": {},
   "cell_type": "code",
   "source": [
    "def conectar_mongodb(uri, db_name, collection_name):\n",
    "    mongo_connection = conndb.MongoDBConnection(uri=uri, database_name=db_name, collection_name=collection_name)\n",
    "    mongo_connection.connect()\n",
    "    return mongo_connection.collection"
   ],
   "id": "e2d64bb2f75c6432",
   "outputs": [],
   "execution_count": null
  },
  {
   "metadata": {},
   "cell_type": "code",
   "source": [
    "# Definindo os parâmetros de conexão\n",
    "uri = 'mongodb://localhost:27017/'\n",
    "db_name = 'dadosVivamente'\n",
    "collection_name = 'dadosSemFiltros'\n",
    "collection_name_filtered = 'posts7anos1anos'\n",
    "\n",
    "collection = conectar_mongodb(uri, db_name, collection_name)\n",
    "collection_filtrada = conectar_mongodb(uri, db_name, collection_name_filtered)"
   ],
   "id": "42cf3fbf603081f6",
   "outputs": [],
   "execution_count": null
  },
  {
   "metadata": {},
   "cell_type": "markdown",
   "source": "# Aplicando pipeline para preparação dos dados",
   "id": "d76def679f1666f8"
  },
  {
   "metadata": {},
   "cell_type": "markdown",
   "source": "Função para aplicar os pipelines de filtro",
   "id": "eaa4d3f3e9e9386e"
  },
  {
   "metadata": {},
   "cell_type": "code",
   "source": [
    "def aplicar_pipelines(collection, collection_filtrada):\n",
    "    collection_filters = filters.CollectionFilters(collection)\n",
    "    collection_filters_likes = filters.CollectionFilters(collection_filtrada)\n",
    "\n",
    "    # Aplicar pipelines\n",
    "    collection_filters.apply_pipeline1('dadosComFiltrosIniciais')\n",
    "    collection_filters.apply_pipeline2(7, 1, 'posts7anos1anos')\n",
    "    collection_filters.apply_pipeline3('postsComBDIAndInfos')\n",
    "    collection_filters.apply_pipeline4('postsComBDIAndInfosFiltroDataPosts')\n",
    "    collection_filters_likes.apply_pipeline6('likes')\n",
    "\n",
    "    return collection_filters.collection, collection_filters_likes.collection"
   ],
   "id": "dcb472b234e8f0ca",
   "outputs": [],
   "execution_count": null
  },
  {
   "metadata": {},
   "cell_type": "code",
   "source": [
    "# Aplicando os pipelinesc\n",
    "collection, collection_filtrada = aplicar_pipelines(collection, collection_filtrada)"
   ],
   "id": "d126ff84098dd08f",
   "outputs": [],
   "execution_count": null
  },
  {
   "metadata": {},
   "cell_type": "markdown",
   "source": "# Carregando os dados em um dataframe",
   "id": "305580acbd14b801"
  },
  {
   "metadata": {},
   "cell_type": "code",
   "source": [
    "documentos = collection.find()\n",
    "df_original = pd.DataFrame(list(documentos))"
   ],
   "id": "3a9396b40ef87465",
   "outputs": [],
   "execution_count": null
  },
  {
   "metadata": {},
   "cell_type": "code",
   "source": [
    "# Visualizar as primeiras linhas do dataframe\n",
    "df_original.head()"
   ],
   "id": "a6ab0c78ee0f3255",
   "outputs": [],
   "execution_count": null
  },
  {
   "metadata": {},
   "cell_type": "code",
   "source": [
    "documentos_likes = collection_filtrada.find()\n",
    "df_likes = pd.DataFrame(list(documentos_likes))"
   ],
   "id": "25453dc06c6bccef",
   "outputs": [],
   "execution_count": null
  },
  {
   "metadata": {},
   "cell_type": "code",
   "source": [
    "# Visualizar as primeiras linhas do dataframe\n",
    "df_likes.head()"
   ],
   "id": "cf1fadb073731e09",
   "outputs": [],
   "execution_count": null
  },
  {
   "metadata": {},
   "cell_type": "code",
   "source": [
    "# Transformando a coluna sexo em binária\n",
    "df_original['sexo'] = df_original['sexo'].map({'F': 0, 'M': 1})\n",
    "\n",
    "# Removendo colunas desnecessárias\n",
    "df_original.drop(columns=['_id', 'diaDaSemana'], inplace=True)\n",
    "\n",
    "# Lista de colunas que precisam ser convertidas\n",
    "colunas_para_converter = [\n",
    "    'pessimismo', 'tristeza', 'fracasso', 'prazer', 'culpa', 'punicao', 'estima', 'critica', 'suicida', 'choro',\n",
    "    'agitacao', 'interesse', 'indecisao', 'desvalorizacao', 'energia', 'sono', 'irritabilidade', 'apetite',\n",
    "    'concentracao', 'fadiga', 'int_sexo', 'quantAmigos'\n",
    "]\n",
    "\n",
    "\n",
    "# Função para preencher valores nulos e converter o tipo de dado\n",
    "def preencher_e_converter(df, colunas, valor_preenchimento=0, tipo_dados='int64'):\n",
    "    df[colunas] = df[colunas].fillna(valor_preenchimento)\n",
    "    df[colunas] = df[colunas].astype(tipo_dados)\n",
    "    return df"
   ],
   "id": "2c12e0c144eb8205",
   "outputs": [],
   "execution_count": null
  },
  {
   "metadata": {},
   "cell_type": "code",
   "source": [
    "# Aplicando a função\n",
    "df_original = preencher_e_converter(df_original, colunas_para_converter)"
   ],
   "id": "b7ce9b2a5148b524",
   "outputs": [],
   "execution_count": null
  },
  {
   "metadata": {},
   "cell_type": "code",
   "source": [
    "# Função para manipular datas e filtrar posts\n",
    "def manipular_e_filtrar_posts(df):\n",
    "    df['data'] = df['postCreatedTime'].dt.date\n",
    "    df['data'] = pd.to_datetime(df['data'])\n",
    "    df['mes'] = df['data'].dt.to_period('M')\n",
    "    df['semana'] = df['data'].dt.to_period('W')\n",
    "\n",
    "    df_data = df[df['data'].dt.year == 2017]\n",
    "    df_data = df_data[~((df_data['data'].dt.month == 12) & (df_data['data'].dt.year == 2017))]\n",
    "    df_data = df_data[df_data['data'].dt.month >= 5]\n",
    "    df_data = df_data[df_data['suicida'] == 3]\n",
    "\n",
    "    # Remover posts vazios\n",
    "    df_data = df_data.dropna(subset=['postMessage', 'postStory'], how='all')\n",
    "    df_data = df_data[~((df_data['postMessage'].str.strip() == '') & (df_data['postStory'].str.strip() == ''))]\n",
    "\n",
    "    return df_data"
   ],
   "id": "4d6e104995f814e4",
   "outputs": [],
   "execution_count": null
  },
  {
   "metadata": {},
   "cell_type": "code",
   "source": [
    "# Aplicando a função\n",
    "df_posts = manipular_e_filtrar_posts(df_original)\n",
    "df_posts.head()"
   ],
   "id": "2e9d4e42009627b4",
   "outputs": [],
   "execution_count": null
  },
  {
   "metadata": {},
   "cell_type": "markdown",
   "source": "Função para calcular e visualizar a distribuição de postagens por usuário",
   "id": "9a3bed535d822cf7"
  },
  {
   "metadata": {},
   "cell_type": "code",
   "source": [
    "# Função para calcular e visualizar a distribuição de postagens por usuário\n",
    "def calcular_e_visualizar_distribuicao(df, coluna_contagem, label_x, titulo):\n",
    "    post_counts = df.groupby('id_usuario').size().reset_index(name=coluna_contagem)\n",
    "\n",
    "    plt.hist(post_counts[coluna_contagem], bins=50)\n",
    "    plt.xlabel(f'Número de {label_x}')\n",
    "    plt.ylabel('Quantidade de Usuários')\n",
    "    plt.title(titulo)\n",
    "    plt.show()\n",
    "\n",
    "    return post_counts"
   ],
   "id": "3bc7d494e16324b4",
   "outputs": [],
   "execution_count": null
  },
  {
   "metadata": {},
   "cell_type": "code",
   "source": [
    "# Aplicando a função\n",
    "post_counts = calcular_e_visualizar_distribuicao(df_posts, 'post_count', 'Postagens',\n",
    "                                                 'Distribuição de Postagens por Usuário')"
   ],
   "id": "c0b7edfc60104451",
   "outputs": [],
   "execution_count": null
  },
  {
   "metadata": {},
   "cell_type": "markdown",
   "source": "Função para definir os limites e filtrar usuários por atividade",
   "id": "b8b5461c0504db36"
  },
  {
   "metadata": {},
   "cell_type": "code",
   "source": [
    "def filtrar_usuarios_por_atividade(post_counts, coluna_contagem, quantil_superior=0.85, quantil_inferior=0.15):\n",
    "    # Definir os limites superior e inferior com base nos quantis\n",
    "    limite_superior = post_counts[coluna_contagem].quantile(quantil_superior)\n",
    "    limite_inferior = post_counts[coluna_contagem].quantile(quantil_inferior)\n",
    "\n",
    "    # Filtrar usuários com alta e baixa atividade\n",
    "    usuarios_alta_ativ = post_counts[post_counts[coluna_contagem] > limite_superior]['id_usuario']\n",
    "    usuarios_baixa_ativ = post_counts[post_counts[coluna_contagem] < limite_inferior]['id_usuario']\n",
    "\n",
    "    # Exibir o número de usuários filtrados\n",
    "    print(f'Número de usuários com alta atividade: {len(usuarios_alta_ativ)}')\n",
    "    print(f'Número de usuários com baixa atividade: {len(usuarios_baixa_ativ)}')\n",
    "\n",
    "    return usuarios_alta_ativ, usuarios_baixa_ativ"
   ],
   "id": "5c9dde3acf77fa91",
   "outputs": [],
   "execution_count": null
  },
  {
   "metadata": {},
   "cell_type": "code",
   "source": [
    "# Aplicando a função\n",
    "usuarios_alta_ativ, usuarios_baixa_ativ = filtrar_usuarios_por_atividade(post_counts, 'post_count')"
   ],
   "id": "f2bb3a7dc8e36f35",
   "outputs": [],
   "execution_count": null
  },
  {
   "metadata": {},
   "cell_type": "code",
   "source": [
    "df_normal = df_posts[\n",
    "    ~(df_posts['id_usuario'].isin(usuarios_alta_ativ) | df_posts['id_usuario'].isin(usuarios_baixa_ativ))]\n",
    "\n",
    "norm_post_count = df_normal.groupby('id_usuario').size().reset_index(name='post_count')\n",
    "\n",
    "df_alta_ativ = df_posts[df_posts['id_usuario'].isin(usuarios_alta_ativ)]\n",
    "alt_post_count = df_alta_ativ.groupby('id_usuario').size().reset_index(name='post_count')\n",
    "\n",
    "df_baixa_ativ = df_posts[df_posts['id_usuario'].isin(usuarios_baixa_ativ)]\n",
    "baixa_post_count = df_baixa_ativ.groupby('id_usuario').size().reset_index(name='post_count')\n"
   ],
   "id": "9d5808cc50f7ab0f",
   "outputs": [],
   "execution_count": null
  },
  {
   "metadata": {},
   "cell_type": "markdown",
   "source": "Função para plotar a distribuição de postagens por usuário",
   "id": "81c1f20a8ad9c4b5"
  },
  {
   "metadata": {},
   "cell_type": "code",
   "source": [
    "def plotar_distribuicao(df, coluna, label_x, titulo):\n",
    "    plt.hist(df[coluna], bins=50)\n",
    "    plt.xlabel(f'Número de {label_x}')\n",
    "    plt.ylabel('Quantidade de Usuários')\n",
    "    plt.title(titulo)\n",
    "    plt.show()"
   ],
   "id": "6cd6817c581eca54",
   "outputs": [],
   "execution_count": null
  },
  {
   "metadata": {},
   "cell_type": "code",
   "source": [
    "# Aplicando a função        \n",
    "plotar_distribuicao(norm_post_count, 'post_count', 'Postagens', 'Distribuição de Postagens por Usuário (Normal)')\n",
    "plotar_distribuicao(alt_post_count, 'post_count', 'Postagens', 'Distribuição de Postagens por Usuário (Alta Atividade)')\n",
    "plotar_distribuicao(baixa_post_count, 'post_count', 'Postagens',\n",
    "                    'Distribuição de Postagens por Usuário (Baixa Atividade)')"
   ],
   "id": "e86caf109ab99556",
   "outputs": [],
   "execution_count": null
  },
  {
   "metadata": {},
   "cell_type": "code",
   "source": [
    "# Criar um dataframe para conter as colunas que não mudam e o id_usuario\n",
    "df_respostas_bdi = df_normal.groupby(['id_usuario']).agg(\n",
    "    pessimismo=('pessimismo', 'first'),\n",
    "    tristeza=('tristeza', 'first'),\n",
    "    fracasso=('fracasso', 'first'),\n",
    "    prazer=('prazer', 'first'),\n",
    "    culpa=('culpa', 'first'),\n",
    "    punicao=('punicao', 'first'),\n",
    "    estima=('estima', 'first'),\n",
    "    critica=('critica', 'first'),\n",
    "    suicida=('suicida', 'first'),\n",
    "    choro=('choro', 'first'),\n",
    "    agitacao=('agitacao', 'first'),\n",
    "    interesse=('interesse', 'first'),\n",
    "    indecisao=('indecisao', 'first'),\n",
    "    desvalorizacao=('desvalorizacao', 'first'),\n",
    "    energia=('energia', 'first'),\n",
    "    sono=('sono', 'first'),\n",
    "    irritabilidade=('irritabilidade', 'first'),\n",
    "    apetite=('apetite', 'first'),\n",
    "    concentracao=('concentracao', 'first'),\n",
    "    fadiga=('fadiga', 'first'),\n",
    "    int_sexo=('int_sexo', 'first'),\n",
    ").reset_index()\n",
    "\n",
    "df_respostas_bdi.to_csv('df_respostas_bdi.csv', index=False)\n",
    "\n",
    "# Visualizar as primeiras linhas do dataframe\n",
    "df_respostas_bdi.head()"
   ],
   "id": "65b4474629cb670d",
   "outputs": [],
   "execution_count": null
  },
  {
   "metadata": {},
   "cell_type": "code",
   "source": [
    "# Remover a coluna 'id_usuario'\n",
    "df_media_respostas_bdi = df_respostas_bdi.drop(columns=['id_usuario'])\n",
    "\n",
    "# Calcular a média de cada resposta do BDI\n",
    "media_respostas_bdi = df_media_respostas_bdi.mean()\n",
    "\n",
    "# Visualizar as médias\n",
    "print(media_respostas_bdi)\n",
    "\n",
    "# Plotar as médias\n",
    "plt.figure(figsize=(10, 6))\n",
    "media_respostas_bdi.plot(kind='bar')\n",
    "plt.xlabel('Pergunta')\n",
    "plt.ylabel('Média da Resposta')\n",
    "plt.title('Média das Respostas do BDI')\n",
    "plt.show()"
   ],
   "id": "ae96e7836d21488f",
   "outputs": [],
   "execution_count": null
  },
  {
   "metadata": {},
   "cell_type": "code",
   "source": [
    "df_normal = df_normal.copy()\n",
    "df_normal.drop(\n",
    "    columns=['pessimismo', 'tristeza', 'fracasso', 'prazer', 'culpa', 'punicao', 'estima', 'critica', 'suicida',\n",
    "             'choro', 'agitacao', 'interesse', 'indecisao', 'desvalorizacao', 'energia', 'sono', 'irritabilidade',\n",
    "             'apetite', 'concentracao', 'fadiga', 'int_sexo'], inplace=True)\n",
    "\n",
    "df_alta_ativ = df_alta_ativ.copy()\n",
    "df_alta_ativ.drop(\n",
    "    columns=['pessimismo', 'tristeza', 'fracasso', 'prazer', 'culpa', 'punicao', 'estima', 'critica', 'suicida',\n",
    "             'choro', 'agitacao', 'interesse', 'indecisao', 'desvalorizacao', 'energia', 'sono', 'irritabilidade',\n",
    "             'apetite', 'concentracao', 'fadiga', 'int_sexo'], inplace=True)\n",
    "\n",
    "df_baixa_ativ = df_baixa_ativ.copy()\n",
    "df_baixa_ativ.drop(\n",
    "    columns=['pessimismo', 'tristeza', 'fracasso', 'prazer', 'culpa', 'punicao', 'estima', 'critica', 'suicida',\n",
    "             'choro', 'agitacao', 'interesse', 'indecisao', 'desvalorizacao', 'energia', 'sono', 'irritabilidade',\n",
    "             'apetite', 'concentracao', 'fadiga', 'int_sexo'], inplace=True)"
   ],
   "id": "a1f2076c354a07f3",
   "outputs": [],
   "execution_count": null
  },
  {
   "metadata": {},
   "cell_type": "code",
   "source": [
    "# Calcular a contagem de postagens por usuário\n",
    "post_counts_normal = df_normal.groupby('id_usuario').size().reset_index(name='post_count')\n",
    "\n",
    "# Visualizar a distribuição\n",
    "plotar_distribuicao(post_counts_normal, 'post_count', 'Postagens', 'Distribuição de Postagens por Usuário')"
   ],
   "id": "1cb335cb9d8aa81d",
   "outputs": [],
   "execution_count": null
  },
  {
   "metadata": {},
   "cell_type": "markdown",
   "source": "Função para aplicar clustering K-Means",
   "id": "d6ea91fce46cdaa"
  },
  {
   "metadata": {},
   "cell_type": "code",
   "source": [
    "def aplicar_kmeans(df, coluna_contagem, n_clusters=3, label_x='Postagens'):\n",
    "    kmeans = KMeans(n_clusters=n_clusters, random_state=0)\n",
    "    df['cluster'] = kmeans.fit_predict(df[[coluna_contagem]])\n",
    "\n",
    "    sns.histplot(data=df, x=coluna_contagem, hue='cluster', bins=30, kde=True)\n",
    "    plt.xlabel(f'Número de {label_x}')\n",
    "    plt.ylabel('Frequência')\n",
    "    plt.title(f'Distribuição dos Clusters de {label_x} por Usuário')\n",
    "    plt.show()\n",
    "\n",
    "    return kmeans, df"
   ],
   "id": "aa9e940a75a4fc94",
   "outputs": [],
   "execution_count": null
  },
  {
   "metadata": {},
   "cell_type": "code",
   "source": [
    "# Aplicando a função\n",
    "kmeans, post_counts_normal = aplicar_kmeans(post_counts_normal, 'post_count', 3)"
   ],
   "id": "20c8724c43769bfd",
   "outputs": [],
   "execution_count": null
  },
  {
   "metadata": {},
   "cell_type": "markdown",
   "source": "Função para calcular o Silhouette Score e a inércia",
   "id": "fbdd5a77825edb2d"
  },
  {
   "metadata": {},
   "cell_type": "code",
   "source": "post_counts_normal.head()",
   "id": "914e93156ec284f9",
   "outputs": [],
   "execution_count": null
  },
  {
   "metadata": {},
   "cell_type": "code",
   "source": [
    "def calcular_silhouette_e_inercia(df, kmeans, coluna_contagem):\n",
    "    silhouette_avg = silhouette_score(df[[coluna_contagem]], kmeans.labels_)\n",
    "    inercia = kmeans.inertia_\n",
    "\n",
    "    print(f'Silhouette Score médio: {silhouette_avg}')\n",
    "    print(f'Inércia do modelo: {inercia}')"
   ],
   "id": "e1ac7d7055f58e9a",
   "outputs": [],
   "execution_count": null
  },
  {
   "metadata": {},
   "cell_type": "code",
   "source": [
    "# Aplicando a função\n",
    "calcular_silhouette_e_inercia(post_counts_normal, kmeans, 'post_count')"
   ],
   "id": "f77dfdd8ef79704a",
   "outputs": [],
   "execution_count": null
  },
  {
   "metadata": {},
   "cell_type": "markdown",
   "source": "Função para calcular a inércia para diferentes números de clusters (Método do Cotovelo)",
   "id": "a78b730497d30599"
  },
  {
   "metadata": {},
   "cell_type": "code",
   "source": [
    "def calcular_inercia(df, coluna_contagem, max_clusters=10):\n",
    "    inercia = []\n",
    "    K = range(1, max_clusters + 1)\n",
    "    for k in K:\n",
    "        kmeans = KMeans(n_clusters=k, random_state=0)\n",
    "        kmeans.fit(df[[coluna_contagem]])\n",
    "        inercia.append(kmeans.inertia_)\n",
    "\n",
    "    plt.plot(K, inercia, 'bx-')\n",
    "    plt.xlabel('Número de Clusters')\n",
    "    plt.ylabel('Inércia')\n",
    "    plt.title('Método do Cotovelo para escolher o número ótimo de clusters')\n",
    "    plt.show()"
   ],
   "id": "6558d30618ff8784",
   "outputs": [],
   "execution_count": null
  },
  {
   "metadata": {},
   "cell_type": "code",
   "source": [
    "# Aplicando a função\n",
    "calcular_inercia(post_counts_normal, 'post_count')"
   ],
   "id": "b070af2848181be6",
   "outputs": [],
   "execution_count": null
  },
  {
   "metadata": {},
   "cell_type": "markdown",
   "source": "Função para calcular as distâncias intra e intercluster",
   "id": "bde3c7fc7ebce10f"
  },
  {
   "metadata": {},
   "cell_type": "code",
   "source": [
    "def calcular_distancias_cluster(df, kmeans, coluna_contagem):\n",
    "    distancias_intracluster = cdist(df[[coluna_contagem]], kmeans.cluster_centers_[kmeans.labels_], 'euclidean')\n",
    "    media_intracluster = distancias_intracluster.mean()\n",
    "\n",
    "    distancias_intercluster = cdist(kmeans.cluster_centers_, kmeans.cluster_centers_, 'euclidean')\n",
    "    media_intercluster = distancias_intercluster[np.triu_indices_from(distancias_intercluster, 1)].mean()\n",
    "\n",
    "    print(f'Média das distâncias intracluster: {media_intracluster}')\n",
    "    print(f'Média das distâncias intercluster: {media_intercluster}')"
   ],
   "id": "d79b7de0fb14ecbe",
   "outputs": [],
   "execution_count": null
  },
  {
   "metadata": {},
   "cell_type": "code",
   "source": [
    "# Aplicando a função\n",
    "calcular_distancias_cluster(post_counts_normal, kmeans, 'post_count')"
   ],
   "id": "7984142e6eb204ee",
   "outputs": [],
   "execution_count": null
  },
  {
   "metadata": {},
   "cell_type": "markdown",
   "source": "# Usuarios com alta atividade de postagem",
   "id": "21e6c2aa88e1750d"
  },
  {
   "metadata": {},
   "cell_type": "code",
   "source": [
    "# Calcular a contagem de postagens por usuário\n",
    "post_counts_alta = df_alta_ativ.groupby('id_usuario').size().reset_index(name='post_count')\n",
    "\n",
    "# Visualizar a distribuição\n",
    "plotar_distribuicao(post_counts_alta, 'post_count', 'Postagens', 'Distribuição de Postagens por Usuário')"
   ],
   "id": "a538058d2e6e6276",
   "outputs": [],
   "execution_count": null
  },
  {
   "metadata": {},
   "cell_type": "code",
   "source": [
    "# Aplicando a função\n",
    "kmeans, post_counts_alta = aplicar_kmeans(post_counts_alta, 'post_count', 4)"
   ],
   "id": "ba3bfcb86789541d",
   "outputs": [],
   "execution_count": null
  },
  {
   "metadata": {},
   "cell_type": "code",
   "source": [
    "# Aplicando a função\n",
    "calcular_silhouette_e_inercia(post_counts_alta, kmeans, 'post_count')"
   ],
   "id": "6fa5206844d9d5ea",
   "outputs": [],
   "execution_count": null
  },
  {
   "metadata": {},
   "cell_type": "code",
   "source": [
    "# Aplicando a função\n",
    "calcular_inercia(post_counts_alta, 'post_count')"
   ],
   "id": "4439d8869151a308",
   "outputs": [],
   "execution_count": null
  },
  {
   "metadata": {},
   "cell_type": "code",
   "source": [
    "# Aplicando a função\n",
    "calcular_distancias_cluster(post_counts_alta, kmeans, 'post_count')"
   ],
   "id": "181f8a6146870b63",
   "outputs": [],
   "execution_count": null
  },
  {
   "metadata": {},
   "cell_type": "markdown",
   "source": "# Clusterizando DF Likes",
   "id": "c27fa3fa1e3c176c"
  },
  {
   "metadata": {},
   "cell_type": "code",
   "source": [
    "# Adicinando colunas no df_likes\n",
    "df_likes['data'] = df_likes['likeCreatedTime'].dt.date\n",
    "df_likes['data'] = pd.to_datetime(df_likes['data'])\n",
    "df_likes['mes'] = df_likes['data'].dt.to_period('M')\n",
    "df_likes['semana'] = df_likes['data'].dt.to_period('W')\n",
    "\n",
    "df_likes_2017 = df_likes[df_likes['data'].dt.year == 2017]\n",
    "df_likes_2017 = df_likes_2017[~((df_likes_2017['data'].dt.month == 12) & (df_likes_2017['data'].dt.year == 2017))]\n",
    "df_likes_2017 = df_likes_2017[df_likes_2017['data'].dt.month >= 5]\n",
    "df_likes_2017 = df_likes_2017\n",
    "\n",
    "# Filtrar pelos likes dos id_usuarios que estão no df_posts\n",
    "df_likes_2017 = df_likes_2017[df_likes_2017['id_usuario'].isin(df_posts['id_usuario'])]\n",
    "df_likes_2017_normal = df_likes_2017[df_likes_2017['id_usuario'].isin(df_normal['id_usuario'])]\n",
    "df_likes_2017_alta_ativ = df_likes_2017[df_likes_2017['id_usuario'].isin(df_alta_ativ['id_usuario'])]"
   ],
   "id": "b5447b8731169373",
   "outputs": [],
   "execution_count": null
  },
  {
   "metadata": {},
   "cell_type": "code",
   "source": [
    "# Calcular a contagem de postagens por usuário\n",
    "likes_counts = df_likes_2017.groupby('id_usuario').size().reset_index(name='like_count')\n",
    "\n",
    "# Visualizar a distribuição\n",
    "plotar_distribuicao(likes_counts, 'like_count', 'Likes', 'Distribuição de Likes por Usuário')"
   ],
   "id": "b9b087fe6172ca53",
   "outputs": [],
   "execution_count": null
  },
  {
   "metadata": {},
   "cell_type": "code",
   "source": [
    "df_likes_2017.to_csv('df_likes_2017.csv', index=False)\n",
    "df_likes_2017.head()"
   ],
   "id": "256b78de749838f3",
   "outputs": [],
   "execution_count": null
  },
  {
   "metadata": {},
   "cell_type": "code",
   "source": [
    "norm_post_count_like = df_likes_2017_normal.groupby('id_usuario').size().reset_index(name='like_count')\n",
    "alt_post_count_like = df_likes_2017_alta_ativ.groupby('id_usuario').size().reset_index(name='like_count')"
   ],
   "id": "f51eb2fcca43bce",
   "outputs": [],
   "execution_count": null
  },
  {
   "metadata": {},
   "cell_type": "code",
   "source": [
    "plotar_distribuicao(norm_post_count_like, 'like_count', 'Likes', 'Distribuição de Likes por Usuário (Normal)')\n",
    "plotar_distribuicao(alt_post_count_like, 'like_count', 'Likes', 'Distribuição de Likes por Usuário (Alta Atividade)')"
   ],
   "id": "7eaeb7e49d767cec",
   "outputs": [],
   "execution_count": null
  },
  {
   "metadata": {},
   "cell_type": "markdown",
   "source": "# Usando o K-Means para agrupar likes",
   "id": "102ba352a6e28cc0"
  },
  {
   "metadata": {},
   "cell_type": "code",
   "source": [
    "# Criar cluster para os dados de likes\n",
    "like_counts_normal = df_likes_2017_normal.groupby('id_usuario').size().reset_index(name='like_count')\n",
    "\n",
    "# Visualizar a distribuição\n",
    "plotar_distribuicao(like_counts_normal, 'like_count', 'Likes', 'Distribuição de Likes por Usuário')"
   ],
   "id": "737d5859de3437d3",
   "outputs": [],
   "execution_count": null
  },
  {
   "metadata": {},
   "cell_type": "code",
   "source": [
    "# Aplicando a função\n",
    "kmeans, like_counts_normal = aplicar_kmeans(like_counts_normal, 'like_count', 3)"
   ],
   "id": "af870ea0a08b6634",
   "outputs": [],
   "execution_count": null
  },
  {
   "metadata": {},
   "cell_type": "code",
   "source": [
    "# Aplicando a função\n",
    "calcular_silhouette_e_inercia(like_counts_normal, kmeans, 'like_count')"
   ],
   "id": "ca435c7f81eeec7d",
   "outputs": [],
   "execution_count": null
  },
  {
   "metadata": {},
   "cell_type": "code",
   "source": [
    "# Aplicando a função\n",
    "calcular_inercia(like_counts_normal, 'like_count')"
   ],
   "id": "e35ed6f55b3056c",
   "outputs": [],
   "execution_count": null
  },
  {
   "metadata": {},
   "cell_type": "code",
   "source": [
    "# Aplicando a função\n",
    "calcular_distancias_cluster(like_counts_normal, kmeans, 'like_count')"
   ],
   "id": "49fd80a0af5341d8",
   "outputs": [],
   "execution_count": null
  },
  {
   "metadata": {},
   "cell_type": "markdown",
   "source": "# Usuarios com alta atividade",
   "id": "5ce29074cd4f9d76"
  },
  {
   "metadata": {},
   "cell_type": "code",
   "source": [
    "# Criar cluster para os dados de likes\n",
    "like_counts_alta = df_likes_2017_alta_ativ.groupby('id_usuario').size().reset_index(name='like_count')\n",
    "\n",
    "# Visualizar a distribuição\n",
    "plotar_distribuicao(like_counts_alta, 'like_count', 'Likes', 'Distribuição de Likes por Usuário')"
   ],
   "id": "60d9958b5745fc5",
   "outputs": [],
   "execution_count": null
  },
  {
   "metadata": {},
   "cell_type": "code",
   "source": [
    "# Aplicando a função\n",
    "kmeans, like_counts_alta = aplicar_kmeans(like_counts_alta, 'like_count', 3)"
   ],
   "id": "6985a3494123c23b",
   "outputs": [],
   "execution_count": null
  },
  {
   "metadata": {},
   "cell_type": "code",
   "source": [
    "# Aplicando a função\n",
    "calcular_silhouette_e_inercia(like_counts_alta, kmeans, 'like_count')"
   ],
   "id": "8a7cb3e2c31f3b69",
   "outputs": [],
   "execution_count": null
  },
  {
   "metadata": {},
   "cell_type": "code",
   "source": [
    "# Aplicando a função\n",
    "calcular_inercia(like_counts_alta, 'like_count')"
   ],
   "id": "b6a246d01c35a206",
   "outputs": [],
   "execution_count": null
  },
  {
   "metadata": {},
   "cell_type": "code",
   "source": [
    "# Aplicando a função\n",
    "calcular_distancias_cluster(like_counts_alta, kmeans, 'like_count')"
   ],
   "id": "a34b02c9fba877bd",
   "outputs": [],
   "execution_count": null
  },
  {
   "metadata": {},
   "cell_type": "markdown",
   "source": "# Analisar a Serie Temporal dos Cluster de Posts    ",
   "id": "5980c4daea089752"
  },
  {
   "metadata": {},
   "cell_type": "code",
   "source": [
    "def decompor_e_teste_mk(df_cluster, periodo, tipo_serie='posts'):\n",
    "    resultados_mk = []\n",
    "\n",
    "    for usuario in df_cluster['id_usuario'].unique():\n",
    "        df_usuario = df_cluster[df_cluster['id_usuario'] == usuario]\n",
    "\n",
    "        eventos_por_dia = df_usuario.groupby('data').size()\n",
    "\n",
    "        if len(eventos_por_dia) >= 2 * periodo:\n",
    "            try:\n",
    "                resultado = seasonal_decompose(eventos_por_dia, model='additive', period=periodo)\n",
    "\n",
    "                tendencia = resultado.trend.dropna()\n",
    "\n",
    "                result = original_test(tendencia)\n",
    "\n",
    "                resultados_mk.append({\n",
    "                    'id_usuario': usuario,\n",
    "                    'trend': result.trend,\n",
    "                    'h': result.h,\n",
    "                    'p-valor': result.p,\n",
    "                    'z': result.z,\n",
    "                    'Tau': result.Tau,\n",
    "                    's': result.s,\n",
    "                    'var_s': result.var_s,\n",
    "                    'slope': result.slope,\n",
    "                    'intercept': result.intercept\n",
    "                })\n",
    "\n",
    "            except ValueError as e:\n",
    "                print(f\"Erro ao decompor a série para o usuário {usuario}: {e}\")\n",
    "        else:\n",
    "            print(\n",
    "                f\"Usuário {usuario} não tem observações suficientes para decomposição. Necessário: {2 * periodo}, disponível: {len(eventos_por_dia)}\")\n",
    "\n",
    "    df_resultados_mk = pd.DataFrame(resultados_mk)\n",
    "\n",
    "    contagem_tendencias = df_resultados_mk['trend'].value_counts()\n",
    "    print(contagem_tendencias)\n",
    "\n",
    "    total_usuarios = df_resultados_mk.shape[0]\n",
    "    percentuais = (contagem_tendencias / total_usuarios) * 100\n",
    "    print(percentuais)\n",
    "\n",
    "    # Gráfico de barras das tendências\n",
    "    plt.figure(figsize=(8, 6))\n",
    "    sns.countplot(data=df_resultados_mk, x='trend', order=['increasing', 'decreasing', 'no trend'])\n",
    "    plt.title(f'Distribuição de Tendências entre Usuários ({tipo_serie.capitalize()})')\n",
    "    plt.xlabel('Tipo de Tendência')\n",
    "    plt.ylabel('Número de Usuários')\n",
    "    plt.show()\n",
    "\n",
    "    # Gráfico de distribuição dos slopes\n",
    "    plt.figure(figsize=(10, 6))\n",
    "    sns.histplot(df_resultados_mk['slope'], bins=20, kde=True)\n",
    "    plt.title(f'Distribuição dos Slopes entre Usuários ({tipo_serie.capitalize()})')\n",
    "    plt.xlabel('Slope')\n",
    "    plt.ylabel('Frequência')\n",
    "    plt.show()\n",
    "\n",
    "    return df_resultados_mk"
   ],
   "id": "e54fcd1660c9d5d6",
   "outputs": [],
   "execution_count": null
  },
  {
   "metadata": {},
   "cell_type": "code",
   "source": [
    "# Criar um DataFrame para cada cluster de postagens\n",
    "df_normal_cluster0 = df_normal[\n",
    "    df_normal['id_usuario'].isin(post_counts_normal[post_counts_normal['cluster'] == 0]['id_usuario'])]\n",
    "\n",
    "df_normal_cluster1 = df_normal[\n",
    "    df_normal['id_usuario'].isin(post_counts_normal[post_counts_normal['cluster'] == 1]['id_usuario'])]\n",
    "\n",
    "df_normal_cluster2 = df_normal[\n",
    "    df_normal['id_usuario'].isin(post_counts_normal[post_counts_normal['cluster'] == 2]['id_usuario'])]"
   ],
   "id": "af438e89808f1861",
   "outputs": [],
   "execution_count": null
  },
  {
   "metadata": {},
   "cell_type": "code",
   "source": [
    "# Criar um DataFrame para cada cluster de postagens\n",
    "df_alta_ativ_cluster0 = df_alta_ativ[\n",
    "    df_alta_ativ['id_usuario'].isin(post_counts_alta[post_counts_alta['cluster'] == 0]['id_usuario'])]\n",
    "\n",
    "df_alta_ativ_cluster1 = df_alta_ativ[\n",
    "    df_alta_ativ['id_usuario'].isin(post_counts_alta[post_counts_alta['cluster'] == 1]['id_usuario'])]\n",
    "\n",
    "df_alta_ativ_cluster2 = df_alta_ativ[\n",
    "    df_alta_ativ['id_usuario'].isin(post_counts_alta[post_counts_alta['cluster'] == 2]['id_usuario'])]\n",
    "\n",
    "df_alta_ativ_cluster3 = df_alta_ativ[\n",
    "    df_alta_ativ['id_usuario'].isin(post_counts_alta[post_counts_alta['cluster'] == 3]['id_usuario'])]"
   ],
   "id": "661e9206665d970e",
   "outputs": [],
   "execution_count": null
  },
  {
   "metadata": {},
   "cell_type": "code",
   "source": [
    "# Aplicando a função\n",
    "resultados_mk_normal_cluster0 = decompor_e_teste_mk(df_normal_cluster0, 30)"
   ],
   "id": "1162a598134f9edd",
   "outputs": [],
   "execution_count": null
  },
  {
   "metadata": {},
   "cell_type": "code",
   "source": [
    "# Aplicando a função\n",
    "resultados_mk_normal_cluster1 = decompor_e_teste_mk(df_normal_cluster1, 30)"
   ],
   "id": "9b1af39c4fc480d3",
   "outputs": [],
   "execution_count": null
  },
  {
   "metadata": {},
   "cell_type": "code",
   "source": [
    "# Aplicando a função\n",
    "resultados_mk_normal_cluster2 = decompor_e_teste_mk(df_normal_cluster2, 30)"
   ],
   "id": "40c6a20642c46844",
   "outputs": [],
   "execution_count": null
  },
  {
   "metadata": {},
   "cell_type": "markdown",
   "source": "# Analisando a Tendência dos Clusters de usuários com alta atividade",
   "id": "c89fe702abb5125d"
  },
  {
   "metadata": {},
   "cell_type": "code",
   "source": "resultados_mk_alta_ativ_cluster0 = decompor_e_teste_mk(df_alta_ativ_cluster0, 30)",
   "id": "8d7d8d3c85ae0e6d",
   "outputs": [],
   "execution_count": null
  },
  {
   "metadata": {},
   "cell_type": "code",
   "source": "resultados_mk_alta_ativ_cluster1 = decompor_e_teste_mk(df_alta_ativ_cluster1, 30)",
   "id": "4613b5b6716b298d",
   "outputs": [],
   "execution_count": null
  },
  {
   "metadata": {},
   "cell_type": "code",
   "source": "resultados_mk_alta_ativ_cluster2 = decompor_e_teste_mk(df_alta_ativ_cluster2, 30)",
   "id": "422508568e9c7251",
   "outputs": [],
   "execution_count": null
  },
  {
   "metadata": {},
   "cell_type": "code",
   "source": "resultados_mk_alta_ativ_cluster3 = decompor_e_teste_mk(df_alta_ativ_cluster3, 30)",
   "id": "39534ea5e23a9a05",
   "outputs": [],
   "execution_count": null
  }
 ],
 "metadata": {
  "kernelspec": {
   "display_name": "Python 3",
   "language": "python",
   "name": "python3"
  },
  "language_info": {
   "codemirror_mode": {
    "name": "ipython",
    "version": 2
   },
   "file_extension": ".py",
   "mimetype": "text/x-python",
   "name": "python",
   "nbconvert_exporter": "python",
   "pygments_lexer": "ipython2",
   "version": "2.7.6"
  }
 },
 "nbformat": 4,
 "nbformat_minor": 5
}
