{
 "cells": [
  {
   "metadata": {},
   "cell_type": "markdown",
   "source": "# Importando as bibliotecas",
   "id": "2bf9d9363b7b99f2"
  },
  {
   "metadata": {},
   "cell_type": "code",
   "source": [
    "import matplotlib.pyplot as plt\n",
    "import numpy as np\n",
    "import pandas as pd\n",
    "import seaborn as sns\n",
    "from pymannkendall import original_test\n",
    "from scipy.spatial.distance import cdist\n",
    "from sklearn.cluster import KMeans\n",
    "from sklearn.metrics import silhouette_score\n",
    "from statsmodels.tsa.seasonal import seasonal_decompose\n",
    "from tqdm.auto import tqdm\n",
    "\n",
    "from db import connection_db as conndb\n",
    "from db import filters\n",
    "from utils.estracao_interacao import ExtracaoInteracao\n",
    "\n",
    "tqdm.pandas()"
   ],
   "id": "4761db26da7a2327",
   "outputs": [],
   "execution_count": null
  },
  {
   "metadata": {},
   "cell_type": "markdown",
   "source": "# Conectando ao banco de dados do MongoDB",
   "id": "6ae872a7e38ede3b"
  },
  {
   "metadata": {},
   "cell_type": "markdown",
   "source": "Função para conectar ao MongoDB",
   "id": "f622710e46408511"
  },
  {
   "metadata": {},
   "cell_type": "code",
   "source": [
    "def conectar_mongodb(uri, db_name, collection_name):\n",
    "    mongo_connection = conndb.MongoDBConnection(uri=uri, database_name=db_name, collection_name=collection_name)\n",
    "    mongo_connection.connect()\n",
    "    return mongo_connection.collection"
   ],
   "id": "e2d64bb2f75c6432",
   "outputs": [],
   "execution_count": null
  },
  {
   "metadata": {},
   "cell_type": "code",
   "source": [
    "# Definindo os parâmetros de conexão\n",
    "uri = 'mongodb://localhost:27017/'\n",
    "db_name = 'dadosVivamente'\n",
    "collection_name = 'dadosSemFiltros'\n",
    "collection_name_filtered = 'posts7anos1anos'\n",
    "\n",
    "collection = conectar_mongodb(uri, db_name, collection_name)\n",
    "collection_filtrada = conectar_mongodb(uri, db_name, collection_name_filtered)"
   ],
   "id": "42cf3fbf603081f6",
   "outputs": [],
   "execution_count": null
  },
  {
   "metadata": {},
   "cell_type": "markdown",
   "source": "# Aplicando pipeline para preparação dos dados",
   "id": "d76def679f1666f8"
  },
  {
   "metadata": {},
   "cell_type": "markdown",
   "source": "Função para aplicar os pipelines de filtro",
   "id": "eaa4d3f3e9e9386e"
  },
  {
   "metadata": {},
   "cell_type": "code",
   "source": [
    "def aplicar_pipelines(collection, collection_filtrada):\n",
    "    collection_filters = filters.CollectionFilters(collection)\n",
    "    collection_filters_likes = filters.CollectionFilters(collection_filtrada)\n",
    "\n",
    "    # Aplicar pipelines\n",
    "    collection_filters.apply_pipeline1('dadosComFiltrosIniciais')\n",
    "    collection_filters.apply_pipeline2(7, 1, 'posts7anos1anos')\n",
    "    collection_filters.apply_pipeline3('postsComBDIAndInfos')\n",
    "    collection_filters.apply_pipeline4('posts')\n",
    "    collection_filters_likes.apply_pipeline6('likes')\n",
    "\n",
    "    return collection_filters.collection, collection_filters_likes.collection"
   ],
   "id": "dcb472b234e8f0ca",
   "outputs": [],
   "execution_count": null
  },
  {
   "metadata": {},
   "cell_type": "code",
   "source": [
    "# Aplicando os pipelinesc\n",
    "collection, collection_filtrada = aplicar_pipelines(collection, collection_filtrada)"
   ],
   "id": "d126ff84098dd08f",
   "outputs": [],
   "execution_count": null
  },
  {
   "metadata": {},
   "cell_type": "markdown",
   "source": "# Carregando os dados em um dataframe",
   "id": "305580acbd14b801"
  },
  {
   "metadata": {},
   "cell_type": "code",
   "source": [
    "documentos = collection.find()\n",
    "df_original = pd.DataFrame(list(documentos))"
   ],
   "id": "3a9396b40ef87465",
   "outputs": [],
   "execution_count": null
  },
  {
   "metadata": {},
   "cell_type": "code",
   "source": [
    "# Visualizar as primeiras linhas do dataframe\n",
    "df_original.head()"
   ],
   "id": "a6ab0c78ee0f3255",
   "outputs": [],
   "execution_count": null
  },
  {
   "metadata": {},
   "cell_type": "code",
   "source": [
    "documentos_likes = collection_filtrada.find()\n",
    "df_original_likes = pd.DataFrame(list(documentos_likes))"
   ],
   "id": "25453dc06c6bccef",
   "outputs": [],
   "execution_count": null
  },
  {
   "metadata": {},
   "cell_type": "code",
   "source": [
    "# Visualizar as primeiras linhas do dataframe\n",
    "df_original_likes.head()"
   ],
   "id": "cf1fadb073731e09",
   "outputs": [],
   "execution_count": null
  },
  {
   "metadata": {},
   "cell_type": "code",
   "source": [
    "# Transformando a coluna sexo em binária\n",
    "df_original['sexo'] = df_original['sexo'].map({'F': 0, 'M': 1})\n",
    "\n",
    "# Removendo colunas desnecessárias\n",
    "df_original.drop(columns=['_id', 'diaDaSemana'], inplace=True)\n",
    "\n",
    "# Lista de colunas que precisam ser convertidas\n",
    "colunas_para_converter = [\n",
    "    'pessimismo', 'tristeza', 'fracasso', 'prazer', 'culpa', 'punicao', 'estima', 'critica', 'suicida', 'choro',\n",
    "    'agitacao', 'interesse', 'indecisao', 'desvalorizacao', 'energia', 'sono', 'irritabilidade', 'apetite',\n",
    "    'concentracao', 'fadiga', 'int_sexo', 'quantAmigos'\n",
    "]\n",
    "\n",
    "\n",
    "# Função para preencher valores nulos e converter o tipo de dado\n",
    "def preencher_e_converter(df, colunas, valor_preenchimento=0, tipo_dados='int64'):\n",
    "    df[colunas] = df[colunas].fillna(valor_preenchimento)\n",
    "    df[colunas] = df[colunas].astype(tipo_dados)\n",
    "    return df"
   ],
   "id": "2c12e0c144eb8205",
   "outputs": [],
   "execution_count": null
  },
  {
   "metadata": {},
   "cell_type": "code",
   "source": "df_original = preencher_e_converter(df_original, colunas_para_converter)",
   "id": "b7ce9b2a5148b524",
   "outputs": [],
   "execution_count": null
  },
  {
   "metadata": {},
   "cell_type": "code",
   "source": "df_original.head()",
   "id": "a13498d259446569",
   "outputs": [],
   "execution_count": null
  },
  {
   "metadata": {},
   "cell_type": "code",
   "source": [
    "# Função para manipular datas e filtrar posts\n",
    "def manipular_e_filtrar_posts(df):\n",
    "    df['data'] = df['postCreatedTime'].dt.date\n",
    "    df['data'] = pd.to_datetime(df['data'])\n",
    "    df['mes'] = df['data'].dt.to_period('M')\n",
    "    df['semana'] = df['data'].dt.to_period('W')\n",
    "\n",
    "    df_data = df[df['data'].dt.year == 2017]\n",
    "    df_data = df_data[~((df_data['data'].dt.month == 12) & (df_data['data'].dt.year == 2017))]\n",
    "    df_data = df_data[df_data['data'].dt.month >= 5]\n",
    "    df_data = df_data[df_data['suicida'] == 3]\n",
    "\n",
    "    # Remover posts vazios\n",
    "    df_data = df_data.dropna(subset=['postMessage', 'postStory'], how='all')\n",
    "    df_data = df_data[~((df_data['postMessage'].str.strip() == '') & (df_data['postStory'].str.strip() == ''))]\n",
    "\n",
    "    return df_data"
   ],
   "id": "4d6e104995f814e4",
   "outputs": [],
   "execution_count": null
  },
  {
   "metadata": {},
   "cell_type": "code",
   "source": [
    "df_posts = manipular_e_filtrar_posts(df_original)\n",
    "df_posts.head()"
   ],
   "id": "2e9d4e42009627b4",
   "outputs": [],
   "execution_count": null
  },
  {
   "metadata": {},
   "cell_type": "code",
   "source": [
    "# Função para manipular datas e filtrar posts\n",
    "def manipular_e_filtrar_likes(df):\n",
    "    df['data'] = df['likeCreatedTime'].dt.date\n",
    "    df['data'] = pd.to_datetime(df['data'])\n",
    "    df['mes'] = df['data'].dt.to_period('M')\n",
    "    df['semana'] = df['data'].dt.to_period('W')\n",
    "\n",
    "    df_data = df[df['data'].dt.year == 2017]\n",
    "    df_data = df_data[~((df_data['data'].dt.month == 12) & (df_data['data'].dt.year == 2017))]\n",
    "    df_data = df_data[df_data['data'].dt.month >= 5]\n",
    "\n",
    "    return df_data"
   ],
   "id": "97695ddf4949c826",
   "outputs": [],
   "execution_count": null
  },
  {
   "metadata": {},
   "cell_type": "code",
   "source": "df_likes = manipular_e_filtrar_likes(df_original_likes)",
   "id": "c5e98078f69c698b",
   "outputs": [],
   "execution_count": null
  },
  {
   "metadata": {},
   "cell_type": "markdown",
   "source": "# Adicionar interações do usuário",
   "id": "427ae230af859a61"
  },
  {
   "metadata": {},
   "cell_type": "code",
   "source": [
    "extracao = ExtracaoInteracao(df_posts)\n",
    "df_posts_interacoes = extracao.extract_interactions()"
   ],
   "id": "78b1db1ff223db3f",
   "outputs": [],
   "execution_count": null
  },
  {
   "metadata": {},
   "cell_type": "code",
   "source": "df_posts_interacoes.head()",
   "id": "f24b694c7310264b",
   "outputs": [],
   "execution_count": null
  },
  {
   "metadata": {},
   "cell_type": "code",
   "source": "df_posts_interacoes.to_csv('df_posts_interacoes.csv', index=False)",
   "id": "c4940f0b992339a2",
   "outputs": [],
   "execution_count": null
  },
  {
   "metadata": {},
   "cell_type": "markdown",
   "source": "Função para calcular e visualizar a distribuição de postagens por usuário",
   "id": "9a3bed535d822cf7"
  },
  {
   "metadata": {},
   "cell_type": "code",
   "source": [
    "# Função para calcular e visualizar a distribuição de postagens por usuário\n",
    "def distribuicao_posts(df, coluna_contagem, label_x, titulo):\n",
    "    post_counts = df.groupby('id_usuario').size().reset_index(name=coluna_contagem)\n",
    "\n",
    "    plt.hist(post_counts[coluna_contagem], bins=50)\n",
    "    plt.xlabel(f'Número de {label_x}')\n",
    "    plt.ylabel('Quantidade de Usuários')\n",
    "    plt.title(titulo)\n",
    "    plt.show()\n",
    "\n",
    "    return post_counts"
   ],
   "id": "3bc7d494e16324b4",
   "outputs": [],
   "execution_count": null
  },
  {
   "metadata": {},
   "cell_type": "code",
   "source": [
    "quant_posts = distribuicao_posts(df_posts_interacoes, 'post_count', 'Postagens',\n",
    "                                 'Distribuição de Postagens por Usuário')"
   ],
   "id": "c0b7edfc60104451",
   "outputs": [],
   "execution_count": null
  },
  {
   "metadata": {},
   "cell_type": "code",
   "source": [
    "def distribuicao_postmessage(df, titulo):\n",
    "    df_filtrado_msg = df[df['postMessage'].notnull() & df['postMessage'].str.strip() != '']\n",
    "\n",
    "    post_counts_msg = df_filtrado_msg.groupby('id_usuario')['postMessage'].count().reset_index(name='quant_msg')\n",
    "\n",
    "    plt.hist(post_counts_msg['quant_msg'], bins=50)\n",
    "    plt.xlabel(f'Número de Postagens com Msg')\n",
    "    plt.ylabel('Quantidade de Usuários')\n",
    "    plt.title(titulo)\n",
    "    plt.show()\n",
    "\n",
    "    return post_counts_msg"
   ],
   "id": "20ec8a09a62e4e9f",
   "outputs": [],
   "execution_count": null
  },
  {
   "metadata": {},
   "cell_type": "code",
   "source": [
    "quant_msg = distribuicao_postmessage(df_posts_interacoes,\n",
    "                                     'Distribuição de Postagens com Msg por Usuário')"
   ],
   "id": "651aebb61374e6d3",
   "outputs": [],
   "execution_count": null
  },
  {
   "metadata": {},
   "cell_type": "code",
   "source": [
    "def distribuicao_poststory(df, titulo):\n",
    "    df_filtrado_story = df[df['postStory'].notnull() & df['postStory'].str.strip() != '']\n",
    "\n",
    "    post_counts_story = df_filtrado_story.groupby('id_usuario')['postStory'].count().reset_index(name='quant_story')\n",
    "\n",
    "    # Visualizar a distribuição\n",
    "    plt.hist(post_counts_story['quant_story'], bins=50)\n",
    "    plt.xlabel(f'Número de Postagens com Story')\n",
    "    plt.ylabel('Quantidade de Usuários')\n",
    "    plt.title(titulo)\n",
    "    plt.show()\n",
    "\n",
    "    return post_counts_story"
   ],
   "id": "c749a8d57cc5574f",
   "outputs": [],
   "execution_count": null
  },
  {
   "metadata": {},
   "cell_type": "code",
   "source": "quant_story = distribuicao_poststory(df_posts_interacoes, 'Distribuição de Postagens com Story por Usuário')",
   "id": "ed325c5c3e4a7848",
   "outputs": [],
   "execution_count": null
  },
  {
   "metadata": {},
   "cell_type": "code",
   "source": [
    "def distribuicao_interacoes(df, coluna1, coluna2, coluna_contagem, label_x, titulo):\n",
    "    if coluna2:\n",
    "        interacoes = df.groupby('id_usuario')[[coluna1, coluna2]].sum().reset_index()\n",
    "        interacoes[coluna_contagem] = interacoes[coluna1] + interacoes[coluna2]\n",
    "    else:\n",
    "        interacoes = df.groupby('id_usuario')[coluna1].sum().reset_index(name=coluna_contagem)\n",
    "\n",
    "    plt.hist(interacoes[coluna_contagem], bins=50)\n",
    "    plt.xlabel(label_x)\n",
    "    plt.ylabel('Quantidade de Usuários')\n",
    "    plt.title(titulo)\n",
    "    plt.show()\n",
    "\n",
    "    return interacoes"
   ],
   "id": "9a40b12a8f2c515a",
   "outputs": [],
   "execution_count": null
  },
  {
   "metadata": {},
   "cell_type": "code",
   "source": [
    "quant_profile_cover = distribuicao_interacoes(df_posts_interacoes, 'quantProfile', 'quantCover',\n",
    "                                              'quant_profile_cover', 'Quantidade de atualização de Perfil',\n",
    "                                              'Distribuição de Atualização de Perfil por Usuário')"
   ],
   "id": "3d6342bf30c58e78",
   "outputs": [],
   "execution_count": null
  },
  {
   "metadata": {},
   "cell_type": "code",
   "source": "# quantProfile,quantCover,quantAddPhotoWithOthers,quantIsWithOthers,quantAddPhoto,quantSharedPhoto,quantSharedVideo,quantSharedLink,quantSharedPost,quantSharedEvent,quantSharedMemory,quantStatus",
   "id": "9eaf5dbff630d364",
   "outputs": [],
   "execution_count": null
  },
  {
   "metadata": {},
   "cell_type": "code",
   "source": [
    "quant_profile = distribuicao_interacoes(df_posts_interacoes, 'quantProfile', None, 'quant_profile',\n",
    "                                        'Quantidade de atualização de Perfil',\n",
    "                                        'Distribuição de atualização de Perfil por Usuário')"
   ],
   "id": "620f4be1b861672c",
   "outputs": [],
   "execution_count": null
  },
  {
   "metadata": {},
   "cell_type": "code",
   "source": [
    "quant_cover = distribuicao_interacoes(df_posts_interacoes, 'quantCover', None, 'quant_cover',\n",
    "                                      'Quantidade de atualização de Capa',\n",
    "                                      'Distribuição de atualização de Capa por Usuário')"
   ],
   "id": "3dd464ac6077ca5f",
   "outputs": [],
   "execution_count": null
  },
  {
   "metadata": {},
   "cell_type": "code",
   "source": [
    "quant_photo_with_others = distribuicao_interacoes(df_posts_interacoes, 'quantAddPhotoWithOthers', None,\n",
    "                                                  'quant_photo_with_others', 'Quantidade de fotos com outras pessoas',\n",
    "                                                  'Distribuição de fotos com outras pessoas por Usuário')"
   ],
   "id": "2f1bda623f474a3d",
   "outputs": [],
   "execution_count": null
  },
  {
   "metadata": {},
   "cell_type": "code",
   "source": [
    "quant_is_with_others = distribuicao_interacoes(df_posts_interacoes, 'quantIsWithOthers', None,\n",
    "                                               'quant_is_with_others', 'Quantidade de fotos com outras pessoas',\n",
    "                                               'Distribuição de fotos com outras pessoas por Usuário')"
   ],
   "id": "182127076e4d9b10",
   "outputs": [],
   "execution_count": null
  },
  {
   "metadata": {},
   "cell_type": "code",
   "source": [
    "quant_add_photo = distribuicao_interacoes(df_posts_interacoes, 'quantAddPhoto', None,\n",
    "                                          'quant_add_photo', 'Quantidade de fotos adicionadas',\n",
    "                                          'Distribuição de fotos adicionadas por Usuário')"
   ],
   "id": "f5076a8b079506e7",
   "outputs": [],
   "execution_count": null
  },
  {
   "metadata": {},
   "cell_type": "code",
   "source": [
    "quant_shared_photo = distribuicao_interacoes(df_posts_interacoes, 'quantSharedPhoto', None,\n",
    "                                             'quant_shared_photo', 'Quantidade de fotos compartilhadas',\n",
    "                                             'Distribuição de fotos compartilhadas por Usuário')"
   ],
   "id": "90b0452b81268f24",
   "outputs": [],
   "execution_count": null
  },
  {
   "metadata": {},
   "cell_type": "code",
   "source": [
    "quant_shared_video = distribuicao_interacoes(df_posts_interacoes, 'quantSharedVideo', None,\n",
    "                                             'quant_shared_video', 'Quantidade de vídeos compartilhados',\n",
    "                                             'Distribuição de vídeos compartilhados por Usuário')"
   ],
   "id": "89c88ae55b13a422",
   "outputs": [],
   "execution_count": null
  },
  {
   "metadata": {},
   "cell_type": "code",
   "source": [
    "quant_shared_link = distribuicao_interacoes(df_posts_interacoes, 'quantSharedLink', None,\n",
    "                                            'quant_shared_link', 'Quantidade de links compartilhados',\n",
    "                                            'Distribuição de links compartilhados por Usuário')"
   ],
   "id": "86cba6aa3f6a4550",
   "outputs": [],
   "execution_count": null
  },
  {
   "metadata": {},
   "cell_type": "code",
   "source": [
    "quant_shared_post = distribuicao_interacoes(df_posts_interacoes, 'quantSharedPost', None,\n",
    "                                            'quant_shared_post', 'Quantidade de posts compartilhados',\n",
    "                                            'Distribuição de posts compartilhados por Usuário')"
   ],
   "id": "9495b6ffe2a73a9e",
   "outputs": [],
   "execution_count": null
  },
  {
   "metadata": {},
   "cell_type": "code",
   "source": [
    "quant_shared_event = distribuicao_interacoes(df_posts_interacoes, 'quantSharedEvent', None,\n",
    "                                             'quant_shared_event', 'Quantidade de eventos compartilhados',\n",
    "                                             'Distribuição de eventos compartilhados por Usuário')"
   ],
   "id": "be52c99a3cde2fd8",
   "outputs": [],
   "execution_count": null
  },
  {
   "metadata": {},
   "cell_type": "code",
   "source": [
    "quant_shared_memory = distribuicao_interacoes(df_posts_interacoes, 'quantSharedMemory', None,\n",
    "                                              'quant_shared_memory', 'Quantidade de memórias compartilhadas',\n",
    "                                              'Distribuição de memórias compartilhadas por Usuário')"
   ],
   "id": "3a5c994c50ab004a",
   "outputs": [],
   "execution_count": null
  },
  {
   "metadata": {},
   "cell_type": "code",
   "source": [
    "quant_status = distribuicao_interacoes(df_posts_interacoes, 'quantStatus', None,\n",
    "                                       'quant_status', 'Quantidade de status',\n",
    "                                       'Distribuição de status por Usuário')"
   ],
   "id": "86de9769e04ea2e3",
   "outputs": [],
   "execution_count": null
  },
  {
   "metadata": {},
   "cell_type": "code",
   "source": [
    "def aplicar_kmeans(df, coluna_contagem, n_clusters=3, label_x='Postagens'):\n",
    "    kmeans = KMeans(n_clusters=n_clusters, random_state=0)\n",
    "    df['cluster'] = kmeans.fit_predict(df[[coluna_contagem]])\n",
    "\n",
    "    sns.histplot(data=df, x=coluna_contagem, hue='cluster', bins=30, kde=True)\n",
    "    plt.xlabel(f'Número de {label_x}')\n",
    "    plt.ylabel('Frequência')\n",
    "    plt.title(f'Distribuição dos Clusters de {label_x} por Usuário')\n",
    "    plt.show()\n",
    "\n",
    "    return kmeans, df"
   ],
   "id": "2d177572f03148a0",
   "outputs": [],
   "execution_count": null
  },
  {
   "metadata": {},
   "cell_type": "code",
   "source": [
    "def calcular_silhouette_e_inercia(df, kmeans, coluna_contagem):\n",
    "    silhouette_avg = silhouette_score(df[[coluna_contagem]], kmeans.labels_)\n",
    "    inercia = kmeans.inertia_\n",
    "\n",
    "    print(f'Silhouette Score médio: {silhouette_avg}')\n",
    "    print(f'Inércia do modelo: {inercia}')"
   ],
   "id": "7e523b2548106bbe",
   "outputs": [],
   "execution_count": null
  },
  {
   "metadata": {},
   "cell_type": "code",
   "source": [
    "def calcular_inercia(df, coluna_contagem, max_clusters=10):\n",
    "    inercia = []\n",
    "    k = range(1, max_clusters + 1)\n",
    "    for c in k:\n",
    "        kmeans = KMeans(n_clusters=c, random_state=0)\n",
    "        kmeans.fit(df[[coluna_contagem]])\n",
    "        inercia.append(kmeans.inertia_)\n",
    "\n",
    "    plt.plot(k, inercia, 'bx-')\n",
    "    plt.xlabel('Número de Clusters')\n",
    "    plt.ylabel('Inércia')\n",
    "    plt.title('Método do Cotovelo para escolher o número ótimo de clusters')\n",
    "    plt.show()"
   ],
   "id": "eb2da867caef8014",
   "outputs": [],
   "execution_count": null
  },
  {
   "metadata": {},
   "cell_type": "code",
   "source": [
    "def calcular_distancias_cluster(df, kmeans, coluna_contagem):\n",
    "    distancias_intracluster = cdist(df[[coluna_contagem]], kmeans.cluster_centers_[kmeans.labels_], 'euclidean')\n",
    "    media_intracluster = distancias_intracluster.mean()\n",
    "\n",
    "    distancias_intercluster = cdist(kmeans.cluster_centers_, kmeans.cluster_centers_, 'euclidean')\n",
    "    media_intercluster = distancias_intercluster[np.triu_indices_from(distancias_intercluster, 1)].mean()\n",
    "\n",
    "    print(f'Média das distâncias intracluster: {media_intracluster}')\n",
    "    print(f'Média das distâncias intercluster: {media_intercluster}')"
   ],
   "id": "de0b3d3e45aa4123",
   "outputs": [],
   "execution_count": null
  },
  {
   "metadata": {},
   "cell_type": "code",
   "source": [
    "# Visualizar a distribuição\n",
    "post_count = df_posts_interacoes.groupby('id_usuario').size().reset_index(name='quant_posts')"
   ],
   "id": "707f7a46b8395baa",
   "outputs": [],
   "execution_count": null
  },
  {
   "metadata": {},
   "cell_type": "code",
   "source": [
    "# Aplicando a função\n",
    "kmeans, post_count_original = aplicar_kmeans(post_count, 'quant_posts', 3)"
   ],
   "id": "8772fee70e145200",
   "outputs": [],
   "execution_count": null
  },
  {
   "metadata": {},
   "cell_type": "code",
   "source": [
    "# Aplicando a função\n",
    "calcular_silhouette_e_inercia(post_count, kmeans, 'quant_posts')"
   ],
   "id": "7aa7b9e9b0e2ff39",
   "outputs": [],
   "execution_count": null
  },
  {
   "metadata": {},
   "cell_type": "code",
   "source": [
    "# Aplicando a função\n",
    "calcular_inercia(post_count, 'quant_posts')"
   ],
   "id": "e7284b548c105415",
   "outputs": [],
   "execution_count": null
  },
  {
   "metadata": {},
   "cell_type": "code",
   "source": [
    "# Aplicando a função\n",
    "calcular_distancias_cluster(post_count, kmeans, 'quant_posts')"
   ],
   "id": "30b20004bbe9d77a",
   "outputs": [],
   "execution_count": null
  },
  {
   "metadata": {},
   "cell_type": "code",
   "source": [
    "def decompor_e_teste_mk(df_cluster, periodo, tipo_serie='posts'):\n",
    "    resultados_mk = []\n",
    "\n",
    "    for usuario in df_cluster['id_usuario'].unique():\n",
    "        df_usuario = df_cluster[df_cluster['id_usuario'] == usuario]\n",
    "\n",
    "        eventos_por_dia = df_usuario.groupby('data').size()\n",
    "\n",
    "        if len(eventos_por_dia) >= 2 * periodo:\n",
    "            try:\n",
    "                resultado = seasonal_decompose(eventos_por_dia, model='additive', period=periodo)\n",
    "                tendencia = resultado.trend.dropna()\n",
    "\n",
    "                if len(tendencia) > 0:\n",
    "                    result = original_test(tendencia)\n",
    "\n",
    "                    if hasattr(result, 'trend'):\n",
    "                        resultados_mk.append({\n",
    "                            'id_usuario': usuario,\n",
    "                            'trend': result.trend,\n",
    "                            'h': result.h,\n",
    "                            'p-valor': result.p,\n",
    "                            'z': result.z,\n",
    "                            'Tau': result.Tau,\n",
    "                            's': result.s,\n",
    "                            'var_s': result.var_s,\n",
    "                            'slope': result.slope,\n",
    "                            'intercept': result.intercept\n",
    "                        })\n",
    "                    else:\n",
    "                        print(f\"Usuário {usuario} - Resultado do teste de Mann-Kendall sem 'trend'.\")\n",
    "                else:\n",
    "                    print(f\"Usuário {usuario} - Não foi possível decompor dados suficientes para tendência.\")\n",
    "            except ValueError as e:\n",
    "                print(f\"Erro ao decompor a série para o usuário {usuario}: {e}\")\n",
    "        else:\n",
    "            print(\n",
    "                f\"Usuário {usuario} não tem observações suficientes para decomposição. Necessário: {2 * periodo}, disponível: {len(eventos_por_dia)}\")\n",
    "\n",
    "    # Criando o DataFrame apenas se houver resultados suficientes\n",
    "    if resultados_mk:\n",
    "        df_resultados_mk = pd.DataFrame(resultados_mk)\n",
    "\n",
    "        if 'trend' in df_resultados_mk.columns:\n",
    "            contagem_tendencias = df_resultados_mk['trend'].value_counts()\n",
    "            print(contagem_tendencias)\n",
    "\n",
    "            total_usuarios = df_resultados_mk.shape[0]\n",
    "            percentuais = (contagem_tendencias / total_usuarios) * 100\n",
    "            print(percentuais)\n",
    "\n",
    "            # Gráfico de barras das tendências\n",
    "            plt.figure(figsize=(8, 6))\n",
    "            sns.countplot(data=df_resultados_mk, x='trend', order=['increasing', 'decreasing', 'no trend'])\n",
    "            plt.title(f'Distribuição de Tendências entre Usuários ({tipo_serie.capitalize()})')\n",
    "            plt.xlabel('Tipo de Tendência')\n",
    "            plt.ylabel('Número de Usuários')\n",
    "            plt.show()\n",
    "\n",
    "            # Gráfico de distribuição dos slopes\n",
    "            plt.figure(figsize=(10, 6))\n",
    "            sns.histplot(df_resultados_mk['slope'], bins=20, kde=True)\n",
    "            plt.title(f'Distribuição dos Slopes entre Usuários ({tipo_serie.capitalize()})')\n",
    "            plt.xlabel('Slope')\n",
    "            plt.ylabel('Frequência')\n",
    "            plt.show()\n",
    "\n",
    "        else:\n",
    "            print(\"Nenhuma tendência foi detectada nos dados.\")\n",
    "\n",
    "        return df_resultados_mk\n",
    "    else:\n",
    "        print(\"Nenhum dado disponível para análise.\")\n",
    "        return pd.DataFrame()"
   ],
   "id": "2da013bbdcd89747",
   "outputs": [],
   "execution_count": null
  },
  {
   "metadata": {},
   "cell_type": "code",
   "source": [
    "# Criar um DataFrame para cada cluster de postagens\n",
    "df_cluster0 = df_posts_interacoes[\n",
    "    df_posts_interacoes['id_usuario'].isin(post_count[post_count['cluster'] == 0]['id_usuario'])]\n",
    "\n",
    "df_cluster1 = df_posts_interacoes[\n",
    "    df_posts_interacoes['id_usuario'].isin(post_count[post_count['cluster'] == 1]['id_usuario'])]\n",
    "\n",
    "df_cluster2 = df_posts_interacoes[\n",
    "    df_posts_interacoes['id_usuario'].isin(post_count[post_count['cluster'] == 2]['id_usuario'])]"
   ],
   "id": "d3cd62ff85283527",
   "outputs": [],
   "execution_count": null
  },
  {
   "metadata": {},
   "cell_type": "code",
   "source": [
    "resultados_mk_original_cluster0 = decompor_e_teste_mk(df_cluster0, 7)\n",
    "resultados_mk_original_cluster1 = decompor_e_teste_mk(df_cluster1, 7)\n",
    "resultados_mk_original_cluster2 = decompor_e_teste_mk(df_cluster2, 7)"
   ],
   "id": "f08a5ed30603f0e7",
   "outputs": [],
   "execution_count": null
  },
  {
   "metadata": {},
   "cell_type": "code",
   "source": [
    "resultados_mk_original_cluster0.to_csv('resultados_mk_original_cluster0.csv', index=False)\n",
    "resultados_mk_original_cluster1.to_csv('resultados_mk_original_cluster1.csv', index=False)\n",
    "resultados_mk_original_cluster2.to_csv('resultados_mk_original_cluster2.csv', index=False)"
   ],
   "id": "425b8531b8824e9d",
   "outputs": [],
   "execution_count": null
  },
  {
   "metadata": {},
   "cell_type": "code",
   "source": [
    "df_cluster0.to_csv('df_cluster0.csv', index=False)\n",
    "df_cluster1.to_csv('df_cluster1.csv', index=False)\n",
    "df_cluster2.to_csv('df_cluster2.csv', index=False)"
   ],
   "id": "588dc2af56b3358d",
   "outputs": [],
   "execution_count": null
  },
  {
   "metadata": {},
   "cell_type": "code",
   "source": [
    "def calcular_e_plotar_media_respostas_bdi(df_cluster, nome_cluster):\n",
    "    # Calcular as respostas médias do BDI para cada usuário no cluster\n",
    "    df_respostas_bdi = df_cluster.groupby(['id_usuario']).agg(\n",
    "        pessimismo=('pessimismo', 'first'),\n",
    "        tristeza=('tristeza', 'first'),\n",
    "        fracasso=('fracasso', 'first'),\n",
    "        prazer=('prazer', 'first'),\n",
    "        culpa=('culpa', 'first'),\n",
    "        punicao=('punicao', 'first'),\n",
    "        estima=('estima', 'first'),\n",
    "        critica=('critica', 'first'),\n",
    "        suicida=('suicida', 'first'),\n",
    "        choro=('choro', 'first'),\n",
    "        agitacao=('agitacao', 'first'),\n",
    "        interesse=('interesse', 'first'),\n",
    "        indecisao=('indecisao', 'first'),\n",
    "        desvalorizacao=('desvalorizacao', 'first'),\n",
    "        energia=('energia', 'first'),\n",
    "        sono=('sono', 'first'),\n",
    "        irritabilidade=('irritabilidade', 'first'),\n",
    "        apetite=('apetite', 'first'),\n",
    "        concentracao=('concentracao', 'first'),\n",
    "        fadiga=('fadiga', 'first'),\n",
    "        int_sexo=('int_sexo', 'first'),\n",
    "    ).reset_index()\n",
    "\n",
    "    # Remover a coluna 'id_usuario'\n",
    "    df_media_respostas_bdi = df_respostas_bdi.drop(columns=['id_usuario'])\n",
    "\n",
    "    # Calcular a média de cada resposta do BDI\n",
    "    media_respostas_bdi = df_media_respostas_bdi.mean()\n",
    "\n",
    "    print(media_respostas_bdi)\n",
    "\n",
    "    # Plotar as médias\n",
    "    plt.figure(figsize=(10, 6))\n",
    "    media_respostas_bdi.plot(kind='bar')\n",
    "    plt.xlabel('Pergunta')\n",
    "    plt.ylabel('Média da Resposta')\n",
    "    plt.title(f'Média das Respostas do BDI - {nome_cluster}')\n",
    "    plt.show()\n",
    "\n",
    "    # Retornar as médias\n",
    "    return media_respostas_bdi"
   ],
   "id": "15d9af453bdd2d15",
   "outputs": [],
   "execution_count": null
  },
  {
   "metadata": {},
   "cell_type": "code",
   "source": [
    "# Aplicando para o cluster 0\n",
    "media_respostas_cluster0 = calcular_e_plotar_media_respostas_bdi(df_cluster0, \"Cluster 0\")\n",
    "\n",
    "# Aplicando para o cluster 1\n",
    "media_respostas_cluster1 = calcular_e_plotar_media_respostas_bdi(df_cluster1, \"Cluster 1\")\n",
    "\n",
    "# Aplicando para o cluster 2\n",
    "media_respostas_cluster2 = calcular_e_plotar_media_respostas_bdi(df_cluster2, \"Cluster 2\")"
   ],
   "id": "688a62dd18511eb9",
   "outputs": [],
   "execution_count": null
  },
  {
   "metadata": {},
   "cell_type": "code",
   "source": [
    "def calcular_e_plotar_media_interacoes(df_cluster, nome_cluster):\n",
    "    df_interacoes = df_cluster.groupby(['id_usuario']).agg(\n",
    "        quant_profile=('quantProfile', 'sum'),\n",
    "        quant_cover=('quantCover', 'sum'),\n",
    "        quant_photo_with_others=('quantAddPhotoWithOthers', 'sum'),\n",
    "        quant_is_with_others=('quantIsWithOthers', 'sum'),\n",
    "        quant_add_photo=('quantAddPhoto', 'sum'),\n",
    "        quant_shared_photo=('quantSharedPhoto', 'sum'),\n",
    "        quant_shared_video=('quantSharedVideo', 'sum'),\n",
    "        quant_shared_link=('quantSharedLink', 'sum'),\n",
    "        quant_shared_post=('quantSharedPost', 'sum'),\n",
    "        quant_shared_event=('quantSharedEvent', 'sum'),\n",
    "        quant_shared_memory=('quantSharedMemory', 'sum'),\n",
    "        quant_status=('quantStatus', 'sum'),\n",
    "    ).reset_index()\n",
    "\n",
    "    # Remover a coluna 'id_usuario'\n",
    "    df_media_interacoes = df_interacoes.drop(columns=['id_usuario'])\n",
    "\n",
    "    # Calcular a média de cada interação\n",
    "    media_interacoes = df_media_interacoes.mean()\n",
    "\n",
    "    print(media_interacoes)\n",
    "\n",
    "    # Plotar as médias\n",
    "    plt.figure(figsize=(10, 6))\n",
    "    media_interacoes.plot(kind='bar')\n",
    "    plt.xlabel('Tipo de Interação')\n",
    "    plt.ylabel('Média da Interação')\n",
    "    plt.title(f'Média das Interações - {nome_cluster}')\n",
    "    plt.show()\n",
    "\n",
    "    # Retornar as médias\n",
    "    return media_interacoes"
   ],
   "id": "ff0772c94c72ea6f",
   "outputs": [],
   "execution_count": null
  },
  {
   "metadata": {},
   "cell_type": "code",
   "source": [
    "# Aplicando para o cluster 0\n",
    "media_interacoes_cluster0 = calcular_e_plotar_media_interacoes(df_cluster0, \"Cluster 0\")\n",
    "\n",
    "# Aplicando para o cluster 1\n",
    "media_interacoes_cluster1 = calcular_e_plotar_media_interacoes(df_cluster1, \"Cluster 1\")\n",
    "\n",
    "# Aplicando para o cluster 2\n",
    "media_interacoes_cluster2 = calcular_e_plotar_media_interacoes(df_cluster2, \"Cluster 2\")"
   ],
   "id": "ac2c6c7057206e45",
   "outputs": [],
   "execution_count": null
  },
  {
   "metadata": {},
   "cell_type": "markdown",
   "source": "# Likes",
   "id": "a3b0800b1be608ec"
  },
  {
   "metadata": {},
   "cell_type": "code",
   "source": [
    "df_likes_cluster0 = df_likes[df_likes['id_usuario'].isin(post_count[post_count['cluster'] == 0]['id_usuario'])]\n",
    "df_likes_cluster1 = df_likes[df_likes['id_usuario'].isin(post_count[post_count['cluster'] == 1]['id_usuario'])]\n",
    "df_likes_cluster2 = df_likes[df_likes['id_usuario'].isin(post_count[post_count['cluster'] == 2]['id_usuario'])]"
   ],
   "id": "d3523e26bae1a62d",
   "outputs": [],
   "execution_count": null
  },
  {
   "metadata": {},
   "cell_type": "code",
   "source": [
    "df_likes_cluster0.to_csv('df_likes_cluster0.csv', index=False)\n",
    "df_likes_cluster1.to_csv('df_likes_cluster1.csv', index=False)\n",
    "df_likes_cluster2.to_csv('df_likes_cluster2.csv', index=False)"
   ],
   "id": "a26570b02760ddf6",
   "outputs": [],
   "execution_count": null
  },
  {
   "metadata": {},
   "cell_type": "code",
   "source": [
    "like_count_cluster0 = df_likes_cluster0.groupby('id_usuario').size().reset_index(name='quant_like_cluster0')\n",
    "like_count_cluster1 = df_likes_cluster1.groupby('id_usuario').size().reset_index(name='quant_like_cluster1')\n",
    "like_count_cluster2 = df_likes_cluster2.groupby('id_usuario').size().reset_index(name='quant_like_cluster2')"
   ],
   "id": "17f1fe632b927afd",
   "outputs": [],
   "execution_count": null
  },
  {
   "metadata": {},
   "cell_type": "code",
   "source": [
    "resultados_mk_like_cluster0 = decompor_e_teste_mk(df_likes_cluster0, 7)\n",
    "resultados_mk_like_cluster1 = decompor_e_teste_mk(df_likes_cluster1, 7)\n",
    "resultados_mk_like_cluster2 = decompor_e_teste_mk(df_likes_cluster2, 7)"
   ],
   "id": "3c8b3d3bac2ec9ab",
   "outputs": [],
   "execution_count": null
  }
 ],
 "metadata": {
  "kernelspec": {
   "display_name": "Python 3",
   "language": "python",
   "name": "python3"
  },
  "language_info": {
   "codemirror_mode": {
    "name": "ipython",
    "version": 2
   },
   "file_extension": ".py",
   "mimetype": "text/x-python",
   "name": "python",
   "nbconvert_exporter": "python",
   "pygments_lexer": "ipython2",
   "version": "2.7.6"
  }
 },
 "nbformat": 4,
 "nbformat_minor": 5
}
